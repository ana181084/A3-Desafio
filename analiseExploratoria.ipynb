{
  "cells": [
    {
      "cell_type": "code",
      "execution_count": 2,
      "metadata": {
        "id": "S5eUCootHYNa"
      },
      "outputs": [],
      "source": [
        "# Importação das bibliotecas\n",
        "import pandas as pd\n",
        "import plotly.express as px\n",
        "import matplotlib.pyplot as plt"
      ]
    },
    {
      "cell_type": "markdown",
      "source": [
        "# Hipoteses Levantadas\n"
      ],
      "metadata": {
        "id": "LQJjHxUMV8yb"
      }
    },
    {
      "cell_type": "code",
      "execution_count": 7,
      "metadata": {
        "colab": {
          "base_uri": "https://localhost:8080/"
        },
        "id": "mYj4jrQwHfcq",
        "outputId": "f4cf6fb3-2a52-4e0e-fbe0-40d18c1f18ba"
      },
      "outputs": [
        {
          "output_type": "stream",
          "name": "stderr",
          "text": [
            "/usr/local/lib/python3.7/dist-packages/IPython/core/interactiveshell.py:2882: FutureWarning: The error_bad_lines argument has been deprecated and will be removed in a future version.\n",
            "\n",
            "\n",
            "  exec(code_obj, self.user_global_ns, self.user_ns)\n"
          ]
        }
      ],
      "source": [
        "#Importação dos dados\n",
        "ocorrencia = pd.read_csv('/content/ocorrencia.csv',  sep = ';',error_bad_lines=False)\n",
        "recomendacao = pd.read_csv('/content/recomendacao.csv',  sep = ';',error_bad_lines=False)\n",
        "ocorrencia_tipo = pd.read_csv('/content/ocorrencia_tipo.csv',  sep = ';',error_bad_lines=False)\n",
        "aeronave = pd.read_csv('/content/aeronave.csv',  sep = ';',error_bad_lines=False)\n",
        "fator_contribuinte = pd.read_csv('/content/fator_contribuinte.csv',  sep = ';',error_bad_lines=False)\n"
      ]
    },
    {
      "cell_type": "markdown",
      "source": [
        "##1) Qual é a porcentagem de classificação das ocorrências relatadas?"
      ],
      "metadata": {
        "id": "P9Rt3Db-W4uc"
      }
    },
    {
      "cell_type": "code",
      "execution_count": 8,
      "metadata": {
        "id": "_iu8tHEfHrWx",
        "colab": {
          "base_uri": "https://localhost:8080/",
          "height": 541
        },
        "outputId": "c745fa55-4dac-4d9f-e10e-05a922bce975"
      },
      "outputs": [
        {
          "output_type": "display_data",
          "data": {
            "text/html": [
              "<html>\n",
              "<head><meta charset=\"utf-8\" /></head>\n",
              "<body>\n",
              "    <div>            <script src=\"https://cdnjs.cloudflare.com/ajax/libs/mathjax/2.7.5/MathJax.js?config=TeX-AMS-MML_SVG\"></script><script type=\"text/javascript\">if (window.MathJax) {MathJax.Hub.Config({SVG: {font: \"STIX-Web\"}});}</script>                <script type=\"text/javascript\">window.PlotlyConfig = {MathJaxConfig: 'local'};</script>\n",
              "        <script src=\"https://cdn.plot.ly/plotly-2.8.3.min.js\"></script>                <div id=\"17f56b50-4bef-4b02-a0ad-4aaad2e8ad0f\" class=\"plotly-graph-div\" style=\"height:525px; width:100%;\"></div>            <script type=\"text/javascript\">                                    window.PLOTLYENV=window.PLOTLYENV || {};                                    if (document.getElementById(\"17f56b50-4bef-4b02-a0ad-4aaad2e8ad0f\")) {                    Plotly.newPlot(                        \"17f56b50-4bef-4b02-a0ad-4aaad2e8ad0f\",                        [{\"domain\":{\"x\":[0.0,1.0],\"y\":[0.0,1.0]},\"hovertemplate\":\"label=%{label}<br>value=%{value}<extra></extra>\",\"labels\":[\"INCIDENTE\",\"ACIDENTE\",\"INCIDENTE GRAVE\"],\"legendgroup\":\"\",\"name\":\"\",\"showlegend\":true,\"values\":[2809,1667,691],\"type\":\"pie\"}],                        {\"template\":{\"data\":{\"bar\":[{\"error_x\":{\"color\":\"#2a3f5f\"},\"error_y\":{\"color\":\"#2a3f5f\"},\"marker\":{\"line\":{\"color\":\"#E5ECF6\",\"width\":0.5},\"pattern\":{\"fillmode\":\"overlay\",\"size\":10,\"solidity\":0.2}},\"type\":\"bar\"}],\"barpolar\":[{\"marker\":{\"line\":{\"color\":\"#E5ECF6\",\"width\":0.5},\"pattern\":{\"fillmode\":\"overlay\",\"size\":10,\"solidity\":0.2}},\"type\":\"barpolar\"}],\"carpet\":[{\"aaxis\":{\"endlinecolor\":\"#2a3f5f\",\"gridcolor\":\"white\",\"linecolor\":\"white\",\"minorgridcolor\":\"white\",\"startlinecolor\":\"#2a3f5f\"},\"baxis\":{\"endlinecolor\":\"#2a3f5f\",\"gridcolor\":\"white\",\"linecolor\":\"white\",\"minorgridcolor\":\"white\",\"startlinecolor\":\"#2a3f5f\"},\"type\":\"carpet\"}],\"choropleth\":[{\"colorbar\":{\"outlinewidth\":0,\"ticks\":\"\"},\"type\":\"choropleth\"}],\"contour\":[{\"colorbar\":{\"outlinewidth\":0,\"ticks\":\"\"},\"colorscale\":[[0.0,\"#0d0887\"],[0.1111111111111111,\"#46039f\"],[0.2222222222222222,\"#7201a8\"],[0.3333333333333333,\"#9c179e\"],[0.4444444444444444,\"#bd3786\"],[0.5555555555555556,\"#d8576b\"],[0.6666666666666666,\"#ed7953\"],[0.7777777777777778,\"#fb9f3a\"],[0.8888888888888888,\"#fdca26\"],[1.0,\"#f0f921\"]],\"type\":\"contour\"}],\"contourcarpet\":[{\"colorbar\":{\"outlinewidth\":0,\"ticks\":\"\"},\"type\":\"contourcarpet\"}],\"heatmap\":[{\"colorbar\":{\"outlinewidth\":0,\"ticks\":\"\"},\"colorscale\":[[0.0,\"#0d0887\"],[0.1111111111111111,\"#46039f\"],[0.2222222222222222,\"#7201a8\"],[0.3333333333333333,\"#9c179e\"],[0.4444444444444444,\"#bd3786\"],[0.5555555555555556,\"#d8576b\"],[0.6666666666666666,\"#ed7953\"],[0.7777777777777778,\"#fb9f3a\"],[0.8888888888888888,\"#fdca26\"],[1.0,\"#f0f921\"]],\"type\":\"heatmap\"}],\"heatmapgl\":[{\"colorbar\":{\"outlinewidth\":0,\"ticks\":\"\"},\"colorscale\":[[0.0,\"#0d0887\"],[0.1111111111111111,\"#46039f\"],[0.2222222222222222,\"#7201a8\"],[0.3333333333333333,\"#9c179e\"],[0.4444444444444444,\"#bd3786\"],[0.5555555555555556,\"#d8576b\"],[0.6666666666666666,\"#ed7953\"],[0.7777777777777778,\"#fb9f3a\"],[0.8888888888888888,\"#fdca26\"],[1.0,\"#f0f921\"]],\"type\":\"heatmapgl\"}],\"histogram\":[{\"marker\":{\"pattern\":{\"fillmode\":\"overlay\",\"size\":10,\"solidity\":0.2}},\"type\":\"histogram\"}],\"histogram2d\":[{\"colorbar\":{\"outlinewidth\":0,\"ticks\":\"\"},\"colorscale\":[[0.0,\"#0d0887\"],[0.1111111111111111,\"#46039f\"],[0.2222222222222222,\"#7201a8\"],[0.3333333333333333,\"#9c179e\"],[0.4444444444444444,\"#bd3786\"],[0.5555555555555556,\"#d8576b\"],[0.6666666666666666,\"#ed7953\"],[0.7777777777777778,\"#fb9f3a\"],[0.8888888888888888,\"#fdca26\"],[1.0,\"#f0f921\"]],\"type\":\"histogram2d\"}],\"histogram2dcontour\":[{\"colorbar\":{\"outlinewidth\":0,\"ticks\":\"\"},\"colorscale\":[[0.0,\"#0d0887\"],[0.1111111111111111,\"#46039f\"],[0.2222222222222222,\"#7201a8\"],[0.3333333333333333,\"#9c179e\"],[0.4444444444444444,\"#bd3786\"],[0.5555555555555556,\"#d8576b\"],[0.6666666666666666,\"#ed7953\"],[0.7777777777777778,\"#fb9f3a\"],[0.8888888888888888,\"#fdca26\"],[1.0,\"#f0f921\"]],\"type\":\"histogram2dcontour\"}],\"mesh3d\":[{\"colorbar\":{\"outlinewidth\":0,\"ticks\":\"\"},\"type\":\"mesh3d\"}],\"parcoords\":[{\"line\":{\"colorbar\":{\"outlinewidth\":0,\"ticks\":\"\"}},\"type\":\"parcoords\"}],\"pie\":[{\"automargin\":true,\"type\":\"pie\"}],\"scatter\":[{\"marker\":{\"colorbar\":{\"outlinewidth\":0,\"ticks\":\"\"}},\"type\":\"scatter\"}],\"scatter3d\":[{\"line\":{\"colorbar\":{\"outlinewidth\":0,\"ticks\":\"\"}},\"marker\":{\"colorbar\":{\"outlinewidth\":0,\"ticks\":\"\"}},\"type\":\"scatter3d\"}],\"scattercarpet\":[{\"marker\":{\"colorbar\":{\"outlinewidth\":0,\"ticks\":\"\"}},\"type\":\"scattercarpet\"}],\"scattergeo\":[{\"marker\":{\"colorbar\":{\"outlinewidth\":0,\"ticks\":\"\"}},\"type\":\"scattergeo\"}],\"scattergl\":[{\"marker\":{\"colorbar\":{\"outlinewidth\":0,\"ticks\":\"\"}},\"type\":\"scattergl\"}],\"scattermapbox\":[{\"marker\":{\"colorbar\":{\"outlinewidth\":0,\"ticks\":\"\"}},\"type\":\"scattermapbox\"}],\"scatterpolar\":[{\"marker\":{\"colorbar\":{\"outlinewidth\":0,\"ticks\":\"\"}},\"type\":\"scatterpolar\"}],\"scatterpolargl\":[{\"marker\":{\"colorbar\":{\"outlinewidth\":0,\"ticks\":\"\"}},\"type\":\"scatterpolargl\"}],\"scatterternary\":[{\"marker\":{\"colorbar\":{\"outlinewidth\":0,\"ticks\":\"\"}},\"type\":\"scatterternary\"}],\"surface\":[{\"colorbar\":{\"outlinewidth\":0,\"ticks\":\"\"},\"colorscale\":[[0.0,\"#0d0887\"],[0.1111111111111111,\"#46039f\"],[0.2222222222222222,\"#7201a8\"],[0.3333333333333333,\"#9c179e\"],[0.4444444444444444,\"#bd3786\"],[0.5555555555555556,\"#d8576b\"],[0.6666666666666666,\"#ed7953\"],[0.7777777777777778,\"#fb9f3a\"],[0.8888888888888888,\"#fdca26\"],[1.0,\"#f0f921\"]],\"type\":\"surface\"}],\"table\":[{\"cells\":{\"fill\":{\"color\":\"#EBF0F8\"},\"line\":{\"color\":\"white\"}},\"header\":{\"fill\":{\"color\":\"#C8D4E3\"},\"line\":{\"color\":\"white\"}},\"type\":\"table\"}]},\"layout\":{\"annotationdefaults\":{\"arrowcolor\":\"#2a3f5f\",\"arrowhead\":0,\"arrowwidth\":1},\"autotypenumbers\":\"strict\",\"coloraxis\":{\"colorbar\":{\"outlinewidth\":0,\"ticks\":\"\"}},\"colorscale\":{\"diverging\":[[0,\"#8e0152\"],[0.1,\"#c51b7d\"],[0.2,\"#de77ae\"],[0.3,\"#f1b6da\"],[0.4,\"#fde0ef\"],[0.5,\"#f7f7f7\"],[0.6,\"#e6f5d0\"],[0.7,\"#b8e186\"],[0.8,\"#7fbc41\"],[0.9,\"#4d9221\"],[1,\"#276419\"]],\"sequential\":[[0.0,\"#0d0887\"],[0.1111111111111111,\"#46039f\"],[0.2222222222222222,\"#7201a8\"],[0.3333333333333333,\"#9c179e\"],[0.4444444444444444,\"#bd3786\"],[0.5555555555555556,\"#d8576b\"],[0.6666666666666666,\"#ed7953\"],[0.7777777777777778,\"#fb9f3a\"],[0.8888888888888888,\"#fdca26\"],[1.0,\"#f0f921\"]],\"sequentialminus\":[[0.0,\"#0d0887\"],[0.1111111111111111,\"#46039f\"],[0.2222222222222222,\"#7201a8\"],[0.3333333333333333,\"#9c179e\"],[0.4444444444444444,\"#bd3786\"],[0.5555555555555556,\"#d8576b\"],[0.6666666666666666,\"#ed7953\"],[0.7777777777777778,\"#fb9f3a\"],[0.8888888888888888,\"#fdca26\"],[1.0,\"#f0f921\"]]},\"colorway\":[\"#636efa\",\"#EF553B\",\"#00cc96\",\"#ab63fa\",\"#FFA15A\",\"#19d3f3\",\"#FF6692\",\"#B6E880\",\"#FF97FF\",\"#FECB52\"],\"font\":{\"color\":\"#2a3f5f\"},\"geo\":{\"bgcolor\":\"white\",\"lakecolor\":\"white\",\"landcolor\":\"#E5ECF6\",\"showlakes\":true,\"showland\":true,\"subunitcolor\":\"white\"},\"hoverlabel\":{\"align\":\"left\"},\"hovermode\":\"closest\",\"mapbox\":{\"style\":\"light\"},\"paper_bgcolor\":\"white\",\"plot_bgcolor\":\"#E5ECF6\",\"polar\":{\"angularaxis\":{\"gridcolor\":\"white\",\"linecolor\":\"white\",\"ticks\":\"\"},\"bgcolor\":\"#E5ECF6\",\"radialaxis\":{\"gridcolor\":\"white\",\"linecolor\":\"white\",\"ticks\":\"\"}},\"scene\":{\"xaxis\":{\"backgroundcolor\":\"#E5ECF6\",\"gridcolor\":\"white\",\"gridwidth\":2,\"linecolor\":\"white\",\"showbackground\":true,\"ticks\":\"\",\"zerolinecolor\":\"white\"},\"yaxis\":{\"backgroundcolor\":\"#E5ECF6\",\"gridcolor\":\"white\",\"gridwidth\":2,\"linecolor\":\"white\",\"showbackground\":true,\"ticks\":\"\",\"zerolinecolor\":\"white\"},\"zaxis\":{\"backgroundcolor\":\"#E5ECF6\",\"gridcolor\":\"white\",\"gridwidth\":2,\"linecolor\":\"white\",\"showbackground\":true,\"ticks\":\"\",\"zerolinecolor\":\"white\"}},\"shapedefaults\":{\"line\":{\"color\":\"#2a3f5f\"}},\"ternary\":{\"aaxis\":{\"gridcolor\":\"white\",\"linecolor\":\"white\",\"ticks\":\"\"},\"baxis\":{\"gridcolor\":\"white\",\"linecolor\":\"white\",\"ticks\":\"\"},\"bgcolor\":\"#E5ECF6\",\"caxis\":{\"gridcolor\":\"white\",\"linecolor\":\"white\",\"ticks\":\"\"}},\"title\":{\"x\":0.05},\"xaxis\":{\"automargin\":true,\"gridcolor\":\"white\",\"linecolor\":\"white\",\"ticks\":\"\",\"title\":{\"standoff\":15},\"zerolinecolor\":\"white\",\"zerolinewidth\":2},\"yaxis\":{\"automargin\":true,\"gridcolor\":\"white\",\"linecolor\":\"white\",\"ticks\":\"\",\"title\":{\"standoff\":15},\"zerolinecolor\":\"white\",\"zerolinewidth\":2}}},\"legend\":{\"tracegroupgap\":0},\"margin\":{\"t\":60}},                        {\"responsive\": true}                    ).then(function(){\n",
              "                            \n",
              "var gd = document.getElementById('17f56b50-4bef-4b02-a0ad-4aaad2e8ad0f');\n",
              "var x = new MutationObserver(function (mutations, observer) {{\n",
              "        var display = window.getComputedStyle(gd).display;\n",
              "        if (!display || display === 'none') {{\n",
              "            console.log([gd, 'removed!']);\n",
              "            Plotly.purge(gd);\n",
              "            observer.disconnect();\n",
              "        }}\n",
              "}});\n",
              "\n",
              "// Listen for the removal of the full notebook cells\n",
              "var notebookContainer = gd.closest('#notebook-container');\n",
              "if (notebookContainer) {{\n",
              "    x.observe(notebookContainer, {childList: true});\n",
              "}}\n",
              "\n",
              "// Listen for the clearing of the current output cell\n",
              "var outputEl = gd.closest('.output');\n",
              "if (outputEl) {{\n",
              "    x.observe(outputEl, {childList: true});\n",
              "}}\n",
              "\n",
              "                        })                };                            </script>        </div>\n",
              "</body>\n",
              "</html>"
            ]
          },
          "metadata": {}
        }
      ],
      "source": [
        "fig = px.pie(ocorrencia, values=ocorrencia[\"ocorrencia_classificacao\"].value_counts(),\\\n",
        "             names= ocorrencia[\"ocorrencia_classificacao\"].value_counts().index )\n",
        "fig.show()"
      ]
    },
    {
      "cell_type": "markdown",
      "source": [
        "A porcentagem de ocorrências de acidentes foi 32,3%(equivalente a 1667 ocorrências).  O acidente representa justamente uma ocorrência mais significativa em termos de perdas materiais e humanas. Por esta razão, as análises apresentadas no restante deste trabalho consideram apenas os acidentes\n"
      ],
      "metadata": {
        "id": "-sleosZJZDH-"
      }
    },
    {
      "cell_type": "markdown",
      "source": [
        "##2) Qual são os tipos de danos mais relatados nas ocorrências de acidente?"
      ],
      "metadata": {
        "id": "GjuO1AC7XPlk"
      }
    },
    {
      "cell_type": "code",
      "source": [
        "#Selecionar amostras acidente\n",
        "amostra_acidente = ocorrencia.loc[ocorrencia.ocorrencia_classificacao=='ACIDENTE']"
      ],
      "metadata": {
        "id": "DVlusD9YysX2"
      },
      "execution_count": 16,
      "outputs": []
    },
    {
      "cell_type": "code",
      "source": [
        "#Ocorrência com aeronave\n",
        "amostra_acidente = pd.merge(amostra_acidente , aeronave[['codigo_ocorrencia2','aeronave_nivel_dano','aeronave_tipo_veiculo','aeronave_motor_tipo']], how = 'inner', on = 'codigo_ocorrencia2')\n"
      ],
      "metadata": {
        "id": "AlWiptxQc-PG"
      },
      "execution_count": 17,
      "outputs": []
    },
    {
      "cell_type": "code",
      "execution_count": 18,
      "metadata": {
        "id": "hopcbc_zINSh",
        "colab": {
          "base_uri": "https://localhost:8080/",
          "height": 541
        },
        "outputId": "e33e54e6-c85e-4e1a-a501-f02214865abb"
      },
      "outputs": [
        {
          "output_type": "display_data",
          "data": {
            "text/html": [
              "<html>\n",
              "<head><meta charset=\"utf-8\" /></head>\n",
              "<body>\n",
              "    <div>            <script src=\"https://cdnjs.cloudflare.com/ajax/libs/mathjax/2.7.5/MathJax.js?config=TeX-AMS-MML_SVG\"></script><script type=\"text/javascript\">if (window.MathJax) {MathJax.Hub.Config({SVG: {font: \"STIX-Web\"}});}</script>                <script type=\"text/javascript\">window.PlotlyConfig = {MathJaxConfig: 'local'};</script>\n",
              "        <script src=\"https://cdn.plot.ly/plotly-2.8.3.min.js\"></script>                <div id=\"a294d5d8-46a2-437b-afc4-744252b291bc\" class=\"plotly-graph-div\" style=\"height:525px; width:100%;\"></div>            <script type=\"text/javascript\">                                    window.PLOTLYENV=window.PLOTLYENV || {};                                    if (document.getElementById(\"a294d5d8-46a2-437b-afc4-744252b291bc\")) {                    Plotly.newPlot(                        \"a294d5d8-46a2-437b-afc4-744252b291bc\",                        [{\"domain\":{\"x\":[0.0,1.0],\"y\":[0.0,1.0]},\"hovertemplate\":\"label=%{label}<br>value=%{value}<extra></extra>\",\"labels\":[\"SUBSTANCIAL\",\"DESTRU\\u00cdDA\",\"LEVE\",\"***\",\"NENHUM\"],\"legendgroup\":\"\",\"name\":\"\",\"showlegend\":true,\"values\":[1294,300,30,28,26],\"type\":\"pie\"}],                        {\"template\":{\"data\":{\"bar\":[{\"error_x\":{\"color\":\"#2a3f5f\"},\"error_y\":{\"color\":\"#2a3f5f\"},\"marker\":{\"line\":{\"color\":\"#E5ECF6\",\"width\":0.5},\"pattern\":{\"fillmode\":\"overlay\",\"size\":10,\"solidity\":0.2}},\"type\":\"bar\"}],\"barpolar\":[{\"marker\":{\"line\":{\"color\":\"#E5ECF6\",\"width\":0.5},\"pattern\":{\"fillmode\":\"overlay\",\"size\":10,\"solidity\":0.2}},\"type\":\"barpolar\"}],\"carpet\":[{\"aaxis\":{\"endlinecolor\":\"#2a3f5f\",\"gridcolor\":\"white\",\"linecolor\":\"white\",\"minorgridcolor\":\"white\",\"startlinecolor\":\"#2a3f5f\"},\"baxis\":{\"endlinecolor\":\"#2a3f5f\",\"gridcolor\":\"white\",\"linecolor\":\"white\",\"minorgridcolor\":\"white\",\"startlinecolor\":\"#2a3f5f\"},\"type\":\"carpet\"}],\"choropleth\":[{\"colorbar\":{\"outlinewidth\":0,\"ticks\":\"\"},\"type\":\"choropleth\"}],\"contour\":[{\"colorbar\":{\"outlinewidth\":0,\"ticks\":\"\"},\"colorscale\":[[0.0,\"#0d0887\"],[0.1111111111111111,\"#46039f\"],[0.2222222222222222,\"#7201a8\"],[0.3333333333333333,\"#9c179e\"],[0.4444444444444444,\"#bd3786\"],[0.5555555555555556,\"#d8576b\"],[0.6666666666666666,\"#ed7953\"],[0.7777777777777778,\"#fb9f3a\"],[0.8888888888888888,\"#fdca26\"],[1.0,\"#f0f921\"]],\"type\":\"contour\"}],\"contourcarpet\":[{\"colorbar\":{\"outlinewidth\":0,\"ticks\":\"\"},\"type\":\"contourcarpet\"}],\"heatmap\":[{\"colorbar\":{\"outlinewidth\":0,\"ticks\":\"\"},\"colorscale\":[[0.0,\"#0d0887\"],[0.1111111111111111,\"#46039f\"],[0.2222222222222222,\"#7201a8\"],[0.3333333333333333,\"#9c179e\"],[0.4444444444444444,\"#bd3786\"],[0.5555555555555556,\"#d8576b\"],[0.6666666666666666,\"#ed7953\"],[0.7777777777777778,\"#fb9f3a\"],[0.8888888888888888,\"#fdca26\"],[1.0,\"#f0f921\"]],\"type\":\"heatmap\"}],\"heatmapgl\":[{\"colorbar\":{\"outlinewidth\":0,\"ticks\":\"\"},\"colorscale\":[[0.0,\"#0d0887\"],[0.1111111111111111,\"#46039f\"],[0.2222222222222222,\"#7201a8\"],[0.3333333333333333,\"#9c179e\"],[0.4444444444444444,\"#bd3786\"],[0.5555555555555556,\"#d8576b\"],[0.6666666666666666,\"#ed7953\"],[0.7777777777777778,\"#fb9f3a\"],[0.8888888888888888,\"#fdca26\"],[1.0,\"#f0f921\"]],\"type\":\"heatmapgl\"}],\"histogram\":[{\"marker\":{\"pattern\":{\"fillmode\":\"overlay\",\"size\":10,\"solidity\":0.2}},\"type\":\"histogram\"}],\"histogram2d\":[{\"colorbar\":{\"outlinewidth\":0,\"ticks\":\"\"},\"colorscale\":[[0.0,\"#0d0887\"],[0.1111111111111111,\"#46039f\"],[0.2222222222222222,\"#7201a8\"],[0.3333333333333333,\"#9c179e\"],[0.4444444444444444,\"#bd3786\"],[0.5555555555555556,\"#d8576b\"],[0.6666666666666666,\"#ed7953\"],[0.7777777777777778,\"#fb9f3a\"],[0.8888888888888888,\"#fdca26\"],[1.0,\"#f0f921\"]],\"type\":\"histogram2d\"}],\"histogram2dcontour\":[{\"colorbar\":{\"outlinewidth\":0,\"ticks\":\"\"},\"colorscale\":[[0.0,\"#0d0887\"],[0.1111111111111111,\"#46039f\"],[0.2222222222222222,\"#7201a8\"],[0.3333333333333333,\"#9c179e\"],[0.4444444444444444,\"#bd3786\"],[0.5555555555555556,\"#d8576b\"],[0.6666666666666666,\"#ed7953\"],[0.7777777777777778,\"#fb9f3a\"],[0.8888888888888888,\"#fdca26\"],[1.0,\"#f0f921\"]],\"type\":\"histogram2dcontour\"}],\"mesh3d\":[{\"colorbar\":{\"outlinewidth\":0,\"ticks\":\"\"},\"type\":\"mesh3d\"}],\"parcoords\":[{\"line\":{\"colorbar\":{\"outlinewidth\":0,\"ticks\":\"\"}},\"type\":\"parcoords\"}],\"pie\":[{\"automargin\":true,\"type\":\"pie\"}],\"scatter\":[{\"marker\":{\"colorbar\":{\"outlinewidth\":0,\"ticks\":\"\"}},\"type\":\"scatter\"}],\"scatter3d\":[{\"line\":{\"colorbar\":{\"outlinewidth\":0,\"ticks\":\"\"}},\"marker\":{\"colorbar\":{\"outlinewidth\":0,\"ticks\":\"\"}},\"type\":\"scatter3d\"}],\"scattercarpet\":[{\"marker\":{\"colorbar\":{\"outlinewidth\":0,\"ticks\":\"\"}},\"type\":\"scattercarpet\"}],\"scattergeo\":[{\"marker\":{\"colorbar\":{\"outlinewidth\":0,\"ticks\":\"\"}},\"type\":\"scattergeo\"}],\"scattergl\":[{\"marker\":{\"colorbar\":{\"outlinewidth\":0,\"ticks\":\"\"}},\"type\":\"scattergl\"}],\"scattermapbox\":[{\"marker\":{\"colorbar\":{\"outlinewidth\":0,\"ticks\":\"\"}},\"type\":\"scattermapbox\"}],\"scatterpolar\":[{\"marker\":{\"colorbar\":{\"outlinewidth\":0,\"ticks\":\"\"}},\"type\":\"scatterpolar\"}],\"scatterpolargl\":[{\"marker\":{\"colorbar\":{\"outlinewidth\":0,\"ticks\":\"\"}},\"type\":\"scatterpolargl\"}],\"scatterternary\":[{\"marker\":{\"colorbar\":{\"outlinewidth\":0,\"ticks\":\"\"}},\"type\":\"scatterternary\"}],\"surface\":[{\"colorbar\":{\"outlinewidth\":0,\"ticks\":\"\"},\"colorscale\":[[0.0,\"#0d0887\"],[0.1111111111111111,\"#46039f\"],[0.2222222222222222,\"#7201a8\"],[0.3333333333333333,\"#9c179e\"],[0.4444444444444444,\"#bd3786\"],[0.5555555555555556,\"#d8576b\"],[0.6666666666666666,\"#ed7953\"],[0.7777777777777778,\"#fb9f3a\"],[0.8888888888888888,\"#fdca26\"],[1.0,\"#f0f921\"]],\"type\":\"surface\"}],\"table\":[{\"cells\":{\"fill\":{\"color\":\"#EBF0F8\"},\"line\":{\"color\":\"white\"}},\"header\":{\"fill\":{\"color\":\"#C8D4E3\"},\"line\":{\"color\":\"white\"}},\"type\":\"table\"}]},\"layout\":{\"annotationdefaults\":{\"arrowcolor\":\"#2a3f5f\",\"arrowhead\":0,\"arrowwidth\":1},\"autotypenumbers\":\"strict\",\"coloraxis\":{\"colorbar\":{\"outlinewidth\":0,\"ticks\":\"\"}},\"colorscale\":{\"diverging\":[[0,\"#8e0152\"],[0.1,\"#c51b7d\"],[0.2,\"#de77ae\"],[0.3,\"#f1b6da\"],[0.4,\"#fde0ef\"],[0.5,\"#f7f7f7\"],[0.6,\"#e6f5d0\"],[0.7,\"#b8e186\"],[0.8,\"#7fbc41\"],[0.9,\"#4d9221\"],[1,\"#276419\"]],\"sequential\":[[0.0,\"#0d0887\"],[0.1111111111111111,\"#46039f\"],[0.2222222222222222,\"#7201a8\"],[0.3333333333333333,\"#9c179e\"],[0.4444444444444444,\"#bd3786\"],[0.5555555555555556,\"#d8576b\"],[0.6666666666666666,\"#ed7953\"],[0.7777777777777778,\"#fb9f3a\"],[0.8888888888888888,\"#fdca26\"],[1.0,\"#f0f921\"]],\"sequentialminus\":[[0.0,\"#0d0887\"],[0.1111111111111111,\"#46039f\"],[0.2222222222222222,\"#7201a8\"],[0.3333333333333333,\"#9c179e\"],[0.4444444444444444,\"#bd3786\"],[0.5555555555555556,\"#d8576b\"],[0.6666666666666666,\"#ed7953\"],[0.7777777777777778,\"#fb9f3a\"],[0.8888888888888888,\"#fdca26\"],[1.0,\"#f0f921\"]]},\"colorway\":[\"#636efa\",\"#EF553B\",\"#00cc96\",\"#ab63fa\",\"#FFA15A\",\"#19d3f3\",\"#FF6692\",\"#B6E880\",\"#FF97FF\",\"#FECB52\"],\"font\":{\"color\":\"#2a3f5f\"},\"geo\":{\"bgcolor\":\"white\",\"lakecolor\":\"white\",\"landcolor\":\"#E5ECF6\",\"showlakes\":true,\"showland\":true,\"subunitcolor\":\"white\"},\"hoverlabel\":{\"align\":\"left\"},\"hovermode\":\"closest\",\"mapbox\":{\"style\":\"light\"},\"paper_bgcolor\":\"white\",\"plot_bgcolor\":\"#E5ECF6\",\"polar\":{\"angularaxis\":{\"gridcolor\":\"white\",\"linecolor\":\"white\",\"ticks\":\"\"},\"bgcolor\":\"#E5ECF6\",\"radialaxis\":{\"gridcolor\":\"white\",\"linecolor\":\"white\",\"ticks\":\"\"}},\"scene\":{\"xaxis\":{\"backgroundcolor\":\"#E5ECF6\",\"gridcolor\":\"white\",\"gridwidth\":2,\"linecolor\":\"white\",\"showbackground\":true,\"ticks\":\"\",\"zerolinecolor\":\"white\"},\"yaxis\":{\"backgroundcolor\":\"#E5ECF6\",\"gridcolor\":\"white\",\"gridwidth\":2,\"linecolor\":\"white\",\"showbackground\":true,\"ticks\":\"\",\"zerolinecolor\":\"white\"},\"zaxis\":{\"backgroundcolor\":\"#E5ECF6\",\"gridcolor\":\"white\",\"gridwidth\":2,\"linecolor\":\"white\",\"showbackground\":true,\"ticks\":\"\",\"zerolinecolor\":\"white\"}},\"shapedefaults\":{\"line\":{\"color\":\"#2a3f5f\"}},\"ternary\":{\"aaxis\":{\"gridcolor\":\"white\",\"linecolor\":\"white\",\"ticks\":\"\"},\"baxis\":{\"gridcolor\":\"white\",\"linecolor\":\"white\",\"ticks\":\"\"},\"bgcolor\":\"#E5ECF6\",\"caxis\":{\"gridcolor\":\"white\",\"linecolor\":\"white\",\"ticks\":\"\"}},\"title\":{\"x\":0.05},\"xaxis\":{\"automargin\":true,\"gridcolor\":\"white\",\"linecolor\":\"white\",\"ticks\":\"\",\"title\":{\"standoff\":15},\"zerolinecolor\":\"white\",\"zerolinewidth\":2},\"yaxis\":{\"automargin\":true,\"gridcolor\":\"white\",\"linecolor\":\"white\",\"ticks\":\"\",\"title\":{\"standoff\":15},\"zerolinecolor\":\"white\",\"zerolinewidth\":2}}},\"legend\":{\"tracegroupgap\":0},\"margin\":{\"t\":60}},                        {\"responsive\": true}                    ).then(function(){\n",
              "                            \n",
              "var gd = document.getElementById('a294d5d8-46a2-437b-afc4-744252b291bc');\n",
              "var x = new MutationObserver(function (mutations, observer) {{\n",
              "        var display = window.getComputedStyle(gd).display;\n",
              "        if (!display || display === 'none') {{\n",
              "            console.log([gd, 'removed!']);\n",
              "            Plotly.purge(gd);\n",
              "            observer.disconnect();\n",
              "        }}\n",
              "}});\n",
              "\n",
              "// Listen for the removal of the full notebook cells\n",
              "var notebookContainer = gd.closest('#notebook-container');\n",
              "if (notebookContainer) {{\n",
              "    x.observe(notebookContainer, {childList: true});\n",
              "}}\n",
              "\n",
              "// Listen for the clearing of the current output cell\n",
              "var outputEl = gd.closest('.output');\n",
              "if (outputEl) {{\n",
              "    x.observe(outputEl, {childList: true});\n",
              "}}\n",
              "\n",
              "                        })                };                            </script>        </div>\n",
              "</body>\n",
              "</html>"
            ]
          },
          "metadata": {}
        }
      ],
      "source": [
        "\n",
        "#Nível de danos nas aeronaves com ocorrências do tipo incidente grave\n",
        "fig = px.pie(amostra_acidente, values=amostra_acidente [\"aeronave_nivel_dano\"].value_counts(),\\\n",
        "             names= amostra_acidente [\"aeronave_nivel_dano\"].value_counts().index )\n",
        "fig.write_html('Figura1.html')\n",
        "fig.show()"
      ]
    },
    {
      "cell_type": "markdown",
      "source": [
        "17,9% das 1667 ocorrências de acidente tiveram aeronaves destruídas e 77,1 com danos substancial.  Cerca de 5% são ocorrência tiveram danos classificadas como leve, nenhum ou não identificada. \n"
      ],
      "metadata": {
        "id": "pHlxt_GDZTaN"
      }
    },
    {
      "cell_type": "markdown",
      "source": [
        "##3) Qual são os tipos de aeronaves  e o tipo de motor mais relatadas nas ocorrências de acidente? "
      ],
      "metadata": {
        "id": "FwLuXOSPXfxC"
      }
    },
    {
      "cell_type": "code",
      "execution_count": null,
      "metadata": {
        "id": "gveU3qLBTCeN",
        "colab": {
          "base_uri": "https://localhost:8080/",
          "height": 417
        },
        "outputId": "3efc6950-4291-488b-9e39-3942034bd0f8"
      },
      "outputs": [
        {
          "output_type": "display_data",
          "data": {
            "text/html": [
              "<html>\n",
              "<head><meta charset=\"utf-8\" /></head>\n",
              "<body>\n",
              "    <div>            <script src=\"https://cdnjs.cloudflare.com/ajax/libs/mathjax/2.7.5/MathJax.js?config=TeX-AMS-MML_SVG\"></script><script type=\"text/javascript\">if (window.MathJax) {MathJax.Hub.Config({SVG: {font: \"STIX-Web\"}});}</script>                <script type=\"text/javascript\">window.PlotlyConfig = {MathJaxConfig: 'local'};</script>\n",
              "        <script src=\"https://cdn.plot.ly/plotly-2.8.3.min.js\"></script>                <div id=\"b94c0ebb-5a1b-4b4b-a6fc-6f1fcf29f4ab\" class=\"plotly-graph-div\" style=\"height:400px; width:800px;\"></div>            <script type=\"text/javascript\">                                    window.PLOTLYENV=window.PLOTLYENV || {};                                    if (document.getElementById(\"b94c0ebb-5a1b-4b4b-a6fc-6f1fcf29f4ab\")) {                    Plotly.newPlot(                        \"b94c0ebb-5a1b-4b4b-a6fc-6f1fcf29f4ab\",                        [{\"alignmentgroup\":\"True\",\"hovertemplate\":\"index=%{x}<br>y=%{y}<extra></extra>\",\"legendgroup\":\"AVI\\u00c3O\",\"marker\":{\"color\":\"#636efa\",\"pattern\":{\"shape\":\"\"}},\"name\":\"AVI\\u00c3O\",\"offsetgroup\":\"AVI\\u00c3O\",\"orientation\":\"v\",\"showlegend\":true,\"textposition\":\"auto\",\"texttemplate\":\"%{y}\",\"x\":[\"AVI\\u00c3O\"],\"xaxis\":\"x\",\"y\":[1212],\"yaxis\":\"y\",\"type\":\"bar\"},{\"alignmentgroup\":\"True\",\"hovertemplate\":\"index=%{x}<br>y=%{y}<extra></extra>\",\"legendgroup\":\"ULTRALEVE\",\"marker\":{\"color\":\"#EF553B\",\"pattern\":{\"shape\":\"\"}},\"name\":\"ULTRALEVE\",\"offsetgroup\":\"ULTRALEVE\",\"orientation\":\"v\",\"showlegend\":true,\"textposition\":\"auto\",\"texttemplate\":\"%{y}\",\"x\":[\"ULTRALEVE\"],\"xaxis\":\"x\",\"y\":[212],\"yaxis\":\"y\",\"type\":\"bar\"},{\"alignmentgroup\":\"True\",\"hovertemplate\":\"index=%{x}<br>y=%{y}<extra></extra>\",\"legendgroup\":\"HELIC\\u00d3PTERO\",\"marker\":{\"color\":\"#00cc96\",\"pattern\":{\"shape\":\"\"}},\"name\":\"HELIC\\u00d3PTERO\",\"offsetgroup\":\"HELIC\\u00d3PTERO\",\"orientation\":\"v\",\"showlegend\":true,\"textposition\":\"auto\",\"texttemplate\":\"%{y}\",\"x\":[\"HELIC\\u00d3PTERO\"],\"xaxis\":\"x\",\"y\":[186],\"yaxis\":\"y\",\"type\":\"bar\"},{\"alignmentgroup\":\"True\",\"hovertemplate\":\"index=%{x}<br>y=%{y}<extra></extra>\",\"legendgroup\":\"***\",\"marker\":{\"color\":\"#ab63fa\",\"pattern\":{\"shape\":\"\"}},\"name\":\"***\",\"offsetgroup\":\"***\",\"orientation\":\"v\",\"showlegend\":true,\"textposition\":\"auto\",\"texttemplate\":\"%{y}\",\"x\":[\"***\"],\"xaxis\":\"x\",\"y\":[45],\"yaxis\":\"y\",\"type\":\"bar\"},{\"alignmentgroup\":\"True\",\"hovertemplate\":\"index=%{x}<br>y=%{y}<extra></extra>\",\"legendgroup\":\"PLANADOR\",\"marker\":{\"color\":\"#FFA15A\",\"pattern\":{\"shape\":\"\"}},\"name\":\"PLANADOR\",\"offsetgroup\":\"PLANADOR\",\"orientation\":\"v\",\"showlegend\":true,\"textposition\":\"auto\",\"texttemplate\":\"%{y}\",\"x\":[\"PLANADOR\"],\"xaxis\":\"x\",\"y\":[11],\"yaxis\":\"y\",\"type\":\"bar\"},{\"alignmentgroup\":\"True\",\"hovertemplate\":\"index=%{x}<br>y=%{y}<extra></extra>\",\"legendgroup\":\"ANF\\u00cdBIO\",\"marker\":{\"color\":\"#19d3f3\",\"pattern\":{\"shape\":\"\"}},\"name\":\"ANF\\u00cdBIO\",\"offsetgroup\":\"ANF\\u00cdBIO\",\"orientation\":\"v\",\"showlegend\":true,\"textposition\":\"auto\",\"texttemplate\":\"%{y}\",\"x\":[\"ANF\\u00cdBIO\"],\"xaxis\":\"x\",\"y\":[6],\"yaxis\":\"y\",\"type\":\"bar\"},{\"alignmentgroup\":\"True\",\"hovertemplate\":\"index=%{x}<br>y=%{y}<extra></extra>\",\"legendgroup\":\"TRIKE\",\"marker\":{\"color\":\"#FF6692\",\"pattern\":{\"shape\":\"\"}},\"name\":\"TRIKE\",\"offsetgroup\":\"TRIKE\",\"orientation\":\"v\",\"showlegend\":true,\"textposition\":\"auto\",\"texttemplate\":\"%{y}\",\"x\":[\"TRIKE\"],\"xaxis\":\"x\",\"y\":[5],\"yaxis\":\"y\",\"type\":\"bar\"},{\"alignmentgroup\":\"True\",\"hovertemplate\":\"index=%{x}<br>y=%{y}<extra></extra>\",\"legendgroup\":\"BAL\\u00c3O\",\"marker\":{\"color\":\"#B6E880\",\"pattern\":{\"shape\":\"\"}},\"name\":\"BAL\\u00c3O\",\"offsetgroup\":\"BAL\\u00c3O\",\"orientation\":\"v\",\"showlegend\":true,\"textposition\":\"auto\",\"texttemplate\":\"%{y}\",\"x\":[\"BAL\\u00c3O\"],\"xaxis\":\"x\",\"y\":[1],\"yaxis\":\"y\",\"type\":\"bar\"}],                        {\"template\":{\"data\":{\"bar\":[{\"error_x\":{\"color\":\"#2a3f5f\"},\"error_y\":{\"color\":\"#2a3f5f\"},\"marker\":{\"line\":{\"color\":\"#E5ECF6\",\"width\":0.5},\"pattern\":{\"fillmode\":\"overlay\",\"size\":10,\"solidity\":0.2}},\"type\":\"bar\"}],\"barpolar\":[{\"marker\":{\"line\":{\"color\":\"#E5ECF6\",\"width\":0.5},\"pattern\":{\"fillmode\":\"overlay\",\"size\":10,\"solidity\":0.2}},\"type\":\"barpolar\"}],\"carpet\":[{\"aaxis\":{\"endlinecolor\":\"#2a3f5f\",\"gridcolor\":\"white\",\"linecolor\":\"white\",\"minorgridcolor\":\"white\",\"startlinecolor\":\"#2a3f5f\"},\"baxis\":{\"endlinecolor\":\"#2a3f5f\",\"gridcolor\":\"white\",\"linecolor\":\"white\",\"minorgridcolor\":\"white\",\"startlinecolor\":\"#2a3f5f\"},\"type\":\"carpet\"}],\"choropleth\":[{\"colorbar\":{\"outlinewidth\":0,\"ticks\":\"\"},\"type\":\"choropleth\"}],\"contour\":[{\"colorbar\":{\"outlinewidth\":0,\"ticks\":\"\"},\"colorscale\":[[0.0,\"#0d0887\"],[0.1111111111111111,\"#46039f\"],[0.2222222222222222,\"#7201a8\"],[0.3333333333333333,\"#9c179e\"],[0.4444444444444444,\"#bd3786\"],[0.5555555555555556,\"#d8576b\"],[0.6666666666666666,\"#ed7953\"],[0.7777777777777778,\"#fb9f3a\"],[0.8888888888888888,\"#fdca26\"],[1.0,\"#f0f921\"]],\"type\":\"contour\"}],\"contourcarpet\":[{\"colorbar\":{\"outlinewidth\":0,\"ticks\":\"\"},\"type\":\"contourcarpet\"}],\"heatmap\":[{\"colorbar\":{\"outlinewidth\":0,\"ticks\":\"\"},\"colorscale\":[[0.0,\"#0d0887\"],[0.1111111111111111,\"#46039f\"],[0.2222222222222222,\"#7201a8\"],[0.3333333333333333,\"#9c179e\"],[0.4444444444444444,\"#bd3786\"],[0.5555555555555556,\"#d8576b\"],[0.6666666666666666,\"#ed7953\"],[0.7777777777777778,\"#fb9f3a\"],[0.8888888888888888,\"#fdca26\"],[1.0,\"#f0f921\"]],\"type\":\"heatmap\"}],\"heatmapgl\":[{\"colorbar\":{\"outlinewidth\":0,\"ticks\":\"\"},\"colorscale\":[[0.0,\"#0d0887\"],[0.1111111111111111,\"#46039f\"],[0.2222222222222222,\"#7201a8\"],[0.3333333333333333,\"#9c179e\"],[0.4444444444444444,\"#bd3786\"],[0.5555555555555556,\"#d8576b\"],[0.6666666666666666,\"#ed7953\"],[0.7777777777777778,\"#fb9f3a\"],[0.8888888888888888,\"#fdca26\"],[1.0,\"#f0f921\"]],\"type\":\"heatmapgl\"}],\"histogram\":[{\"marker\":{\"pattern\":{\"fillmode\":\"overlay\",\"size\":10,\"solidity\":0.2}},\"type\":\"histogram\"}],\"histogram2d\":[{\"colorbar\":{\"outlinewidth\":0,\"ticks\":\"\"},\"colorscale\":[[0.0,\"#0d0887\"],[0.1111111111111111,\"#46039f\"],[0.2222222222222222,\"#7201a8\"],[0.3333333333333333,\"#9c179e\"],[0.4444444444444444,\"#bd3786\"],[0.5555555555555556,\"#d8576b\"],[0.6666666666666666,\"#ed7953\"],[0.7777777777777778,\"#fb9f3a\"],[0.8888888888888888,\"#fdca26\"],[1.0,\"#f0f921\"]],\"type\":\"histogram2d\"}],\"histogram2dcontour\":[{\"colorbar\":{\"outlinewidth\":0,\"ticks\":\"\"},\"colorscale\":[[0.0,\"#0d0887\"],[0.1111111111111111,\"#46039f\"],[0.2222222222222222,\"#7201a8\"],[0.3333333333333333,\"#9c179e\"],[0.4444444444444444,\"#bd3786\"],[0.5555555555555556,\"#d8576b\"],[0.6666666666666666,\"#ed7953\"],[0.7777777777777778,\"#fb9f3a\"],[0.8888888888888888,\"#fdca26\"],[1.0,\"#f0f921\"]],\"type\":\"histogram2dcontour\"}],\"mesh3d\":[{\"colorbar\":{\"outlinewidth\":0,\"ticks\":\"\"},\"type\":\"mesh3d\"}],\"parcoords\":[{\"line\":{\"colorbar\":{\"outlinewidth\":0,\"ticks\":\"\"}},\"type\":\"parcoords\"}],\"pie\":[{\"automargin\":true,\"type\":\"pie\"}],\"scatter\":[{\"marker\":{\"colorbar\":{\"outlinewidth\":0,\"ticks\":\"\"}},\"type\":\"scatter\"}],\"scatter3d\":[{\"line\":{\"colorbar\":{\"outlinewidth\":0,\"ticks\":\"\"}},\"marker\":{\"colorbar\":{\"outlinewidth\":0,\"ticks\":\"\"}},\"type\":\"scatter3d\"}],\"scattercarpet\":[{\"marker\":{\"colorbar\":{\"outlinewidth\":0,\"ticks\":\"\"}},\"type\":\"scattercarpet\"}],\"scattergeo\":[{\"marker\":{\"colorbar\":{\"outlinewidth\":0,\"ticks\":\"\"}},\"type\":\"scattergeo\"}],\"scattergl\":[{\"marker\":{\"colorbar\":{\"outlinewidth\":0,\"ticks\":\"\"}},\"type\":\"scattergl\"}],\"scattermapbox\":[{\"marker\":{\"colorbar\":{\"outlinewidth\":0,\"ticks\":\"\"}},\"type\":\"scattermapbox\"}],\"scatterpolar\":[{\"marker\":{\"colorbar\":{\"outlinewidth\":0,\"ticks\":\"\"}},\"type\":\"scatterpolar\"}],\"scatterpolargl\":[{\"marker\":{\"colorbar\":{\"outlinewidth\":0,\"ticks\":\"\"}},\"type\":\"scatterpolargl\"}],\"scatterternary\":[{\"marker\":{\"colorbar\":{\"outlinewidth\":0,\"ticks\":\"\"}},\"type\":\"scatterternary\"}],\"surface\":[{\"colorbar\":{\"outlinewidth\":0,\"ticks\":\"\"},\"colorscale\":[[0.0,\"#0d0887\"],[0.1111111111111111,\"#46039f\"],[0.2222222222222222,\"#7201a8\"],[0.3333333333333333,\"#9c179e\"],[0.4444444444444444,\"#bd3786\"],[0.5555555555555556,\"#d8576b\"],[0.6666666666666666,\"#ed7953\"],[0.7777777777777778,\"#fb9f3a\"],[0.8888888888888888,\"#fdca26\"],[1.0,\"#f0f921\"]],\"type\":\"surface\"}],\"table\":[{\"cells\":{\"fill\":{\"color\":\"#EBF0F8\"},\"line\":{\"color\":\"white\"}},\"header\":{\"fill\":{\"color\":\"#C8D4E3\"},\"line\":{\"color\":\"white\"}},\"type\":\"table\"}]},\"layout\":{\"annotationdefaults\":{\"arrowcolor\":\"#2a3f5f\",\"arrowhead\":0,\"arrowwidth\":1},\"autotypenumbers\":\"strict\",\"coloraxis\":{\"colorbar\":{\"outlinewidth\":0,\"ticks\":\"\"}},\"colorscale\":{\"diverging\":[[0,\"#8e0152\"],[0.1,\"#c51b7d\"],[0.2,\"#de77ae\"],[0.3,\"#f1b6da\"],[0.4,\"#fde0ef\"],[0.5,\"#f7f7f7\"],[0.6,\"#e6f5d0\"],[0.7,\"#b8e186\"],[0.8,\"#7fbc41\"],[0.9,\"#4d9221\"],[1,\"#276419\"]],\"sequential\":[[0.0,\"#0d0887\"],[0.1111111111111111,\"#46039f\"],[0.2222222222222222,\"#7201a8\"],[0.3333333333333333,\"#9c179e\"],[0.4444444444444444,\"#bd3786\"],[0.5555555555555556,\"#d8576b\"],[0.6666666666666666,\"#ed7953\"],[0.7777777777777778,\"#fb9f3a\"],[0.8888888888888888,\"#fdca26\"],[1.0,\"#f0f921\"]],\"sequentialminus\":[[0.0,\"#0d0887\"],[0.1111111111111111,\"#46039f\"],[0.2222222222222222,\"#7201a8\"],[0.3333333333333333,\"#9c179e\"],[0.4444444444444444,\"#bd3786\"],[0.5555555555555556,\"#d8576b\"],[0.6666666666666666,\"#ed7953\"],[0.7777777777777778,\"#fb9f3a\"],[0.8888888888888888,\"#fdca26\"],[1.0,\"#f0f921\"]]},\"colorway\":[\"#636efa\",\"#EF553B\",\"#00cc96\",\"#ab63fa\",\"#FFA15A\",\"#19d3f3\",\"#FF6692\",\"#B6E880\",\"#FF97FF\",\"#FECB52\"],\"font\":{\"color\":\"#2a3f5f\"},\"geo\":{\"bgcolor\":\"white\",\"lakecolor\":\"white\",\"landcolor\":\"#E5ECF6\",\"showlakes\":true,\"showland\":true,\"subunitcolor\":\"white\"},\"hoverlabel\":{\"align\":\"left\"},\"hovermode\":\"closest\",\"mapbox\":{\"style\":\"light\"},\"paper_bgcolor\":\"white\",\"plot_bgcolor\":\"#E5ECF6\",\"polar\":{\"angularaxis\":{\"gridcolor\":\"white\",\"linecolor\":\"white\",\"ticks\":\"\"},\"bgcolor\":\"#E5ECF6\",\"radialaxis\":{\"gridcolor\":\"white\",\"linecolor\":\"white\",\"ticks\":\"\"}},\"scene\":{\"xaxis\":{\"backgroundcolor\":\"#E5ECF6\",\"gridcolor\":\"white\",\"gridwidth\":2,\"linecolor\":\"white\",\"showbackground\":true,\"ticks\":\"\",\"zerolinecolor\":\"white\"},\"yaxis\":{\"backgroundcolor\":\"#E5ECF6\",\"gridcolor\":\"white\",\"gridwidth\":2,\"linecolor\":\"white\",\"showbackground\":true,\"ticks\":\"\",\"zerolinecolor\":\"white\"},\"zaxis\":{\"backgroundcolor\":\"#E5ECF6\",\"gridcolor\":\"white\",\"gridwidth\":2,\"linecolor\":\"white\",\"showbackground\":true,\"ticks\":\"\",\"zerolinecolor\":\"white\"}},\"shapedefaults\":{\"line\":{\"color\":\"#2a3f5f\"}},\"ternary\":{\"aaxis\":{\"gridcolor\":\"white\",\"linecolor\":\"white\",\"ticks\":\"\"},\"baxis\":{\"gridcolor\":\"white\",\"linecolor\":\"white\",\"ticks\":\"\"},\"bgcolor\":\"#E5ECF6\",\"caxis\":{\"gridcolor\":\"white\",\"linecolor\":\"white\",\"ticks\":\"\"}},\"title\":{\"x\":0.05},\"xaxis\":{\"automargin\":true,\"gridcolor\":\"white\",\"linecolor\":\"white\",\"ticks\":\"\",\"title\":{\"standoff\":15},\"zerolinecolor\":\"white\",\"zerolinewidth\":2},\"yaxis\":{\"automargin\":true,\"gridcolor\":\"white\",\"linecolor\":\"white\",\"ticks\":\"\",\"title\":{\"standoff\":15},\"zerolinecolor\":\"white\",\"zerolinewidth\":2}}},\"xaxis\":{\"anchor\":\"y\",\"domain\":[0.0,1.0],\"title\":{\"text\":\"Ocorr\\u00eancias\"},\"categoryorder\":\"array\",\"categoryarray\":[\"AVI\\u00c3O\",\"ULTRALEVE\",\"HELIC\\u00d3PTERO\",\"***\",\"PLANADOR\",\"ANF\\u00cdBIO\",\"TRIKE\",\"BAL\\u00c3O\"]},\"yaxis\":{\"anchor\":\"x\",\"domain\":[0.0,1.0],\"title\":{\"text\":\"aeronaves\"}},\"legend\":{\"title\":{\"text\":\"index\"},\"tracegroupgap\":0},\"title\":{\"text\":\"N\\u00famero de ocorr\\u00eancias de acidente tipo de aeronave\"},\"barmode\":\"relative\",\"height\":400,\"showlegend\":true,\"width\":800},                        {\"responsive\": true}                    ).then(function(){\n",
              "                            \n",
              "var gd = document.getElementById('b94c0ebb-5a1b-4b4b-a6fc-6f1fcf29f4ab');\n",
              "var x = new MutationObserver(function (mutations, observer) {{\n",
              "        var display = window.getComputedStyle(gd).display;\n",
              "        if (!display || display === 'none') {{\n",
              "            console.log([gd, 'removed!']);\n",
              "            Plotly.purge(gd);\n",
              "            observer.disconnect();\n",
              "        }}\n",
              "}});\n",
              "\n",
              "// Listen for the removal of the full notebook cells\n",
              "var notebookContainer = gd.closest('#notebook-container');\n",
              "if (notebookContainer) {{\n",
              "    x.observe(notebookContainer, {childList: true});\n",
              "}}\n",
              "\n",
              "// Listen for the clearing of the current output cell\n",
              "var outputEl = gd.closest('.output');\n",
              "if (outputEl) {{\n",
              "    x.observe(outputEl, {childList: true});\n",
              "}}\n",
              "\n",
              "                        })                };                            </script>        </div>\n",
              "</body>\n",
              "</html>"
            ]
          },
          "metadata": {}
        }
      ],
      "source": [
        "acidente_tipo_veículo = amostra_acidente['aeronave_tipo_veiculo'].value_counts()\n",
        "\n",
        "fig = px.bar(acidente_tipo_veículo, x=acidente_tipo_veículo.index, \n",
        "             y=acidente_tipo_veículo, color=acidente_tipo_veículo.index, \n",
        "             orientation='v',            \n",
        "             height=400,\n",
        "             text_auto = True,    \n",
        "             title='Número de ocorrências de acidente tipo de aeronave')\n",
        "\n",
        "fig.update_xaxes(title= 'Ocorrências')\n",
        "fig.update_yaxes(title= 'aeronaves')    \n",
        "    \n",
        "fig.update_layout(\n",
        "    height=400,\n",
        "    showlegend=True,    \n",
        "    width = 800,  \n",
        ")"
      ]
    },
    {
      "cell_type": "markdown",
      "source": [
        "O avião é um tipo de aeronave mais frequente em ocorrências aéreas no Brasil,1212 das 1667 ocorrências de acidentes foram relatadas em aviões. Seguido por Ultraleves 212 e Helicóptero 186 ocorrências. \n",
        "\n"
      ],
      "metadata": {
        "id": "an9RUkGiZuxd"
      }
    },
    {
      "cell_type": "code",
      "source": [
        "acidente_tipo_motor = amostra_acidente['aeronave_motor_tipo'].value_counts()\n",
        "\n",
        "fig = px.bar(acidente_tipo_motor, x=acidente_tipo_motor.index, \n",
        "             y=acidente_tipo_motor, color=acidente_tipo_motor.index, \n",
        "             orientation='v',            \n",
        "             height=400,\n",
        "             text_auto = True,    \n",
        "             title='Número de ocorrências de acidente tipo de motor')\n",
        "\n",
        "fig.update_xaxes(title= 'Ocorrências')\n",
        "fig.update_yaxes(title= 'aeronaves')    \n",
        "    \n",
        "fig.update_layout(\n",
        "    height=400,\n",
        "    showlegend=True,    \n",
        "    width = 800,  \n",
        ")"
      ],
      "metadata": {
        "colab": {
          "base_uri": "https://localhost:8080/",
          "height": 417
        },
        "id": "YnAwrTkGhPmg",
        "outputId": "565db561-5d00-4129-8b3a-b2ab5f0eff6c"
      },
      "execution_count": 23,
      "outputs": [
        {
          "output_type": "display_data",
          "data": {
            "text/html": [
              "<html>\n",
              "<head><meta charset=\"utf-8\" /></head>\n",
              "<body>\n",
              "    <div>            <script src=\"https://cdnjs.cloudflare.com/ajax/libs/mathjax/2.7.5/MathJax.js?config=TeX-AMS-MML_SVG\"></script><script type=\"text/javascript\">if (window.MathJax) {MathJax.Hub.Config({SVG: {font: \"STIX-Web\"}});}</script>                <script type=\"text/javascript\">window.PlotlyConfig = {MathJaxConfig: 'local'};</script>\n",
              "        <script src=\"https://cdn.plot.ly/plotly-2.8.3.min.js\"></script>                <div id=\"6613081a-8f86-4065-8262-19b063ea1396\" class=\"plotly-graph-div\" style=\"height:400px; width:800px;\"></div>            <script type=\"text/javascript\">                                    window.PLOTLYENV=window.PLOTLYENV || {};                                    if (document.getElementById(\"6613081a-8f86-4065-8262-19b063ea1396\")) {                    Plotly.newPlot(                        \"6613081a-8f86-4065-8262-19b063ea1396\",                        [{\"alignmentgroup\":\"True\",\"hovertemplate\":\"index=%{x}<br>y=%{y}<extra></extra>\",\"legendgroup\":\"PIST\\u00c3O\",\"marker\":{\"color\":\"#636efa\",\"pattern\":{\"shape\":\"\"}},\"name\":\"PIST\\u00c3O\",\"offsetgroup\":\"PIST\\u00c3O\",\"orientation\":\"v\",\"showlegend\":true,\"textposition\":\"auto\",\"texttemplate\":\"%{y}\",\"x\":[\"PIST\\u00c3O\"],\"xaxis\":\"x\",\"y\":[1347],\"yaxis\":\"y\",\"type\":\"bar\"},{\"alignmentgroup\":\"True\",\"hovertemplate\":\"index=%{x}<br>y=%{y}<extra></extra>\",\"legendgroup\":\"TURBO\\u00c9LICE\",\"marker\":{\"color\":\"#EF553B\",\"pattern\":{\"shape\":\"\"}},\"name\":\"TURBO\\u00c9LICE\",\"offsetgroup\":\"TURBO\\u00c9LICE\",\"orientation\":\"v\",\"showlegend\":true,\"textposition\":\"auto\",\"texttemplate\":\"%{y}\",\"x\":[\"TURBO\\u00c9LICE\"],\"xaxis\":\"x\",\"y\":[114],\"yaxis\":\"y\",\"type\":\"bar\"},{\"alignmentgroup\":\"True\",\"hovertemplate\":\"index=%{x}<br>y=%{y}<extra></extra>\",\"legendgroup\":\"TURBOEIXO\",\"marker\":{\"color\":\"#00cc96\",\"pattern\":{\"shape\":\"\"}},\"name\":\"TURBOEIXO\",\"offsetgroup\":\"TURBOEIXO\",\"orientation\":\"v\",\"showlegend\":true,\"textposition\":\"auto\",\"texttemplate\":\"%{y}\",\"x\":[\"TURBOEIXO\"],\"xaxis\":\"x\",\"y\":[94],\"yaxis\":\"y\",\"type\":\"bar\"},{\"alignmentgroup\":\"True\",\"hovertemplate\":\"index=%{x}<br>y=%{y}<extra></extra>\",\"legendgroup\":\"***\",\"marker\":{\"color\":\"#ab63fa\",\"pattern\":{\"shape\":\"\"}},\"name\":\"***\",\"offsetgroup\":\"***\",\"orientation\":\"v\",\"showlegend\":true,\"textposition\":\"auto\",\"texttemplate\":\"%{y}\",\"x\":[\"***\"],\"xaxis\":\"x\",\"y\":[77],\"yaxis\":\"y\",\"type\":\"bar\"},{\"alignmentgroup\":\"True\",\"hovertemplate\":\"index=%{x}<br>y=%{y}<extra></extra>\",\"legendgroup\":\"JATO\",\"marker\":{\"color\":\"#FFA15A\",\"pattern\":{\"shape\":\"\"}},\"name\":\"JATO\",\"offsetgroup\":\"JATO\",\"orientation\":\"v\",\"showlegend\":true,\"textposition\":\"auto\",\"texttemplate\":\"%{y}\",\"x\":[\"JATO\"],\"xaxis\":\"x\",\"y\":[33],\"yaxis\":\"y\",\"type\":\"bar\"},{\"alignmentgroup\":\"True\",\"hovertemplate\":\"index=%{x}<br>y=%{y}<extra></extra>\",\"legendgroup\":\"SEM TRA\\u00c7\\u00c3O\",\"marker\":{\"color\":\"#19d3f3\",\"pattern\":{\"shape\":\"\"}},\"name\":\"SEM TRA\\u00c7\\u00c3O\",\"offsetgroup\":\"SEM TRA\\u00c7\\u00c3O\",\"orientation\":\"v\",\"showlegend\":true,\"textposition\":\"auto\",\"texttemplate\":\"%{y}\",\"x\":[\"SEM TRA\\u00c7\\u00c3O\"],\"xaxis\":\"x\",\"y\":[11],\"yaxis\":\"y\",\"type\":\"bar\"}],                        {\"template\":{\"data\":{\"bar\":[{\"error_x\":{\"color\":\"#2a3f5f\"},\"error_y\":{\"color\":\"#2a3f5f\"},\"marker\":{\"line\":{\"color\":\"#E5ECF6\",\"width\":0.5},\"pattern\":{\"fillmode\":\"overlay\",\"size\":10,\"solidity\":0.2}},\"type\":\"bar\"}],\"barpolar\":[{\"marker\":{\"line\":{\"color\":\"#E5ECF6\",\"width\":0.5},\"pattern\":{\"fillmode\":\"overlay\",\"size\":10,\"solidity\":0.2}},\"type\":\"barpolar\"}],\"carpet\":[{\"aaxis\":{\"endlinecolor\":\"#2a3f5f\",\"gridcolor\":\"white\",\"linecolor\":\"white\",\"minorgridcolor\":\"white\",\"startlinecolor\":\"#2a3f5f\"},\"baxis\":{\"endlinecolor\":\"#2a3f5f\",\"gridcolor\":\"white\",\"linecolor\":\"white\",\"minorgridcolor\":\"white\",\"startlinecolor\":\"#2a3f5f\"},\"type\":\"carpet\"}],\"choropleth\":[{\"colorbar\":{\"outlinewidth\":0,\"ticks\":\"\"},\"type\":\"choropleth\"}],\"contour\":[{\"colorbar\":{\"outlinewidth\":0,\"ticks\":\"\"},\"colorscale\":[[0.0,\"#0d0887\"],[0.1111111111111111,\"#46039f\"],[0.2222222222222222,\"#7201a8\"],[0.3333333333333333,\"#9c179e\"],[0.4444444444444444,\"#bd3786\"],[0.5555555555555556,\"#d8576b\"],[0.6666666666666666,\"#ed7953\"],[0.7777777777777778,\"#fb9f3a\"],[0.8888888888888888,\"#fdca26\"],[1.0,\"#f0f921\"]],\"type\":\"contour\"}],\"contourcarpet\":[{\"colorbar\":{\"outlinewidth\":0,\"ticks\":\"\"},\"type\":\"contourcarpet\"}],\"heatmap\":[{\"colorbar\":{\"outlinewidth\":0,\"ticks\":\"\"},\"colorscale\":[[0.0,\"#0d0887\"],[0.1111111111111111,\"#46039f\"],[0.2222222222222222,\"#7201a8\"],[0.3333333333333333,\"#9c179e\"],[0.4444444444444444,\"#bd3786\"],[0.5555555555555556,\"#d8576b\"],[0.6666666666666666,\"#ed7953\"],[0.7777777777777778,\"#fb9f3a\"],[0.8888888888888888,\"#fdca26\"],[1.0,\"#f0f921\"]],\"type\":\"heatmap\"}],\"heatmapgl\":[{\"colorbar\":{\"outlinewidth\":0,\"ticks\":\"\"},\"colorscale\":[[0.0,\"#0d0887\"],[0.1111111111111111,\"#46039f\"],[0.2222222222222222,\"#7201a8\"],[0.3333333333333333,\"#9c179e\"],[0.4444444444444444,\"#bd3786\"],[0.5555555555555556,\"#d8576b\"],[0.6666666666666666,\"#ed7953\"],[0.7777777777777778,\"#fb9f3a\"],[0.8888888888888888,\"#fdca26\"],[1.0,\"#f0f921\"]],\"type\":\"heatmapgl\"}],\"histogram\":[{\"marker\":{\"pattern\":{\"fillmode\":\"overlay\",\"size\":10,\"solidity\":0.2}},\"type\":\"histogram\"}],\"histogram2d\":[{\"colorbar\":{\"outlinewidth\":0,\"ticks\":\"\"},\"colorscale\":[[0.0,\"#0d0887\"],[0.1111111111111111,\"#46039f\"],[0.2222222222222222,\"#7201a8\"],[0.3333333333333333,\"#9c179e\"],[0.4444444444444444,\"#bd3786\"],[0.5555555555555556,\"#d8576b\"],[0.6666666666666666,\"#ed7953\"],[0.7777777777777778,\"#fb9f3a\"],[0.8888888888888888,\"#fdca26\"],[1.0,\"#f0f921\"]],\"type\":\"histogram2d\"}],\"histogram2dcontour\":[{\"colorbar\":{\"outlinewidth\":0,\"ticks\":\"\"},\"colorscale\":[[0.0,\"#0d0887\"],[0.1111111111111111,\"#46039f\"],[0.2222222222222222,\"#7201a8\"],[0.3333333333333333,\"#9c179e\"],[0.4444444444444444,\"#bd3786\"],[0.5555555555555556,\"#d8576b\"],[0.6666666666666666,\"#ed7953\"],[0.7777777777777778,\"#fb9f3a\"],[0.8888888888888888,\"#fdca26\"],[1.0,\"#f0f921\"]],\"type\":\"histogram2dcontour\"}],\"mesh3d\":[{\"colorbar\":{\"outlinewidth\":0,\"ticks\":\"\"},\"type\":\"mesh3d\"}],\"parcoords\":[{\"line\":{\"colorbar\":{\"outlinewidth\":0,\"ticks\":\"\"}},\"type\":\"parcoords\"}],\"pie\":[{\"automargin\":true,\"type\":\"pie\"}],\"scatter\":[{\"marker\":{\"colorbar\":{\"outlinewidth\":0,\"ticks\":\"\"}},\"type\":\"scatter\"}],\"scatter3d\":[{\"line\":{\"colorbar\":{\"outlinewidth\":0,\"ticks\":\"\"}},\"marker\":{\"colorbar\":{\"outlinewidth\":0,\"ticks\":\"\"}},\"type\":\"scatter3d\"}],\"scattercarpet\":[{\"marker\":{\"colorbar\":{\"outlinewidth\":0,\"ticks\":\"\"}},\"type\":\"scattercarpet\"}],\"scattergeo\":[{\"marker\":{\"colorbar\":{\"outlinewidth\":0,\"ticks\":\"\"}},\"type\":\"scattergeo\"}],\"scattergl\":[{\"marker\":{\"colorbar\":{\"outlinewidth\":0,\"ticks\":\"\"}},\"type\":\"scattergl\"}],\"scattermapbox\":[{\"marker\":{\"colorbar\":{\"outlinewidth\":0,\"ticks\":\"\"}},\"type\":\"scattermapbox\"}],\"scatterpolar\":[{\"marker\":{\"colorbar\":{\"outlinewidth\":0,\"ticks\":\"\"}},\"type\":\"scatterpolar\"}],\"scatterpolargl\":[{\"marker\":{\"colorbar\":{\"outlinewidth\":0,\"ticks\":\"\"}},\"type\":\"scatterpolargl\"}],\"scatterternary\":[{\"marker\":{\"colorbar\":{\"outlinewidth\":0,\"ticks\":\"\"}},\"type\":\"scatterternary\"}],\"surface\":[{\"colorbar\":{\"outlinewidth\":0,\"ticks\":\"\"},\"colorscale\":[[0.0,\"#0d0887\"],[0.1111111111111111,\"#46039f\"],[0.2222222222222222,\"#7201a8\"],[0.3333333333333333,\"#9c179e\"],[0.4444444444444444,\"#bd3786\"],[0.5555555555555556,\"#d8576b\"],[0.6666666666666666,\"#ed7953\"],[0.7777777777777778,\"#fb9f3a\"],[0.8888888888888888,\"#fdca26\"],[1.0,\"#f0f921\"]],\"type\":\"surface\"}],\"table\":[{\"cells\":{\"fill\":{\"color\":\"#EBF0F8\"},\"line\":{\"color\":\"white\"}},\"header\":{\"fill\":{\"color\":\"#C8D4E3\"},\"line\":{\"color\":\"white\"}},\"type\":\"table\"}]},\"layout\":{\"annotationdefaults\":{\"arrowcolor\":\"#2a3f5f\",\"arrowhead\":0,\"arrowwidth\":1},\"autotypenumbers\":\"strict\",\"coloraxis\":{\"colorbar\":{\"outlinewidth\":0,\"ticks\":\"\"}},\"colorscale\":{\"diverging\":[[0,\"#8e0152\"],[0.1,\"#c51b7d\"],[0.2,\"#de77ae\"],[0.3,\"#f1b6da\"],[0.4,\"#fde0ef\"],[0.5,\"#f7f7f7\"],[0.6,\"#e6f5d0\"],[0.7,\"#b8e186\"],[0.8,\"#7fbc41\"],[0.9,\"#4d9221\"],[1,\"#276419\"]],\"sequential\":[[0.0,\"#0d0887\"],[0.1111111111111111,\"#46039f\"],[0.2222222222222222,\"#7201a8\"],[0.3333333333333333,\"#9c179e\"],[0.4444444444444444,\"#bd3786\"],[0.5555555555555556,\"#d8576b\"],[0.6666666666666666,\"#ed7953\"],[0.7777777777777778,\"#fb9f3a\"],[0.8888888888888888,\"#fdca26\"],[1.0,\"#f0f921\"]],\"sequentialminus\":[[0.0,\"#0d0887\"],[0.1111111111111111,\"#46039f\"],[0.2222222222222222,\"#7201a8\"],[0.3333333333333333,\"#9c179e\"],[0.4444444444444444,\"#bd3786\"],[0.5555555555555556,\"#d8576b\"],[0.6666666666666666,\"#ed7953\"],[0.7777777777777778,\"#fb9f3a\"],[0.8888888888888888,\"#fdca26\"],[1.0,\"#f0f921\"]]},\"colorway\":[\"#636efa\",\"#EF553B\",\"#00cc96\",\"#ab63fa\",\"#FFA15A\",\"#19d3f3\",\"#FF6692\",\"#B6E880\",\"#FF97FF\",\"#FECB52\"],\"font\":{\"color\":\"#2a3f5f\"},\"geo\":{\"bgcolor\":\"white\",\"lakecolor\":\"white\",\"landcolor\":\"#E5ECF6\",\"showlakes\":true,\"showland\":true,\"subunitcolor\":\"white\"},\"hoverlabel\":{\"align\":\"left\"},\"hovermode\":\"closest\",\"mapbox\":{\"style\":\"light\"},\"paper_bgcolor\":\"white\",\"plot_bgcolor\":\"#E5ECF6\",\"polar\":{\"angularaxis\":{\"gridcolor\":\"white\",\"linecolor\":\"white\",\"ticks\":\"\"},\"bgcolor\":\"#E5ECF6\",\"radialaxis\":{\"gridcolor\":\"white\",\"linecolor\":\"white\",\"ticks\":\"\"}},\"scene\":{\"xaxis\":{\"backgroundcolor\":\"#E5ECF6\",\"gridcolor\":\"white\",\"gridwidth\":2,\"linecolor\":\"white\",\"showbackground\":true,\"ticks\":\"\",\"zerolinecolor\":\"white\"},\"yaxis\":{\"backgroundcolor\":\"#E5ECF6\",\"gridcolor\":\"white\",\"gridwidth\":2,\"linecolor\":\"white\",\"showbackground\":true,\"ticks\":\"\",\"zerolinecolor\":\"white\"},\"zaxis\":{\"backgroundcolor\":\"#E5ECF6\",\"gridcolor\":\"white\",\"gridwidth\":2,\"linecolor\":\"white\",\"showbackground\":true,\"ticks\":\"\",\"zerolinecolor\":\"white\"}},\"shapedefaults\":{\"line\":{\"color\":\"#2a3f5f\"}},\"ternary\":{\"aaxis\":{\"gridcolor\":\"white\",\"linecolor\":\"white\",\"ticks\":\"\"},\"baxis\":{\"gridcolor\":\"white\",\"linecolor\":\"white\",\"ticks\":\"\"},\"bgcolor\":\"#E5ECF6\",\"caxis\":{\"gridcolor\":\"white\",\"linecolor\":\"white\",\"ticks\":\"\"}},\"title\":{\"x\":0.05},\"xaxis\":{\"automargin\":true,\"gridcolor\":\"white\",\"linecolor\":\"white\",\"ticks\":\"\",\"title\":{\"standoff\":15},\"zerolinecolor\":\"white\",\"zerolinewidth\":2},\"yaxis\":{\"automargin\":true,\"gridcolor\":\"white\",\"linecolor\":\"white\",\"ticks\":\"\",\"title\":{\"standoff\":15},\"zerolinecolor\":\"white\",\"zerolinewidth\":2}}},\"xaxis\":{\"anchor\":\"y\",\"domain\":[0.0,1.0],\"title\":{\"text\":\"Ocorr\\u00eancias\"},\"categoryorder\":\"array\",\"categoryarray\":[\"PIST\\u00c3O\",\"TURBO\\u00c9LICE\",\"TURBOEIXO\",\"***\",\"JATO\",\"SEM TRA\\u00c7\\u00c3O\"]},\"yaxis\":{\"anchor\":\"x\",\"domain\":[0.0,1.0],\"title\":{\"text\":\"aeronaves\"}},\"legend\":{\"title\":{\"text\":\"index\"},\"tracegroupgap\":0},\"title\":{\"text\":\"N\\u00famero de ocorr\\u00eancias de acidente tipo de motor\"},\"barmode\":\"relative\",\"height\":400,\"showlegend\":true,\"width\":800},                        {\"responsive\": true}                    ).then(function(){\n",
              "                            \n",
              "var gd = document.getElementById('6613081a-8f86-4065-8262-19b063ea1396');\n",
              "var x = new MutationObserver(function (mutations, observer) {{\n",
              "        var display = window.getComputedStyle(gd).display;\n",
              "        if (!display || display === 'none') {{\n",
              "            console.log([gd, 'removed!']);\n",
              "            Plotly.purge(gd);\n",
              "            observer.disconnect();\n",
              "        }}\n",
              "}});\n",
              "\n",
              "// Listen for the removal of the full notebook cells\n",
              "var notebookContainer = gd.closest('#notebook-container');\n",
              "if (notebookContainer) {{\n",
              "    x.observe(notebookContainer, {childList: true});\n",
              "}}\n",
              "\n",
              "// Listen for the clearing of the current output cell\n",
              "var outputEl = gd.closest('.output');\n",
              "if (outputEl) {{\n",
              "    x.observe(outputEl, {childList: true});\n",
              "}}\n",
              "\n",
              "                        })                };                            </script>        </div>\n",
              "</body>\n",
              "</html>"
            ]
          },
          "metadata": {}
        }
      ]
    },
    {
      "cell_type": "markdown",
      "source": [
        "Os motores aeronáuticos são classificados em motores a pistão, a jato, turboélice e os turboeixo. É possível observar, no gráfico que os motores a pistão são encontrados em maior frequência nas ocorrências reportadas."
      ],
      "metadata": {
        "id": "DcfdyV8BhtQ-"
      }
    },
    {
      "cell_type": "markdown",
      "source": [
        "##4) Qual são os top 10 estados mais relatados nas ocorrências de acidente?\n",
        "\n"
      ],
      "metadata": {
        "id": "awBA61BhXw-8"
      }
    },
    {
      "cell_type": "code",
      "execution_count": null,
      "metadata": {
        "colab": {
          "base_uri": "https://localhost:8080/",
          "height": 417
        },
        "id": "t7sn7AdNanQf",
        "outputId": "c77f349a-cf54-42bc-e323-0c44603a882e"
      },
      "outputs": [
        {
          "output_type": "display_data",
          "data": {
            "text/html": [
              "<html>\n",
              "<head><meta charset=\"utf-8\" /></head>\n",
              "<body>\n",
              "    <div>            <script src=\"https://cdnjs.cloudflare.com/ajax/libs/mathjax/2.7.5/MathJax.js?config=TeX-AMS-MML_SVG\"></script><script type=\"text/javascript\">if (window.MathJax) {MathJax.Hub.Config({SVG: {font: \"STIX-Web\"}});}</script>                <script type=\"text/javascript\">window.PlotlyConfig = {MathJaxConfig: 'local'};</script>\n",
              "        <script src=\"https://cdn.plot.ly/plotly-2.8.3.min.js\"></script>                <div id=\"5a96ecc2-7501-423c-85ed-c8332c545439\" class=\"plotly-graph-div\" style=\"height:400px; width:800px;\"></div>            <script type=\"text/javascript\">                                    window.PLOTLYENV=window.PLOTLYENV || {};                                    if (document.getElementById(\"5a96ecc2-7501-423c-85ed-c8332c545439\")) {                    Plotly.newPlot(                        \"5a96ecc2-7501-423c-85ed-c8332c545439\",                        [{\"alignmentgroup\":\"True\",\"hovertemplate\":\"ocorrencia_uf=%{y}<br>codigo_ocorrencia=%{x}<extra></extra>\",\"legendgroup\":\"SP\",\"marker\":{\"color\":\"#636efa\",\"pattern\":{\"shape\":\"\"}},\"name\":\"SP\",\"offsetgroup\":\"SP\",\"orientation\":\"h\",\"showlegend\":true,\"textposition\":\"auto\",\"texttemplate\":\"%{x}\",\"x\":[353],\"xaxis\":\"x\",\"y\":[\"SP\"],\"yaxis\":\"y\",\"type\":\"bar\"},{\"alignmentgroup\":\"True\",\"hovertemplate\":\"ocorrencia_uf=%{y}<br>codigo_ocorrencia=%{x}<extra></extra>\",\"legendgroup\":\"MT\",\"marker\":{\"color\":\"#EF553B\",\"pattern\":{\"shape\":\"\"}},\"name\":\"MT\",\"offsetgroup\":\"MT\",\"orientation\":\"h\",\"showlegend\":true,\"textposition\":\"auto\",\"texttemplate\":\"%{x}\",\"x\":[157],\"xaxis\":\"x\",\"y\":[\"MT\"],\"yaxis\":\"y\",\"type\":\"bar\"},{\"alignmentgroup\":\"True\",\"hovertemplate\":\"ocorrencia_uf=%{y}<br>codigo_ocorrencia=%{x}<extra></extra>\",\"legendgroup\":\"RS\",\"marker\":{\"color\":\"#00cc96\",\"pattern\":{\"shape\":\"\"}},\"name\":\"RS\",\"offsetgroup\":\"RS\",\"orientation\":\"h\",\"showlegend\":true,\"textposition\":\"auto\",\"texttemplate\":\"%{x}\",\"x\":[156],\"xaxis\":\"x\",\"y\":[\"RS\"],\"yaxis\":\"y\",\"type\":\"bar\"},{\"alignmentgroup\":\"True\",\"hovertemplate\":\"ocorrencia_uf=%{y}<br>codigo_ocorrencia=%{x}<extra></extra>\",\"legendgroup\":\"MG\",\"marker\":{\"color\":\"#ab63fa\",\"pattern\":{\"shape\":\"\"}},\"name\":\"MG\",\"offsetgroup\":\"MG\",\"orientation\":\"h\",\"showlegend\":true,\"textposition\":\"auto\",\"texttemplate\":\"%{x}\",\"x\":[141],\"xaxis\":\"x\",\"y\":[\"MG\"],\"yaxis\":\"y\",\"type\":\"bar\"},{\"alignmentgroup\":\"True\",\"hovertemplate\":\"ocorrencia_uf=%{y}<br>codigo_ocorrencia=%{x}<extra></extra>\",\"legendgroup\":\"PR\",\"marker\":{\"color\":\"#FFA15A\",\"pattern\":{\"shape\":\"\"}},\"name\":\"PR\",\"offsetgroup\":\"PR\",\"orientation\":\"h\",\"showlegend\":true,\"textposition\":\"auto\",\"texttemplate\":\"%{x}\",\"x\":[134],\"xaxis\":\"x\",\"y\":[\"PR\"],\"yaxis\":\"y\",\"type\":\"bar\"},{\"alignmentgroup\":\"True\",\"hovertemplate\":\"ocorrencia_uf=%{y}<br>codigo_ocorrencia=%{x}<extra></extra>\",\"legendgroup\":\"PA\",\"marker\":{\"color\":\"#19d3f3\",\"pattern\":{\"shape\":\"\"}},\"name\":\"PA\",\"offsetgroup\":\"PA\",\"orientation\":\"h\",\"showlegend\":true,\"textposition\":\"auto\",\"texttemplate\":\"%{x}\",\"x\":[118],\"xaxis\":\"x\",\"y\":[\"PA\"],\"yaxis\":\"y\",\"type\":\"bar\"},{\"alignmentgroup\":\"True\",\"hovertemplate\":\"ocorrencia_uf=%{y}<br>codigo_ocorrencia=%{x}<extra></extra>\",\"legendgroup\":\"GO\",\"marker\":{\"color\":\"#FF6692\",\"pattern\":{\"shape\":\"\"}},\"name\":\"GO\",\"offsetgroup\":\"GO\",\"orientation\":\"h\",\"showlegend\":true,\"textposition\":\"auto\",\"texttemplate\":\"%{x}\",\"x\":[114],\"xaxis\":\"x\",\"y\":[\"GO\"],\"yaxis\":\"y\",\"type\":\"bar\"},{\"alignmentgroup\":\"True\",\"hovertemplate\":\"ocorrencia_uf=%{y}<br>codigo_ocorrencia=%{x}<extra></extra>\",\"legendgroup\":\"MS\",\"marker\":{\"color\":\"#B6E880\",\"pattern\":{\"shape\":\"\"}},\"name\":\"MS\",\"offsetgroup\":\"MS\",\"orientation\":\"h\",\"showlegend\":true,\"textposition\":\"auto\",\"texttemplate\":\"%{x}\",\"x\":[78],\"xaxis\":\"x\",\"y\":[\"MS\"],\"yaxis\":\"y\",\"type\":\"bar\"},{\"alignmentgroup\":\"True\",\"hovertemplate\":\"ocorrencia_uf=%{y}<br>codigo_ocorrencia=%{x}<extra></extra>\",\"legendgroup\":\"AM\",\"marker\":{\"color\":\"#FF97FF\",\"pattern\":{\"shape\":\"\"}},\"name\":\"AM\",\"offsetgroup\":\"AM\",\"orientation\":\"h\",\"showlegend\":true,\"textposition\":\"auto\",\"texttemplate\":\"%{x}\",\"x\":[63],\"xaxis\":\"x\",\"y\":[\"AM\"],\"yaxis\":\"y\",\"type\":\"bar\"},{\"alignmentgroup\":\"True\",\"hovertemplate\":\"ocorrencia_uf=%{y}<br>codigo_ocorrencia=%{x}<extra></extra>\",\"legendgroup\":\"SC\",\"marker\":{\"color\":\"#FECB52\",\"pattern\":{\"shape\":\"\"}},\"name\":\"SC\",\"offsetgroup\":\"SC\",\"orientation\":\"h\",\"showlegend\":true,\"textposition\":\"auto\",\"texttemplate\":\"%{x}\",\"x\":[58],\"xaxis\":\"x\",\"y\":[\"SC\"],\"yaxis\":\"y\",\"type\":\"bar\"}],                        {\"template\":{\"data\":{\"bar\":[{\"error_x\":{\"color\":\"#2a3f5f\"},\"error_y\":{\"color\":\"#2a3f5f\"},\"marker\":{\"line\":{\"color\":\"#E5ECF6\",\"width\":0.5},\"pattern\":{\"fillmode\":\"overlay\",\"size\":10,\"solidity\":0.2}},\"type\":\"bar\"}],\"barpolar\":[{\"marker\":{\"line\":{\"color\":\"#E5ECF6\",\"width\":0.5},\"pattern\":{\"fillmode\":\"overlay\",\"size\":10,\"solidity\":0.2}},\"type\":\"barpolar\"}],\"carpet\":[{\"aaxis\":{\"endlinecolor\":\"#2a3f5f\",\"gridcolor\":\"white\",\"linecolor\":\"white\",\"minorgridcolor\":\"white\",\"startlinecolor\":\"#2a3f5f\"},\"baxis\":{\"endlinecolor\":\"#2a3f5f\",\"gridcolor\":\"white\",\"linecolor\":\"white\",\"minorgridcolor\":\"white\",\"startlinecolor\":\"#2a3f5f\"},\"type\":\"carpet\"}],\"choropleth\":[{\"colorbar\":{\"outlinewidth\":0,\"ticks\":\"\"},\"type\":\"choropleth\"}],\"contour\":[{\"colorbar\":{\"outlinewidth\":0,\"ticks\":\"\"},\"colorscale\":[[0.0,\"#0d0887\"],[0.1111111111111111,\"#46039f\"],[0.2222222222222222,\"#7201a8\"],[0.3333333333333333,\"#9c179e\"],[0.4444444444444444,\"#bd3786\"],[0.5555555555555556,\"#d8576b\"],[0.6666666666666666,\"#ed7953\"],[0.7777777777777778,\"#fb9f3a\"],[0.8888888888888888,\"#fdca26\"],[1.0,\"#f0f921\"]],\"type\":\"contour\"}],\"contourcarpet\":[{\"colorbar\":{\"outlinewidth\":0,\"ticks\":\"\"},\"type\":\"contourcarpet\"}],\"heatmap\":[{\"colorbar\":{\"outlinewidth\":0,\"ticks\":\"\"},\"colorscale\":[[0.0,\"#0d0887\"],[0.1111111111111111,\"#46039f\"],[0.2222222222222222,\"#7201a8\"],[0.3333333333333333,\"#9c179e\"],[0.4444444444444444,\"#bd3786\"],[0.5555555555555556,\"#d8576b\"],[0.6666666666666666,\"#ed7953\"],[0.7777777777777778,\"#fb9f3a\"],[0.8888888888888888,\"#fdca26\"],[1.0,\"#f0f921\"]],\"type\":\"heatmap\"}],\"heatmapgl\":[{\"colorbar\":{\"outlinewidth\":0,\"ticks\":\"\"},\"colorscale\":[[0.0,\"#0d0887\"],[0.1111111111111111,\"#46039f\"],[0.2222222222222222,\"#7201a8\"],[0.3333333333333333,\"#9c179e\"],[0.4444444444444444,\"#bd3786\"],[0.5555555555555556,\"#d8576b\"],[0.6666666666666666,\"#ed7953\"],[0.7777777777777778,\"#fb9f3a\"],[0.8888888888888888,\"#fdca26\"],[1.0,\"#f0f921\"]],\"type\":\"heatmapgl\"}],\"histogram\":[{\"marker\":{\"pattern\":{\"fillmode\":\"overlay\",\"size\":10,\"solidity\":0.2}},\"type\":\"histogram\"}],\"histogram2d\":[{\"colorbar\":{\"outlinewidth\":0,\"ticks\":\"\"},\"colorscale\":[[0.0,\"#0d0887\"],[0.1111111111111111,\"#46039f\"],[0.2222222222222222,\"#7201a8\"],[0.3333333333333333,\"#9c179e\"],[0.4444444444444444,\"#bd3786\"],[0.5555555555555556,\"#d8576b\"],[0.6666666666666666,\"#ed7953\"],[0.7777777777777778,\"#fb9f3a\"],[0.8888888888888888,\"#fdca26\"],[1.0,\"#f0f921\"]],\"type\":\"histogram2d\"}],\"histogram2dcontour\":[{\"colorbar\":{\"outlinewidth\":0,\"ticks\":\"\"},\"colorscale\":[[0.0,\"#0d0887\"],[0.1111111111111111,\"#46039f\"],[0.2222222222222222,\"#7201a8\"],[0.3333333333333333,\"#9c179e\"],[0.4444444444444444,\"#bd3786\"],[0.5555555555555556,\"#d8576b\"],[0.6666666666666666,\"#ed7953\"],[0.7777777777777778,\"#fb9f3a\"],[0.8888888888888888,\"#fdca26\"],[1.0,\"#f0f921\"]],\"type\":\"histogram2dcontour\"}],\"mesh3d\":[{\"colorbar\":{\"outlinewidth\":0,\"ticks\":\"\"},\"type\":\"mesh3d\"}],\"parcoords\":[{\"line\":{\"colorbar\":{\"outlinewidth\":0,\"ticks\":\"\"}},\"type\":\"parcoords\"}],\"pie\":[{\"automargin\":true,\"type\":\"pie\"}],\"scatter\":[{\"marker\":{\"colorbar\":{\"outlinewidth\":0,\"ticks\":\"\"}},\"type\":\"scatter\"}],\"scatter3d\":[{\"line\":{\"colorbar\":{\"outlinewidth\":0,\"ticks\":\"\"}},\"marker\":{\"colorbar\":{\"outlinewidth\":0,\"ticks\":\"\"}},\"type\":\"scatter3d\"}],\"scattercarpet\":[{\"marker\":{\"colorbar\":{\"outlinewidth\":0,\"ticks\":\"\"}},\"type\":\"scattercarpet\"}],\"scattergeo\":[{\"marker\":{\"colorbar\":{\"outlinewidth\":0,\"ticks\":\"\"}},\"type\":\"scattergeo\"}],\"scattergl\":[{\"marker\":{\"colorbar\":{\"outlinewidth\":0,\"ticks\":\"\"}},\"type\":\"scattergl\"}],\"scattermapbox\":[{\"marker\":{\"colorbar\":{\"outlinewidth\":0,\"ticks\":\"\"}},\"type\":\"scattermapbox\"}],\"scatterpolar\":[{\"marker\":{\"colorbar\":{\"outlinewidth\":0,\"ticks\":\"\"}},\"type\":\"scatterpolar\"}],\"scatterpolargl\":[{\"marker\":{\"colorbar\":{\"outlinewidth\":0,\"ticks\":\"\"}},\"type\":\"scatterpolargl\"}],\"scatterternary\":[{\"marker\":{\"colorbar\":{\"outlinewidth\":0,\"ticks\":\"\"}},\"type\":\"scatterternary\"}],\"surface\":[{\"colorbar\":{\"outlinewidth\":0,\"ticks\":\"\"},\"colorscale\":[[0.0,\"#0d0887\"],[0.1111111111111111,\"#46039f\"],[0.2222222222222222,\"#7201a8\"],[0.3333333333333333,\"#9c179e\"],[0.4444444444444444,\"#bd3786\"],[0.5555555555555556,\"#d8576b\"],[0.6666666666666666,\"#ed7953\"],[0.7777777777777778,\"#fb9f3a\"],[0.8888888888888888,\"#fdca26\"],[1.0,\"#f0f921\"]],\"type\":\"surface\"}],\"table\":[{\"cells\":{\"fill\":{\"color\":\"#EBF0F8\"},\"line\":{\"color\":\"white\"}},\"header\":{\"fill\":{\"color\":\"#C8D4E3\"},\"line\":{\"color\":\"white\"}},\"type\":\"table\"}]},\"layout\":{\"annotationdefaults\":{\"arrowcolor\":\"#2a3f5f\",\"arrowhead\":0,\"arrowwidth\":1},\"autotypenumbers\":\"strict\",\"coloraxis\":{\"colorbar\":{\"outlinewidth\":0,\"ticks\":\"\"}},\"colorscale\":{\"diverging\":[[0,\"#8e0152\"],[0.1,\"#c51b7d\"],[0.2,\"#de77ae\"],[0.3,\"#f1b6da\"],[0.4,\"#fde0ef\"],[0.5,\"#f7f7f7\"],[0.6,\"#e6f5d0\"],[0.7,\"#b8e186\"],[0.8,\"#7fbc41\"],[0.9,\"#4d9221\"],[1,\"#276419\"]],\"sequential\":[[0.0,\"#0d0887\"],[0.1111111111111111,\"#46039f\"],[0.2222222222222222,\"#7201a8\"],[0.3333333333333333,\"#9c179e\"],[0.4444444444444444,\"#bd3786\"],[0.5555555555555556,\"#d8576b\"],[0.6666666666666666,\"#ed7953\"],[0.7777777777777778,\"#fb9f3a\"],[0.8888888888888888,\"#fdca26\"],[1.0,\"#f0f921\"]],\"sequentialminus\":[[0.0,\"#0d0887\"],[0.1111111111111111,\"#46039f\"],[0.2222222222222222,\"#7201a8\"],[0.3333333333333333,\"#9c179e\"],[0.4444444444444444,\"#bd3786\"],[0.5555555555555556,\"#d8576b\"],[0.6666666666666666,\"#ed7953\"],[0.7777777777777778,\"#fb9f3a\"],[0.8888888888888888,\"#fdca26\"],[1.0,\"#f0f921\"]]},\"colorway\":[\"#636efa\",\"#EF553B\",\"#00cc96\",\"#ab63fa\",\"#FFA15A\",\"#19d3f3\",\"#FF6692\",\"#B6E880\",\"#FF97FF\",\"#FECB52\"],\"font\":{\"color\":\"#2a3f5f\"},\"geo\":{\"bgcolor\":\"white\",\"lakecolor\":\"white\",\"landcolor\":\"#E5ECF6\",\"showlakes\":true,\"showland\":true,\"subunitcolor\":\"white\"},\"hoverlabel\":{\"align\":\"left\"},\"hovermode\":\"closest\",\"mapbox\":{\"style\":\"light\"},\"paper_bgcolor\":\"white\",\"plot_bgcolor\":\"#E5ECF6\",\"polar\":{\"angularaxis\":{\"gridcolor\":\"white\",\"linecolor\":\"white\",\"ticks\":\"\"},\"bgcolor\":\"#E5ECF6\",\"radialaxis\":{\"gridcolor\":\"white\",\"linecolor\":\"white\",\"ticks\":\"\"}},\"scene\":{\"xaxis\":{\"backgroundcolor\":\"#E5ECF6\",\"gridcolor\":\"white\",\"gridwidth\":2,\"linecolor\":\"white\",\"showbackground\":true,\"ticks\":\"\",\"zerolinecolor\":\"white\"},\"yaxis\":{\"backgroundcolor\":\"#E5ECF6\",\"gridcolor\":\"white\",\"gridwidth\":2,\"linecolor\":\"white\",\"showbackground\":true,\"ticks\":\"\",\"zerolinecolor\":\"white\"},\"zaxis\":{\"backgroundcolor\":\"#E5ECF6\",\"gridcolor\":\"white\",\"gridwidth\":2,\"linecolor\":\"white\",\"showbackground\":true,\"ticks\":\"\",\"zerolinecolor\":\"white\"}},\"shapedefaults\":{\"line\":{\"color\":\"#2a3f5f\"}},\"ternary\":{\"aaxis\":{\"gridcolor\":\"white\",\"linecolor\":\"white\",\"ticks\":\"\"},\"baxis\":{\"gridcolor\":\"white\",\"linecolor\":\"white\",\"ticks\":\"\"},\"bgcolor\":\"#E5ECF6\",\"caxis\":{\"gridcolor\":\"white\",\"linecolor\":\"white\",\"ticks\":\"\"}},\"title\":{\"x\":0.05},\"xaxis\":{\"automargin\":true,\"gridcolor\":\"white\",\"linecolor\":\"white\",\"ticks\":\"\",\"title\":{\"standoff\":15},\"zerolinecolor\":\"white\",\"zerolinewidth\":2},\"yaxis\":{\"automargin\":true,\"gridcolor\":\"white\",\"linecolor\":\"white\",\"ticks\":\"\",\"title\":{\"standoff\":15},\"zerolinecolor\":\"white\",\"zerolinewidth\":2}}},\"xaxis\":{\"anchor\":\"y\",\"domain\":[0.0,1.0],\"title\":{\"text\":\"Ocorr\\u00eancias\"}},\"yaxis\":{\"anchor\":\"x\",\"domain\":[0.0,1.0],\"title\":{\"text\":\" Estados\"},\"categoryorder\":\"array\",\"categoryarray\":[\"SC\",\"AM\",\"MS\",\"GO\",\"PA\",\"PR\",\"MG\",\"RS\",\"MT\",\"SP\"]},\"legend\":{\"title\":{\"text\":\"ocorrencia_uf\"},\"tracegroupgap\":0},\"title\":{\"text\":\"N\\u00famero de ocorr\\u00eancias por Estado\"},\"barmode\":\"relative\",\"height\":400,\"showlegend\":true,\"width\":800},                        {\"responsive\": true}                    ).then(function(){\n",
              "                            \n",
              "var gd = document.getElementById('5a96ecc2-7501-423c-85ed-c8332c545439');\n",
              "var x = new MutationObserver(function (mutations, observer) {{\n",
              "        var display = window.getComputedStyle(gd).display;\n",
              "        if (!display || display === 'none') {{\n",
              "            console.log([gd, 'removed!']);\n",
              "            Plotly.purge(gd);\n",
              "            observer.disconnect();\n",
              "        }}\n",
              "}});\n",
              "\n",
              "// Listen for the removal of the full notebook cells\n",
              "var notebookContainer = gd.closest('#notebook-container');\n",
              "if (notebookContainer) {{\n",
              "    x.observe(notebookContainer, {childList: true});\n",
              "}}\n",
              "\n",
              "// Listen for the clearing of the current output cell\n",
              "var outputEl = gd.closest('.output');\n",
              "if (outputEl) {{\n",
              "    x.observe(outputEl, {childList: true});\n",
              "}}\n",
              "\n",
              "                        })                };                            </script>        </div>\n",
              "</body>\n",
              "</html>"
            ]
          },
          "metadata": {}
        }
      ],
      "source": [
        "# Top 10 estados com maiores ocorrências de acidentes\n",
        "grupo_ocorrencias = amostra_acidente[['ocorrencia_uf','codigo_ocorrencia'\t]].groupby('ocorrencia_uf').count() \n",
        "amostras_sele_estado =  grupo_ocorrencias.sort_values(by = 'codigo_ocorrencia', ascending = False) [0:10]\n",
        "\n",
        "fig = px.bar(amostras_sele_estado, x=amostras_sele_estado.codigo_ocorrencia, \n",
        "             y=amostras_sele_estado.index, color=amostras_sele_estado.index, \n",
        "             orientation='h',\n",
        "             text_auto = True,                \n",
        "             height=400,\n",
        "             title='Número de ocorrências por Estado')\n",
        "\n",
        "fig.update_xaxes(title= 'Ocorrências')\n",
        "fig.update_yaxes(title= ' Estados')    \n",
        "    \n",
        "fig.update_layout(\n",
        "    height=400,\n",
        "    showlegend=True,    \n",
        "    width = 800,\n",
        "   \n",
        ")"
      ]
    },
    {
      "cell_type": "markdown",
      "source": [
        "A quantidade de registros de acidentes em São Paulo foi expressivamente maior que a quantidade de registros demais  estados. Esse número é devido à concentração de aeródromos no Estado de São Paulo.\n"
      ],
      "metadata": {
        "id": "fBlqanb1aLh8"
      }
    },
    {
      "cell_type": "markdown",
      "source": [
        "##5) Quais são os tipos de ocorrências de acidente mais relatados?"
      ],
      "metadata": {
        "id": "4_G40xWDYLUM"
      }
    },
    {
      "cell_type": "code",
      "source": [
        "#Tipos de ocorrências\n",
        "amostra_acidente_tipo= pd.merge(amostra_acidente, ocorrencia_tipo[['codigo_ocorrencia1','ocorrencia_tipo']], how = 'inner', on = 'codigo_ocorrencia1')"
      ],
      "metadata": {
        "id": "HS0y-aEdq1_C"
      },
      "execution_count": null,
      "outputs": []
    },
    {
      "cell_type": "code",
      "execution_count": null,
      "metadata": {
        "colab": {
          "base_uri": "https://localhost:8080/",
          "height": 541
        },
        "id": "PlqSGCtdYDG_",
        "outputId": "b96878f0-dc87-4b6a-f3d6-339a50d02606"
      },
      "outputs": [
        {
          "output_type": "display_data",
          "data": {
            "text/html": [
              "<html>\n",
              "<head><meta charset=\"utf-8\" /></head>\n",
              "<body>\n",
              "    <div>            <script src=\"https://cdnjs.cloudflare.com/ajax/libs/mathjax/2.7.5/MathJax.js?config=TeX-AMS-MML_SVG\"></script><script type=\"text/javascript\">if (window.MathJax) {MathJax.Hub.Config({SVG: {font: \"STIX-Web\"}});}</script>                <script type=\"text/javascript\">window.PlotlyConfig = {MathJaxConfig: 'local'};</script>\n",
              "        <script src=\"https://cdn.plot.ly/plotly-2.8.3.min.js\"></script>                <div id=\"c112bbb0-b0a4-4b96-8ac8-0e461a28e3ad\" class=\"plotly-graph-div\" style=\"height:525px; width:100%;\"></div>            <script type=\"text/javascript\">                                    window.PLOTLYENV=window.PLOTLYENV || {};                                    if (document.getElementById(\"c112bbb0-b0a4-4b96-8ac8-0e461a28e3ad\")) {                    Plotly.newPlot(                        \"c112bbb0-b0a4-4b96-8ac8-0e461a28e3ad\",                        [{\"branchvalues\":\"total\",\"domain\":{\"x\":[0.0,1.0],\"y\":[0.0,1.0]},\"hovertemplate\":\"labels=%{label}<br>codigo_ocorrencia=%{value}<br>parent=%{parent}<br>id=%{id}<extra></extra>\",\"ids\":[\"CAUSADO POR FEN\\u00d4MENO METEOROL\\u00d3GICO EM VOO/***\",\"INDETERMINADO/***\",\"COLIS\\u00c3O COM FAUNA/AC\",\"COLIS\\u00c3O DE VE\\u00cdCULO COM AERONAVE/AC\",\"COM TREM DE POUSO/AC\",\"FALHA DO MOTOR EM VOO/AC\",\"INDETERMINADO/AC\",\"PERDA DE CONTROLE EM VOO/AC\",\"PERDA DE CONTROLE NO SOLO/AC\",\"POUSO SEM TREM/AC\",\"PERDA DE CONTROLE EM VOO/AL\",\"COLIS\\u00c3O COM FAUNA/AM\",\"COLIS\\u00c3O COM OBST\\u00c1CULO DURANTE A DECOLAGEM E POUSO/AM\",\"COLIS\\u00c3O COM OBST\\u00c1CULOS NO SOLO/AM\",\"COM COMANDOS DE VOO/AM\",\"COM PARA-BRISAS / JANELA / PORTA/AM\",\"COM TREM DE POUSO/AM\",\"DESORIENTA\\u00c7\\u00c3O ESPACIAL/AM\",\"ESTOURO DE PNEU/AM\",\"EXCURS\\u00c3O DE PISTA/AM\",\"FALHA DO MOTOR EM VOO/AM\",\"FALHA OU MAU FUNCIONAMENTO DE SISTEMA / COMPONENTE/AM\",\"INDETERMINADO/AM\",\"OUTROS/AM\",\"PANE SECA/AM\",\"PERDA DE CONTROLE EM VOO/AM\",\"PERDA DE CONTROLE NO SOLO/AM\",\"POUSO BRUSCO/AM\",\"POUSO SEM TREM/AM\",\"VOO CONTROLADO CONTRA O TERRENO/AM\",\"FALHA DO MOTOR EM VOO/AP\",\"FALHA OU MAU FUNCIONAMENTO DE SISTEMA / COMPONENTE/AP\",\"OUTROS/AP\",\"CAUSADO POR FEN\\u00d4MENO METEOROL\\u00d3GICO EM VOO/BA\",\"COLIS\\u00c3O COM OBST\\u00c1CULO DURANTE A DECOLAGEM E POUSO/BA\",\"COLIS\\u00c3O COM OBST\\u00c1CULOS NO SOLO/BA\",\"COM TREM DE POUSO/BA\",\"CONTATO ANORMAL COM A PISTA/BA\",\"EXCURS\\u00c3O DE PISTA/BA\",\"FALHA DO MOTOR EM VOO/BA\",\"INDETERMINADO/BA\",\"OPERA\\u00c7\\u00c3O A BAIXA ALTITUDE/BA\",\"PANE SECA/BA\",\"PERDA DE COMPONENTE EM VOO/BA\",\"PERDA DE CONTROLE EM VOO/BA\",\"PERDA DE CONTROLE NO SOLO/BA\",\"POUSO ANTES DA PISTA/BA\",\"POUSO EM LOCAL N\\u00c3O PREVISTO/BA\",\"COLIS\\u00c3O COM OBST\\u00c1CULO DURANTE A DECOLAGEM E POUSO/CE\",\"COM H\\u00c9LICE/CE\",\"COM PESSOAL EM VOO/CE\",\"COM TREM DE POUSO/CE\",\"EXCURS\\u00c3O DE PISTA/CE\",\"FALHA DO MOTOR EM VOO/CE\",\"FALHA OU MAU FUNCIONAMENTO DE SISTEMA / COMPONENTE/CE\",\"INDETERMINADO/CE\",\"OPERA\\u00c7\\u00c3O A BAIXA ALTITUDE/CE\",\"OPERA\\u00c7\\u00d5ES NO SOLO/CE\",\"OUTROS/CE\",\"PERDA DE CONTROLE EM VOO/CE\",\"PERDA DE CONTROLE NO SOLO/CE\",\"POUSO EM LOCAL N\\u00c3O PREVISTO/CE\",\"COLIS\\u00c3O DE AERONAVES EM VOO/DF\",\"COM TREM DE POUSO/DF\",\"EXCURS\\u00c3O DE PISTA/DF\",\"FALHA OU MAU FUNCIONAMENTO DE SISTEMA / COMPONENTE/DF\",\"PERDA DE CONTROLE EM VOO/DF\",\"PERDA DE CONTROLE NO SOLO/DF\",\"POUSO SEM TREM/DF\",\"VOO CONTROLADO CONTRA O TERRENO/DF\",\"CAUSADO POR FEN\\u00d4MENO METEOROL\\u00d3GICO NO SOLO/ES\",\"COLIS\\u00c3O COM OBST\\u00c1CULO DURANTE A DECOLAGEM E POUSO/ES\",\"COMBUST\\u00cdVEL/ES\",\"FALHA DO MOTOR EM VOO/ES\",\"FALHA OU MAU FUNCIONAMENTO DE SISTEMA / COMPONENTE/ES\",\"MANOBRA ABRUPTA/ES\",\"OPERA\\u00c7\\u00c3O A BAIXA ALTITUDE/ES\",\"PERDA DE CONTROLE EM VOO/ES\",\"PERDA DE CONTROLE NO SOLO/ES\",\"COLIS\\u00c3O COM FAUNA/GO\",\"COLIS\\u00c3O COM OBST\\u00c1CULO DURANTE A DECOLAGEM E POUSO/GO\",\"COLIS\\u00c3O COM OBST\\u00c1CULOS NO SOLO/GO\",\"COM COMANDOS DE VOO/GO\",\"COM TREM DE POUSO/GO\",\"EXCURS\\u00c3O DE PISTA/GO\",\"FALHA DO MOTOR EM VOO/GO\",\"FALHA OU MAU FUNCIONAMENTO DE SISTEMA / COMPONENTE/GO\",\"FUMA\\u00c7A NA CABINE/GO\",\"INCURS\\u00c3O EM PISTA/GO\",\"INDETERMINADO/GO\",\"OPERA\\u00c7\\u00c3O A BAIXA ALTITUDE/GO\",\"OUTROS/GO\",\"PANE SECA/GO\",\"PERDA DE COMPONENTE EM VOO/GO\",\"PERDA DE COMPONENTE NO SOLO/GO\",\"PERDA DE CONTROLE EM VOO/GO\",\"PERDA DE CONTROLE NO SOLO/GO\",\"POUSO ANTES DA PISTA/GO\",\"POUSO BRUSCO/GO\",\"POUSO EM LOCAL N\\u00c3O PREVISTO/GO\",\"POUSO LONGO/GO\",\"POUSO SEM TREM/GO\",\"VOO CONTROLADO CONTRA O TERRENO/GO\",\"COLIS\\u00c3O COM AERONAVE NO SOLO/MA\",\"COLIS\\u00c3O COM FAUNA/MA\",\"COLIS\\u00c3O COM OBST\\u00c1CULO DURANTE A DECOLAGEM E POUSO/MA\",\"CONTATO ANORMAL COM A PISTAA/MA\",\"FALHA DO MOTOR EM VOO/MA\",\"FALHA ESTRUTURAL/MA\",\"FALHA OU MAU FUNCIONAMENTO DO MOTOR/MA\",\"INDETERMINADO/MA\",\"OPERA\\u00c7\\u00c3O A BAIXA ALTITUDE/MA\",\"OUTROS/MA\",\"PERDA DE COMPONENTE EM VOO/MA\",\"PERDA DE CONTROLE EM VOO/MA\",\"POUSO LONGO/MA\",\"PROBLEMAS FISIOL\\u00d3GICOS/MA\",\"CAUSADO POR FEN\\u00d4MENO METEOROL\\u00d3GICO NO SOLO/MG\",\"COLIS\\u00c3O COM AVE/MG\",\"COLIS\\u00c3O COM OBST\\u00c1CULO DURANTE A DECOLAGEM E POUSO/MG\",\"COLIS\\u00c3O COM OBST\\u00c1CULOS NO SOLO/MG\",\"COM COMANDOS DE VOO/MG\",\"COM ROTOR/MG\",\"COM TREM DE POUSO/MG\",\"EXCURS\\u00c3O DE PISTA/MG\",\"FALHA DO MOTOR EM VOO/MG\",\"FALHA OU MAU FUNCIONAMENTO DE SISTEMA / COMPONENTE/MG\",\"FALHA OU MAU FUNCIONAMENTO DO MOTOR/MG\",\"FOGO NO SOLO/MG\",\"INDETERMINADO/MG\",\"MANOBRA ABRUPTA/MG\",\"OPERA\\u00c7\\u00c3O A BAIXA ALTITUDE/MG\",\"OUTROS/MG\",\"PANE SECA/MG\",\"PERDA DA CONSCI\\u00caNCIA/MG\",\"PERDA DE COMPONENTE EM VOO/MG\",\"PERDA DE CONTROLE EM VOO/MG\",\"PERDA DE CONTROLE NO SOLO/MG\",\"POUSO ANTES DA PISTA/MG\",\"POUSO BRUSCO/MG\",\"POUSO LONGO/MG\",\"POUSO SEM TREM/MG\",\"VOO CONTROLADO CONTRA O TERRENO/MG\",\"AER\\u00d3DROMO/MS\",\"COLIS\\u00c3O COM FAUNA/MS\",\"COLIS\\u00c3O COM OBST\\u00c1CULO DURANTE A DECOLAGEM E POUSO/MS\",\"COM H\\u00c9LICE/MS\",\"COM TREM DE POUSO/MS\",\"EXCURS\\u00c3O DE PISTA/MS\",\"FALHA DO MOTOR EM VOO/MS\",\"IMC N\\u00c3O INTENCIONAL/MS\",\"INDETERMINADO/MS\",\"OPERA\\u00c7\\u00c3O A BAIXA ALTITUDE/MS\",\"OUTROS/MS\",\"PANE SECA/MS\",\"PERDA DE CONTROLE EM VOO/MS\",\"PERDA DE CONTROLE NO SOLO/MS\",\"POUSO BRUSCO/MS\",\"POUSO EM LOCAL N\\u00c3O PREVISTO/MS\",\"POUSO LONGO/MS\",\"POUSO SEM TREM/MS\",\"VOO CONTROLADO CONTRA O TERRENO/MS\",\"AER\\u00d3DROMO/MT\",\"CAUSADO POR FEN\\u00d4MENO METEOROL\\u00d3GICO EM VOO/MT\",\"CAUSADO POR FEN\\u00d4MENO METEOROL\\u00d3GICO NO SOLO/MT\",\"COLIS\\u00c3O COM FAUNA/MT\",\"COLIS\\u00c3O COM OBST\\u00c1CULO DURANTE A DECOLAGEM E POUSO/MT\",\"COLIS\\u00c3O COM OBST\\u00c1CULOS NO SOLO/MT\",\"COM TREM DE POUSO/MT\",\"CONTATO ANORMAL COM A PISTAA/MT\",\"ESTOURO DE PNEU/MT\",\"EXCURS\\u00c3O DE PISTA/MT\",\"FALHA DO MOTOR EM VOO/MT\",\"FALHA OU MAU FUNCIONAMENTO DE SISTEMA / COMPONENTE/MT\",\"IMC N\\u00c3O INTENCIONAL/MT\",\"INDETERMINADO/MT\",\"OPERA\\u00c7\\u00c3O A BAIXA ALTITUDE/MT\",\"OUTROS/MT\",\"PANE SECA/MT\",\"PERDA DE COMPONENTE EM VOO/MT\",\"PERDA DE CONTROLE EM VOO/MT\",\"PERDA DE CONTROLE NO SOLO/MT\",\"POUSO BRUSCO/MT\",\"POUSO EM LOCAL N\\u00c3O PREVISTO/MT\",\"POUSO LONGO/MT\",\"POUSO SEM TREM/MT\",\"PROBLEMAS FISIOL\\u00d3GICOS/MT\",\"VOO CONTROLADO CONTRA O TERRENO/MT\",\"AERONAVE ATINGIDA POR OBJETO/PA\",\"COLIS\\u00c3O COM FAUNA/PA\",\"COLIS\\u00c3O COM OBST\\u00c1CULO DURANTE A DECOLAGEM E POUSO/PA\",\"COLIS\\u00c3O COM OBST\\u00c1CULOS NO SOLO/PA\",\"COLIS\\u00c3O DE AERONAVES EM VOO/PA\",\"COM TREM DE POUSO/PA\",\"COMBUST\\u00cdVEL/PA\",\"DESORIENTA\\u00c7\\u00c3O ESPACIAL/PA\",\"EXCURS\\u00c3O DE PISTA/PA\",\"FALHA DO MOTOR EM VOO/PA\",\"FALHA ESTRUTURAL/PA\",\"FALHA OU MAU FUNCIONAMENTO DE SISTEMA / COMPONENTE/PA\",\"FOGO NO SOLO/PA\",\"INDETERMINADO/PA\",\"OPERA\\u00c7\\u00c3O A BAIXA ALTITUDE/PA\",\"OUTROS/PA\",\"PANE SECA/PA\",\"PERDA DE CONTROLE EM VOO/PA\",\"PERDA DE CONTROLE NO SOLO/PA\",\"POUSO ANTES DA PISTA/PA\",\"POUSO BRUSCO/PA\",\"POUSO EM LOCAL N\\u00c3O PREVISTO/PA\",\"POUSO LONGO/PA\",\"POUSO SEM TREM/PA\",\"COM TREM DE POUSO/PB\",\"FALHA DO MOTOR EM VOO/PB\",\"PERDA DE CONTROLE EM VOO/PB\",\"PERDA DE CONTROLE NO SOLO/PB\",\"POUSO SEM TREM/PB\",\"COLIS\\u00c3O COM OBST\\u00c1CULO DURANTE A DECOLAGEM E POUSO/PE\",\"COM CARGAS EXTERNAS/PE\",\"COM TREM DE POUSO/PE\",\"EXCURS\\u00c3O DE PISTA/PE\",\"FALHA DO MOTOR EM VOO/PE\",\"FALHA ESTRUTURAL/PE\",\"FALHA OU MAU FUNCIONAMENTO DE SISTEMA / COMPONENTE/PE\",\"PERDA DE CONTROLE EM VOO/PE\",\"PERDA DE CONTROLE NO SOLO/PE\",\"COLIS\\u00c3O COM OBST\\u00c1CULO DURANTE A DECOLAGEM E POUSO/PI\",\"FALHA DO MOTOR EM VOO/PI\",\"INDETERMINADO/PI\",\"OPERA\\u00c7\\u00c3O A BAIXA ALTITUDE/PI\",\"PERDA DE CONTROLE EM VOO/PI\",\"PERDA DE CONTROLE NO SOLO/PI\",\"POUSO EM LOCAL N\\u00c3O PREVISTO/PI\",\"VOO CONTROLADO CONTRA O TERRENO/PI\",\"CAUSADO POR FEN\\u00d4MENO METEOROL\\u00d3GICO NO SOLO/PR\",\"COLIS\\u00c3O COM OBST\\u00c1CULO DURANTE A DECOLAGEM E POUSO/PR\",\"COLIS\\u00c3O COM OBST\\u00c1CULOS NO SOLO/PR\",\"COLIS\\u00c3O NO SOLO/PR\",\"COM H\\u00c9LICE/PR\",\"COM TREM DE POUSO/PR\",\"COMBUST\\u00cdVEL/PR\",\"CORTANTE DE VENTO / TEMPESTADE/PR\",\"EXCURS\\u00c3O DE PISTA/PR\",\"FALHA DO MOTOR EM VOO/PR\",\"FALHA DO MOTOR NO SOLO/PR\",\"FALHA OU MAU FUNCIONAMENTO DE SISTEMA / COMPONENTE/PR\",\"IMC N\\u00c3O INTENCIONAL/PR\",\"INDETERMINADO/PR\",\"MANOBRA ABRUPTA/PR\",\"OPERA\\u00c7\\u00c3O A BAIXA ALTITUDE/PR\",\"OUTROS/PR\",\"PANE SECA/PR\",\"PERDA DA CONSCI\\u00caNCIA/PR\",\"PERDA DE COMPONENTE EM VOO/PR\",\"PERDA DE CONTROLE EM VOO/PR\",\"PERDA DE CONTROLE NO SOLO/PR\",\"POUSO BRUSCO/PR\",\"POUSO EM LOCAL N\\u00c3O PREVISTO/PR\",\"POUSO LONGO/PR\",\"POUSO SEM TREM/PR\",\"VOO CONTROLADO CONTRA O TERRENO/PR\",\"ALARME FALSO DE FOGO OU DE SUPERAQUECIMENTO/RJ\",\"CAUSADO POR FEN\\u00d4MENO METEOROL\\u00d3GICO EM VOO/RJ\",\"COLIS\\u00c3O COM AVE/RJ\",\"COLIS\\u00c3O COM OBST\\u00c1CULO DURANTE A DECOLAGEM E POUSO/RJ\",\"COLIS\\u00c3O EM VOO COM OBST\\u00c1CULO/RJ\",\"COM H\\u00c9LICE/RJ\",\"COM ROTOR/RJ\",\"EXCURS\\u00c3O DE PISTA/RJ\",\"FALHA DO MOTOR EM VOO/RJ\",\"FALHA OU MAU FUNCIONAMENTO DE SISTEMA / COMPONENTE/RJ\",\"INDETERMINADO/RJ\",\"OUTROS/RJ\",\"PANE SECA/RJ\",\"PERDA DE CONTROLE EM VOO/RJ\",\"PERDA DE CONTROLE NO SOLO/RJ\",\"POUSO ANTES DA PISTA/RJ\",\"POUSO AQU\\u00c9M/AL\\u00c9M DA PISTA/RJ\",\"POUSO BRUSCO/RJ\",\"POUSO LONGO/RJ\",\"VOO CONTROLADO CONTRA O TERRENO/RJ\",\"COLIS\\u00c3O COM OBST\\u00c1CULOS NO SOLO/RN\",\"FALHA DO MOTOR EM VOO/RN\",\"PERDA DE CONTROLE EM VOO/RN\",\"COLIS\\u00c3O COM OBST\\u00c1CULO DURANTE A DECOLAGEM E POUSO/RO\",\"COM TREM DE POUSO/RO\",\"EXCURS\\u00c3O DE PISTA/RO\",\"FALHA DO MOTOR EM VOO/RO\",\"INCURS\\u00c3O EM PISTA/RO\",\"INDETERMINADO/RO\",\"PANE SECA/RO\",\"PERDA DE COMPONENTE EM VOO/RO\",\"PERDA DE CONTROLE EM VOO/RO\",\"POUSO SEM TREM/RO\",\"CAUSADO POR FEN\\u00d4MENO METEOROL\\u00d3GICO EM VOO/RR\",\"COLIS\\u00c3O COM OBST\\u00c1CULO DURANTE A DECOLAGEM E POUSO/RR\",\"COM TREM DE POUSO/RR\",\"DESORIENTA\\u00c7\\u00c3O ESPACIAL/RR\",\"ESTOURO DE PNEU/RR\",\"EXCURS\\u00c3O DE PISTA/RR\",\"FALHA DO MOTOR EM VOO/RR\",\"FALHA OU MAU FUNCIONAMENTO DE SISTEMA / COMPONENTE/RR\",\"INDETERMINADO/RR\",\"OUTROS/RR\",\"PANE SECA/RR\",\"PERDA DE CONTROLE EM VOO/RR\",\"PERDA DE CONTROLE NO SOLO/RR\",\"POUSO LONGO/RR\",\"VOO CONTROLADO CONTRA O TERRENO/RR\",\"COLIS\\u00c3O COM FAUNA/RS\",\"COLIS\\u00c3O COM OBST\\u00c1CULO DURANTE A DECOLAGEM E POUSO/RS\",\"COLIS\\u00c3O COM OBST\\u00c1CULOS NO SOLO/RS\",\"COM COMANDOS DE VOO/RS\",\"COM PARA-BRISAS / JANELA / PORTA/RS\",\"COM TREM DE POUSO/RS\",\"CORTE INVOLUNT\\u00c1RIO DO MOTOR/RS\",\"EXCURS\\u00c3O DE PISTA/RS\",\"FALHA DO MOTOR EM VOO/RS\",\"FALHA ESTRUTURAL/RS\",\"FALHA OU MAU FUNCIONAMENTO DE SISTEMA / COMPONENTE/RS\",\"INDETERMINADO/RS\",\"OPERA\\u00c7\\u00c3O A BAIXA ALTITUDE/RS\",\"OUTROS/RS\",\"PANE SECA/RS\",\"PERDA DE CONTROLE EM VOO/RS\",\"PERDA DE CONTROLE NO SOLO/RS\",\"POUSO ANTES DA PISTA/RS\",\"POUSO BRUSCO/RS\",\"POUSO EM LOCAL N\\u00c3O PREVISTO/RS\",\"POUSO LONGO/RS\",\"POUSO SEM TREM/RS\",\"REBOQUE DE PLANADOR/RS\",\"CAUSADO POR FEN\\u00d4MENO METEOROL\\u00d3GICO EM VOO/SC\",\"CAUSADO POR FEN\\u00d4MENO METEOROL\\u00d3GICO NO SOLO/SC\",\"COLIS\\u00c3O COM AERONAVE NO SOLO/SC\",\"COLIS\\u00c3O COM OBST\\u00c1CULO DURANTE A DECOLAGEM E POUSO/SC\",\"COLIS\\u00c3O COM OBST\\u00c1CULOS NO SOLO/SC\",\"COLIS\\u00c3O DE AERONAVES EM VOO/SC\",\"COM TREM DE POUSO/SC\",\"EXCURS\\u00c3O DE PISTA/SC\",\"FALHA DO MOTOR EM VOO/SC\",\"FALHA OU MAU FUNCIONAMENTO DE SISTEMA / COMPONENTE/SC\",\"INCURS\\u00c3O EM PISTA/SC\",\"INDETERMINADO/SC\",\"OPERA\\u00c7\\u00c3O A BAIXA ALTITUDE/SC\",\"OUTROS/SC\",\"PANE SECA/SC\",\"PERDA DE COMPONENTE EM VOO/SC\",\"PERDA DE CONTROLE EM VOO/SC\",\"PERDA DE CONTROLE NO SOLO/SC\",\"POUSO BRUSCO/SC\",\"POUSO LONGO/SC\",\"POUSO SEM TREM/SC\",\"VOO CONTROLADO CONTRA O TERRENO/SC\",\"COLIS\\u00c3O COM OBST\\u00c1CULO DURANTE A DECOLAGEM E POUSO/SE\",\"OPERA\\u00c7\\u00c3O A BAIXA ALTITUDE/SE\",\"PERDA DE CONTROLE EM VOO/SE\",\"PERDA DE CONTROLE NO SOLO/SE\",\"POUSO BRUSCO/SE\",\"TURBUL\\u00caNCIA/SE\",\"CAUSADO POR FEN\\u00d4MENO METEOROL\\u00d3GICO EM VOO/SP\",\"CAUSADO POR FEN\\u00d4MENO METEOROL\\u00d3GICO NO SOLO/SP\",\"COLIS\\u00c3O COM AERONAVE NO SOLO/SP\",\"COLIS\\u00c3O COM AVE/SP\",\"COLIS\\u00c3O COM OBST\\u00c1CULO DURANTE A DECOLAGEM E POUSO/SP\",\"COLIS\\u00c3O COM OBST\\u00c1CULOS NO SOLO/SP\",\"COLIS\\u00c3O DE AERONAVES EM VOO/SP\",\"COM COMANDOS DE VOO/SP\",\"COM H\\u00c9LICE/SP\",\"COM LAN\\u00c7AMENTO DE PESSOAS/SP\",\"COM PESSOAL EM VOO/SP\",\"COM ROTOR/SP\",\"COM TREM DE POUSO/SP\",\"COMBUST\\u00cdVEL/SP\",\"CONTATO ANORMAL COM A PISTAA/SP\",\"CORTANTE DE VENTO / TEMPESTADE/SP\",\"CORTE INVOLUNT\\u00c1RIO DO MOTOR/SP\",\"ESTOURO DE PNEU/SP\",\"EXCURS\\u00c3O DE PISTA/SP\",\"FALHA DO MOTOR EM VOO/SP\",\"FALHA ESTRUTURAL/SP\",\"FALHA OU MAU FUNCIONAMENTO DE SISTEMA / COMPONENTE/SP\",\"FOGO EM VOO/SP\",\"FORMA\\u00c7\\u00c3O DE GELO/SP\",\"IMC N\\u00c3O INTENCIONAL/SP\",\"INCURS\\u00c3O EM PISTA/SP\",\"INDETERMINADO/SP\",\"MANOBRA ABRUPTA/SP\",\"OPERA\\u00c7\\u00c3O A BAIXA ALTITUDE/SP\",\"OUTROS/SP\",\"PANE SECA/SP\",\"PERDA DE COMPONENTE EM VOO/SP\",\"PERDA DE COMPONENTE NO SOLO/SP\",\"PERDA DE CONDI\\u00c7\\u00d5ES DE SUSTENTA\\u00c7\\u00c3O EM ROTA/SP\",\"PERDA DE CONTROLE EM VOO/SP\",\"PERDA DE CONTROLE NO SOLO/SP\",\"POUSO ANTES DA PISTA/SP\",\"POUSO BRUSCO/SP\",\"POUSO EM LOCAL N\\u00c3O PREVISTO/SP\",\"POUSO LONGO/SP\",\"POUSO SEM TREM/SP\",\"REBOQUE DE PLANADOR/SP\",\"SUPERAQUECIMENTO/SP\",\"TR\\u00c1FEGO A\\u00c9REO/SP\",\"TURBUL\\u00caNCIA/SP\",\"VOO CONTROLADO CONTRA O TERRENO/SP\",\"COLIS\\u00c3O COM OBST\\u00c1CULO DURANTE A DECOLAGEM E POUSO/TO\",\"FALHA DO MOTOR EM VOO/TO\",\"OPERA\\u00c7\\u00c3O A BAIXA ALTITUDE/TO\",\"PERDA DE COMPONENTE EM VOO/TO\",\"PERDA DE CONTROLE EM VOO/TO\",\"PERDA DE CONTROLE NO SOLO/TO\",\"POUSO EM LOCAL N\\u00c3O PREVISTO/TO\",\"VOO CONTROLADO CONTRA O TERRENO/TO\",\"AERONAVE ATINGIDA POR OBJETO\",\"AER\\u00d3DROMO\",\"ALARME FALSO DE FOGO OU DE SUPERAQUECIMENTO\",\"CAUSADO POR FEN\\u00d4MENO METEOROL\\u00d3GICO EM VOO\",\"CAUSADO POR FEN\\u00d4MENO METEOROL\\u00d3GICO NO SOLO\",\"COLIS\\u00c3O COM AERONAVE NO SOLO\",\"COLIS\\u00c3O COM AVE\",\"COLIS\\u00c3O COM FAUNA\",\"COLIS\\u00c3O COM OBST\\u00c1CULO DURANTE A DECOLAGEM E POUSO\",\"COLIS\\u00c3O COM OBST\\u00c1CULOS NO SOLO\",\"COLIS\\u00c3O DE AERONAVES EM VOO\",\"COLIS\\u00c3O DE VE\\u00cdCULO COM AERONAVE\",\"COLIS\\u00c3O EM VOO COM OBST\\u00c1CULO\",\"COLIS\\u00c3O NO SOLO\",\"COM CARGAS EXTERNAS\",\"COM COMANDOS DE VOO\",\"COM H\\u00c9LICE\",\"COM LAN\\u00c7AMENTO DE PESSOAS\",\"COM PARA-BRISAS / JANELA / PORTA\",\"COM PESSOAL EM VOO\",\"COM ROTOR\",\"COM TREM DE POUSO\",\"COMBUST\\u00cdVEL\",\"CONTATO ANORMAL COM A PISTA\",\"CONTATO ANORMAL COM A PISTAA\",\"CORTANTE DE VENTO / TEMPESTADE\",\"CORTE INVOLUNT\\u00c1RIO DO MOTOR\",\"DESORIENTA\\u00c7\\u00c3O ESPACIAL\",\"ESTOURO DE PNEU\",\"EXCURS\\u00c3O DE PISTA\",\"FALHA DO MOTOR EM VOO\",\"FALHA DO MOTOR NO SOLO\",\"FALHA ESTRUTURAL\",\"FALHA OU MAU FUNCIONAMENTO DE SISTEMA / COMPONENTE\",\"FALHA OU MAU FUNCIONAMENTO DO MOTOR\",\"FOGO EM VOO\",\"FOGO NO SOLO\",\"FORMA\\u00c7\\u00c3O DE GELO\",\"FUMA\\u00c7A NA CABINE\",\"IMC N\\u00c3O INTENCIONAL\",\"INCURS\\u00c3O EM PISTA\",\"INDETERMINADO\",\"MANOBRA ABRUPTA\",\"OPERA\\u00c7\\u00c3O A BAIXA ALTITUDE\",\"OPERA\\u00c7\\u00d5ES NO SOLO\",\"OUTROS\",\"PANE SECA\",\"PERDA DA CONSCI\\u00caNCIA\",\"PERDA DE COMPONENTE EM VOO\",\"PERDA DE COMPONENTE NO SOLO\",\"PERDA DE CONDI\\u00c7\\u00d5ES DE SUSTENTA\\u00c7\\u00c3O EM ROTA\",\"PERDA DE CONTROLE EM VOO\",\"PERDA DE CONTROLE NO SOLO\",\"POUSO ANTES DA PISTA\",\"POUSO AQU\\u00c9M/AL\\u00c9M DA PISTA\",\"POUSO BRUSCO\",\"POUSO EM LOCAL N\\u00c3O PREVISTO\",\"POUSO LONGO\",\"POUSO SEM TREM\",\"PROBLEMAS FISIOL\\u00d3GICOS\",\"REBOQUE DE PLANADOR\",\"SUPERAQUECIMENTO\",\"TR\\u00c1FEGO A\\u00c9REO\",\"TURBUL\\u00caNCIA\",\"VOO CONTROLADO CONTRA O TERRENO\"],\"labels\":[\"***\",\"***\",\"AC\",\"AC\",\"AC\",\"AC\",\"AC\",\"AC\",\"AC\",\"AC\",\"AL\",\"AM\",\"AM\",\"AM\",\"AM\",\"AM\",\"AM\",\"AM\",\"AM\",\"AM\",\"AM\",\"AM\",\"AM\",\"AM\",\"AM\",\"AM\",\"AM\",\"AM\",\"AM\",\"AM\",\"AP\",\"AP\",\"AP\",\"BA\",\"BA\",\"BA\",\"BA\",\"BA\",\"BA\",\"BA\",\"BA\",\"BA\",\"BA\",\"BA\",\"BA\",\"BA\",\"BA\",\"BA\",\"CE\",\"CE\",\"CE\",\"CE\",\"CE\",\"CE\",\"CE\",\"CE\",\"CE\",\"CE\",\"CE\",\"CE\",\"CE\",\"CE\",\"DF\",\"DF\",\"DF\",\"DF\",\"DF\",\"DF\",\"DF\",\"DF\",\"ES\",\"ES\",\"ES\",\"ES\",\"ES\",\"ES\",\"ES\",\"ES\",\"ES\",\"GO\",\"GO\",\"GO\",\"GO\",\"GO\",\"GO\",\"GO\",\"GO\",\"GO\",\"GO\",\"GO\",\"GO\",\"GO\",\"GO\",\"GO\",\"GO\",\"GO\",\"GO\",\"GO\",\"GO\",\"GO\",\"GO\",\"GO\",\"GO\",\"MA\",\"MA\",\"MA\",\"MA\",\"MA\",\"MA\",\"MA\",\"MA\",\"MA\",\"MA\",\"MA\",\"MA\",\"MA\",\"MA\",\"MG\",\"MG\",\"MG\",\"MG\",\"MG\",\"MG\",\"MG\",\"MG\",\"MG\",\"MG\",\"MG\",\"MG\",\"MG\",\"MG\",\"MG\",\"MG\",\"MG\",\"MG\",\"MG\",\"MG\",\"MG\",\"MG\",\"MG\",\"MG\",\"MG\",\"MG\",\"MS\",\"MS\",\"MS\",\"MS\",\"MS\",\"MS\",\"MS\",\"MS\",\"MS\",\"MS\",\"MS\",\"MS\",\"MS\",\"MS\",\"MS\",\"MS\",\"MS\",\"MS\",\"MS\",\"MT\",\"MT\",\"MT\",\"MT\",\"MT\",\"MT\",\"MT\",\"MT\",\"MT\",\"MT\",\"MT\",\"MT\",\"MT\",\"MT\",\"MT\",\"MT\",\"MT\",\"MT\",\"MT\",\"MT\",\"MT\",\"MT\",\"MT\",\"MT\",\"MT\",\"MT\",\"PA\",\"PA\",\"PA\",\"PA\",\"PA\",\"PA\",\"PA\",\"PA\",\"PA\",\"PA\",\"PA\",\"PA\",\"PA\",\"PA\",\"PA\",\"PA\",\"PA\",\"PA\",\"PA\",\"PA\",\"PA\",\"PA\",\"PA\",\"PA\",\"PB\",\"PB\",\"PB\",\"PB\",\"PB\",\"PE\",\"PE\",\"PE\",\"PE\",\"PE\",\"PE\",\"PE\",\"PE\",\"PE\",\"PI\",\"PI\",\"PI\",\"PI\",\"PI\",\"PI\",\"PI\",\"PI\",\"PR\",\"PR\",\"PR\",\"PR\",\"PR\",\"PR\",\"PR\",\"PR\",\"PR\",\"PR\",\"PR\",\"PR\",\"PR\",\"PR\",\"PR\",\"PR\",\"PR\",\"PR\",\"PR\",\"PR\",\"PR\",\"PR\",\"PR\",\"PR\",\"PR\",\"PR\",\"PR\",\"RJ\",\"RJ\",\"RJ\",\"RJ\",\"RJ\",\"RJ\",\"RJ\",\"RJ\",\"RJ\",\"RJ\",\"RJ\",\"RJ\",\"RJ\",\"RJ\",\"RJ\",\"RJ\",\"RJ\",\"RJ\",\"RJ\",\"RJ\",\"RN\",\"RN\",\"RN\",\"RO\",\"RO\",\"RO\",\"RO\",\"RO\",\"RO\",\"RO\",\"RO\",\"RO\",\"RO\",\"RR\",\"RR\",\"RR\",\"RR\",\"RR\",\"RR\",\"RR\",\"RR\",\"RR\",\"RR\",\"RR\",\"RR\",\"RR\",\"RR\",\"RR\",\"RS\",\"RS\",\"RS\",\"RS\",\"RS\",\"RS\",\"RS\",\"RS\",\"RS\",\"RS\",\"RS\",\"RS\",\"RS\",\"RS\",\"RS\",\"RS\",\"RS\",\"RS\",\"RS\",\"RS\",\"RS\",\"RS\",\"RS\",\"SC\",\"SC\",\"SC\",\"SC\",\"SC\",\"SC\",\"SC\",\"SC\",\"SC\",\"SC\",\"SC\",\"SC\",\"SC\",\"SC\",\"SC\",\"SC\",\"SC\",\"SC\",\"SC\",\"SC\",\"SC\",\"SC\",\"SE\",\"SE\",\"SE\",\"SE\",\"SE\",\"SE\",\"SP\",\"SP\",\"SP\",\"SP\",\"SP\",\"SP\",\"SP\",\"SP\",\"SP\",\"SP\",\"SP\",\"SP\",\"SP\",\"SP\",\"SP\",\"SP\",\"SP\",\"SP\",\"SP\",\"SP\",\"SP\",\"SP\",\"SP\",\"SP\",\"SP\",\"SP\",\"SP\",\"SP\",\"SP\",\"SP\",\"SP\",\"SP\",\"SP\",\"SP\",\"SP\",\"SP\",\"SP\",\"SP\",\"SP\",\"SP\",\"SP\",\"SP\",\"SP\",\"SP\",\"SP\",\"SP\",\"TO\",\"TO\",\"TO\",\"TO\",\"TO\",\"TO\",\"TO\",\"TO\",\"AERONAVE ATINGIDA POR OBJETO\",\"AER\\u00d3DROMO\",\"ALARME FALSO DE FOGO OU DE SUPERAQUECIMENTO\",\"CAUSADO POR FEN\\u00d4MENO METEOROL\\u00d3GICO EM VOO\",\"CAUSADO POR FEN\\u00d4MENO METEOROL\\u00d3GICO NO SOLO\",\"COLIS\\u00c3O COM AERONAVE NO SOLO\",\"COLIS\\u00c3O COM AVE\",\"COLIS\\u00c3O COM FAUNA\",\"COLIS\\u00c3O COM OBST\\u00c1CULO DURANTE A DECOLAGEM E POUSO\",\"COLIS\\u00c3O COM OBST\\u00c1CULOS NO SOLO\",\"COLIS\\u00c3O DE AERONAVES EM VOO\",\"COLIS\\u00c3O DE VE\\u00cdCULO COM AERONAVE\",\"COLIS\\u00c3O EM VOO COM OBST\\u00c1CULO\",\"COLIS\\u00c3O NO SOLO\",\"COM CARGAS EXTERNAS\",\"COM COMANDOS DE VOO\",\"COM H\\u00c9LICE\",\"COM LAN\\u00c7AMENTO DE PESSOAS\",\"COM PARA-BRISAS / JANELA / PORTA\",\"COM PESSOAL EM VOO\",\"COM ROTOR\",\"COM TREM DE POUSO\",\"COMBUST\\u00cdVEL\",\"CONTATO ANORMAL COM A PISTA\",\"CONTATO ANORMAL COM A PISTAA\",\"CORTANTE DE VENTO / TEMPESTADE\",\"CORTE INVOLUNT\\u00c1RIO DO MOTOR\",\"DESORIENTA\\u00c7\\u00c3O ESPACIAL\",\"ESTOURO DE PNEU\",\"EXCURS\\u00c3O DE PISTA\",\"FALHA DO MOTOR EM VOO\",\"FALHA DO MOTOR NO SOLO\",\"FALHA ESTRUTURAL\",\"FALHA OU MAU FUNCIONAMENTO DE SISTEMA / COMPONENTE\",\"FALHA OU MAU FUNCIONAMENTO DO MOTOR\",\"FOGO EM VOO\",\"FOGO NO SOLO\",\"FORMA\\u00c7\\u00c3O DE GELO\",\"FUMA\\u00c7A NA CABINE\",\"IMC N\\u00c3O INTENCIONAL\",\"INCURS\\u00c3O EM PISTA\",\"INDETERMINADO\",\"MANOBRA ABRUPTA\",\"OPERA\\u00c7\\u00c3O A BAIXA ALTITUDE\",\"OPERA\\u00c7\\u00d5ES NO SOLO\",\"OUTROS\",\"PANE SECA\",\"PERDA DA CONSCI\\u00caNCIA\",\"PERDA DE COMPONENTE EM VOO\",\"PERDA DE COMPONENTE NO SOLO\",\"PERDA DE CONDI\\u00c7\\u00d5ES DE SUSTENTA\\u00c7\\u00c3O EM ROTA\",\"PERDA DE CONTROLE EM VOO\",\"PERDA DE CONTROLE NO SOLO\",\"POUSO ANTES DA PISTA\",\"POUSO AQU\\u00c9M/AL\\u00c9M DA PISTA\",\"POUSO BRUSCO\",\"POUSO EM LOCAL N\\u00c3O PREVISTO\",\"POUSO LONGO\",\"POUSO SEM TREM\",\"PROBLEMAS FISIOL\\u00d3GICOS\",\"REBOQUE DE PLANADOR\",\"SUPERAQUECIMENTO\",\"TR\\u00c1FEGO A\\u00c9REO\",\"TURBUL\\u00caNCIA\",\"VOO CONTROLADO CONTRA O TERRENO\"],\"name\":\"\",\"parents\":[\"CAUSADO POR FEN\\u00d4MENO METEOROL\\u00d3GICO EM VOO\",\"INDETERMINADO\",\"COLIS\\u00c3O COM FAUNA\",\"COLIS\\u00c3O DE VE\\u00cdCULO COM AERONAVE\",\"COM TREM DE POUSO\",\"FALHA DO MOTOR EM VOO\",\"INDETERMINADO\",\"PERDA DE CONTROLE EM VOO\",\"PERDA DE CONTROLE NO SOLO\",\"POUSO SEM TREM\",\"PERDA DE CONTROLE EM VOO\",\"COLIS\\u00c3O COM FAUNA\",\"COLIS\\u00c3O COM OBST\\u00c1CULO DURANTE A DECOLAGEM E POUSO\",\"COLIS\\u00c3O COM OBST\\u00c1CULOS NO SOLO\",\"COM COMANDOS DE VOO\",\"COM PARA-BRISAS / JANELA / PORTA\",\"COM TREM DE POUSO\",\"DESORIENTA\\u00c7\\u00c3O ESPACIAL\",\"ESTOURO DE PNEU\",\"EXCURS\\u00c3O DE PISTA\",\"FALHA DO MOTOR EM VOO\",\"FALHA OU MAU FUNCIONAMENTO DE SISTEMA / COMPONENTE\",\"INDETERMINADO\",\"OUTROS\",\"PANE SECA\",\"PERDA DE CONTROLE EM VOO\",\"PERDA DE CONTROLE NO SOLO\",\"POUSO BRUSCO\",\"POUSO SEM TREM\",\"VOO CONTROLADO CONTRA O TERRENO\",\"FALHA DO MOTOR EM VOO\",\"FALHA OU MAU FUNCIONAMENTO DE SISTEMA / COMPONENTE\",\"OUTROS\",\"CAUSADO POR FEN\\u00d4MENO METEOROL\\u00d3GICO EM VOO\",\"COLIS\\u00c3O COM OBST\\u00c1CULO DURANTE A DECOLAGEM E POUSO\",\"COLIS\\u00c3O COM OBST\\u00c1CULOS NO SOLO\",\"COM TREM DE POUSO\",\"CONTATO ANORMAL COM A PISTA\",\"EXCURS\\u00c3O DE PISTA\",\"FALHA DO MOTOR EM VOO\",\"INDETERMINADO\",\"OPERA\\u00c7\\u00c3O A BAIXA ALTITUDE\",\"PANE SECA\",\"PERDA DE COMPONENTE EM VOO\",\"PERDA DE CONTROLE EM VOO\",\"PERDA DE CONTROLE NO SOLO\",\"POUSO ANTES DA PISTA\",\"POUSO EM LOCAL N\\u00c3O PREVISTO\",\"COLIS\\u00c3O COM OBST\\u00c1CULO DURANTE A DECOLAGEM E POUSO\",\"COM H\\u00c9LICE\",\"COM PESSOAL EM VOO\",\"COM TREM DE POUSO\",\"EXCURS\\u00c3O DE PISTA\",\"FALHA DO MOTOR EM VOO\",\"FALHA OU MAU FUNCIONAMENTO DE SISTEMA / COMPONENTE\",\"INDETERMINADO\",\"OPERA\\u00c7\\u00c3O A BAIXA ALTITUDE\",\"OPERA\\u00c7\\u00d5ES NO SOLO\",\"OUTROS\",\"PERDA DE CONTROLE EM VOO\",\"PERDA DE CONTROLE NO SOLO\",\"POUSO EM LOCAL N\\u00c3O PREVISTO\",\"COLIS\\u00c3O DE AERONAVES EM VOO\",\"COM TREM DE POUSO\",\"EXCURS\\u00c3O DE PISTA\",\"FALHA OU MAU FUNCIONAMENTO DE SISTEMA / COMPONENTE\",\"PERDA DE CONTROLE EM VOO\",\"PERDA DE CONTROLE NO SOLO\",\"POUSO SEM TREM\",\"VOO CONTROLADO CONTRA O TERRENO\",\"CAUSADO POR FEN\\u00d4MENO METEOROL\\u00d3GICO NO SOLO\",\"COLIS\\u00c3O COM OBST\\u00c1CULO DURANTE A DECOLAGEM E POUSO\",\"COMBUST\\u00cdVEL\",\"FALHA DO MOTOR EM VOO\",\"FALHA OU MAU FUNCIONAMENTO DE SISTEMA / COMPONENTE\",\"MANOBRA ABRUPTA\",\"OPERA\\u00c7\\u00c3O A BAIXA ALTITUDE\",\"PERDA DE CONTROLE EM VOO\",\"PERDA DE CONTROLE NO SOLO\",\"COLIS\\u00c3O COM FAUNA\",\"COLIS\\u00c3O COM OBST\\u00c1CULO DURANTE A DECOLAGEM E POUSO\",\"COLIS\\u00c3O COM OBST\\u00c1CULOS NO SOLO\",\"COM COMANDOS DE VOO\",\"COM TREM DE POUSO\",\"EXCURS\\u00c3O DE PISTA\",\"FALHA DO MOTOR EM VOO\",\"FALHA OU MAU FUNCIONAMENTO DE SISTEMA / COMPONENTE\",\"FUMA\\u00c7A NA CABINE\",\"INCURS\\u00c3O EM PISTA\",\"INDETERMINADO\",\"OPERA\\u00c7\\u00c3O A BAIXA ALTITUDE\",\"OUTROS\",\"PANE SECA\",\"PERDA DE COMPONENTE EM VOO\",\"PERDA DE COMPONENTE NO SOLO\",\"PERDA DE CONTROLE EM VOO\",\"PERDA DE CONTROLE NO SOLO\",\"POUSO ANTES DA PISTA\",\"POUSO BRUSCO\",\"POUSO EM LOCAL N\\u00c3O PREVISTO\",\"POUSO LONGO\",\"POUSO SEM TREM\",\"VOO CONTROLADO CONTRA O TERRENO\",\"COLIS\\u00c3O COM AERONAVE NO SOLO\",\"COLIS\\u00c3O COM FAUNA\",\"COLIS\\u00c3O COM OBST\\u00c1CULO DURANTE A DECOLAGEM E POUSO\",\"CONTATO ANORMAL COM A PISTAA\",\"FALHA DO MOTOR EM VOO\",\"FALHA ESTRUTURAL\",\"FALHA OU MAU FUNCIONAMENTO DO MOTOR\",\"INDETERMINADO\",\"OPERA\\u00c7\\u00c3O A BAIXA ALTITUDE\",\"OUTROS\",\"PERDA DE COMPONENTE EM VOO\",\"PERDA DE CONTROLE EM VOO\",\"POUSO LONGO\",\"PROBLEMAS FISIOL\\u00d3GICOS\",\"CAUSADO POR FEN\\u00d4MENO METEOROL\\u00d3GICO NO SOLO\",\"COLIS\\u00c3O COM AVE\",\"COLIS\\u00c3O COM OBST\\u00c1CULO DURANTE A DECOLAGEM E POUSO\",\"COLIS\\u00c3O COM OBST\\u00c1CULOS NO SOLO\",\"COM COMANDOS DE VOO\",\"COM ROTOR\",\"COM TREM DE POUSO\",\"EXCURS\\u00c3O DE PISTA\",\"FALHA DO MOTOR EM VOO\",\"FALHA OU MAU FUNCIONAMENTO DE SISTEMA / COMPONENTE\",\"FALHA OU MAU FUNCIONAMENTO DO MOTOR\",\"FOGO NO SOLO\",\"INDETERMINADO\",\"MANOBRA ABRUPTA\",\"OPERA\\u00c7\\u00c3O A BAIXA ALTITUDE\",\"OUTROS\",\"PANE SECA\",\"PERDA DA CONSCI\\u00caNCIA\",\"PERDA DE COMPONENTE EM VOO\",\"PERDA DE CONTROLE EM VOO\",\"PERDA DE CONTROLE NO SOLO\",\"POUSO ANTES DA PISTA\",\"POUSO BRUSCO\",\"POUSO LONGO\",\"POUSO SEM TREM\",\"VOO CONTROLADO CONTRA O TERRENO\",\"AER\\u00d3DROMO\",\"COLIS\\u00c3O COM FAUNA\",\"COLIS\\u00c3O COM OBST\\u00c1CULO DURANTE A DECOLAGEM E POUSO\",\"COM H\\u00c9LICE\",\"COM TREM DE POUSO\",\"EXCURS\\u00c3O DE PISTA\",\"FALHA DO MOTOR EM VOO\",\"IMC N\\u00c3O INTENCIONAL\",\"INDETERMINADO\",\"OPERA\\u00c7\\u00c3O A BAIXA ALTITUDE\",\"OUTROS\",\"PANE SECA\",\"PERDA DE CONTROLE EM VOO\",\"PERDA DE CONTROLE NO SOLO\",\"POUSO BRUSCO\",\"POUSO EM LOCAL N\\u00c3O PREVISTO\",\"POUSO LONGO\",\"POUSO SEM TREM\",\"VOO CONTROLADO CONTRA O TERRENO\",\"AER\\u00d3DROMO\",\"CAUSADO POR FEN\\u00d4MENO METEOROL\\u00d3GICO EM VOO\",\"CAUSADO POR FEN\\u00d4MENO METEOROL\\u00d3GICO NO SOLO\",\"COLIS\\u00c3O COM FAUNA\",\"COLIS\\u00c3O COM OBST\\u00c1CULO DURANTE A DECOLAGEM E POUSO\",\"COLIS\\u00c3O COM OBST\\u00c1CULOS NO SOLO\",\"COM TREM DE POUSO\",\"CONTATO ANORMAL COM A PISTAA\",\"ESTOURO DE PNEU\",\"EXCURS\\u00c3O DE PISTA\",\"FALHA DO MOTOR EM VOO\",\"FALHA OU MAU FUNCIONAMENTO DE SISTEMA / COMPONENTE\",\"IMC N\\u00c3O INTENCIONAL\",\"INDETERMINADO\",\"OPERA\\u00c7\\u00c3O A BAIXA ALTITUDE\",\"OUTROS\",\"PANE SECA\",\"PERDA DE COMPONENTE EM VOO\",\"PERDA DE CONTROLE EM VOO\",\"PERDA DE CONTROLE NO SOLO\",\"POUSO BRUSCO\",\"POUSO EM LOCAL N\\u00c3O PREVISTO\",\"POUSO LONGO\",\"POUSO SEM TREM\",\"PROBLEMAS FISIOL\\u00d3GICOS\",\"VOO CONTROLADO CONTRA O TERRENO\",\"AERONAVE ATINGIDA POR OBJETO\",\"COLIS\\u00c3O COM FAUNA\",\"COLIS\\u00c3O COM OBST\\u00c1CULO DURANTE A DECOLAGEM E POUSO\",\"COLIS\\u00c3O COM OBST\\u00c1CULOS NO SOLO\",\"COLIS\\u00c3O DE AERONAVES EM VOO\",\"COM TREM DE POUSO\",\"COMBUST\\u00cdVEL\",\"DESORIENTA\\u00c7\\u00c3O ESPACIAL\",\"EXCURS\\u00c3O DE PISTA\",\"FALHA DO MOTOR EM VOO\",\"FALHA ESTRUTURAL\",\"FALHA OU MAU FUNCIONAMENTO DE SISTEMA / COMPONENTE\",\"FOGO NO SOLO\",\"INDETERMINADO\",\"OPERA\\u00c7\\u00c3O A BAIXA ALTITUDE\",\"OUTROS\",\"PANE SECA\",\"PERDA DE CONTROLE EM VOO\",\"PERDA DE CONTROLE NO SOLO\",\"POUSO ANTES DA PISTA\",\"POUSO BRUSCO\",\"POUSO EM LOCAL N\\u00c3O PREVISTO\",\"POUSO LONGO\",\"POUSO SEM TREM\",\"COM TREM DE POUSO\",\"FALHA DO MOTOR EM VOO\",\"PERDA DE CONTROLE EM VOO\",\"PERDA DE CONTROLE NO SOLO\",\"POUSO SEM TREM\",\"COLIS\\u00c3O COM OBST\\u00c1CULO DURANTE A DECOLAGEM E POUSO\",\"COM CARGAS EXTERNAS\",\"COM TREM DE POUSO\",\"EXCURS\\u00c3O DE PISTA\",\"FALHA DO MOTOR EM VOO\",\"FALHA ESTRUTURAL\",\"FALHA OU MAU FUNCIONAMENTO DE SISTEMA / COMPONENTE\",\"PERDA DE CONTROLE EM VOO\",\"PERDA DE CONTROLE NO SOLO\",\"COLIS\\u00c3O COM OBST\\u00c1CULO DURANTE A DECOLAGEM E POUSO\",\"FALHA DO MOTOR EM VOO\",\"INDETERMINADO\",\"OPERA\\u00c7\\u00c3O A BAIXA ALTITUDE\",\"PERDA DE CONTROLE EM VOO\",\"PERDA DE CONTROLE NO SOLO\",\"POUSO EM LOCAL N\\u00c3O PREVISTO\",\"VOO CONTROLADO CONTRA O TERRENO\",\"CAUSADO POR FEN\\u00d4MENO METEOROL\\u00d3GICO NO SOLO\",\"COLIS\\u00c3O COM OBST\\u00c1CULO DURANTE A DECOLAGEM E POUSO\",\"COLIS\\u00c3O COM OBST\\u00c1CULOS NO SOLO\",\"COLIS\\u00c3O NO SOLO\",\"COM H\\u00c9LICE\",\"COM TREM DE POUSO\",\"COMBUST\\u00cdVEL\",\"CORTANTE DE VENTO / TEMPESTADE\",\"EXCURS\\u00c3O DE PISTA\",\"FALHA DO MOTOR EM VOO\",\"FALHA DO MOTOR NO SOLO\",\"FALHA OU MAU FUNCIONAMENTO DE SISTEMA / COMPONENTE\",\"IMC N\\u00c3O INTENCIONAL\",\"INDETERMINADO\",\"MANOBRA ABRUPTA\",\"OPERA\\u00c7\\u00c3O A BAIXA ALTITUDE\",\"OUTROS\",\"PANE SECA\",\"PERDA DA CONSCI\\u00caNCIA\",\"PERDA DE COMPONENTE EM VOO\",\"PERDA DE CONTROLE EM VOO\",\"PERDA DE CONTROLE NO SOLO\",\"POUSO BRUSCO\",\"POUSO EM LOCAL N\\u00c3O PREVISTO\",\"POUSO LONGO\",\"POUSO SEM TREM\",\"VOO CONTROLADO CONTRA O TERRENO\",\"ALARME FALSO DE FOGO OU DE SUPERAQUECIMENTO\",\"CAUSADO POR FEN\\u00d4MENO METEOROL\\u00d3GICO EM VOO\",\"COLIS\\u00c3O COM AVE\",\"COLIS\\u00c3O COM OBST\\u00c1CULO DURANTE A DECOLAGEM E POUSO\",\"COLIS\\u00c3O EM VOO COM OBST\\u00c1CULO\",\"COM H\\u00c9LICE\",\"COM ROTOR\",\"EXCURS\\u00c3O DE PISTA\",\"FALHA DO MOTOR EM VOO\",\"FALHA OU MAU FUNCIONAMENTO DE SISTEMA / COMPONENTE\",\"INDETERMINADO\",\"OUTROS\",\"PANE SECA\",\"PERDA DE CONTROLE EM VOO\",\"PERDA DE CONTROLE NO SOLO\",\"POUSO ANTES DA PISTA\",\"POUSO AQU\\u00c9M/AL\\u00c9M DA PISTA\",\"POUSO BRUSCO\",\"POUSO LONGO\",\"VOO CONTROLADO CONTRA O TERRENO\",\"COLIS\\u00c3O COM OBST\\u00c1CULOS NO SOLO\",\"FALHA DO MOTOR EM VOO\",\"PERDA DE CONTROLE EM VOO\",\"COLIS\\u00c3O COM OBST\\u00c1CULO DURANTE A DECOLAGEM E POUSO\",\"COM TREM DE POUSO\",\"EXCURS\\u00c3O DE PISTA\",\"FALHA DO MOTOR EM VOO\",\"INCURS\\u00c3O EM PISTA\",\"INDETERMINADO\",\"PANE SECA\",\"PERDA DE COMPONENTE EM VOO\",\"PERDA DE CONTROLE EM VOO\",\"POUSO SEM TREM\",\"CAUSADO POR FEN\\u00d4MENO METEOROL\\u00d3GICO EM VOO\",\"COLIS\\u00c3O COM OBST\\u00c1CULO DURANTE A DECOLAGEM E POUSO\",\"COM TREM DE POUSO\",\"DESORIENTA\\u00c7\\u00c3O ESPACIAL\",\"ESTOURO DE PNEU\",\"EXCURS\\u00c3O DE PISTA\",\"FALHA DO MOTOR EM VOO\",\"FALHA OU MAU FUNCIONAMENTO DE SISTEMA / COMPONENTE\",\"INDETERMINADO\",\"OUTROS\",\"PANE SECA\",\"PERDA DE CONTROLE EM VOO\",\"PERDA DE CONTROLE NO SOLO\",\"POUSO LONGO\",\"VOO CONTROLADO CONTRA O TERRENO\",\"COLIS\\u00c3O COM FAUNA\",\"COLIS\\u00c3O COM OBST\\u00c1CULO DURANTE A DECOLAGEM E POUSO\",\"COLIS\\u00c3O COM OBST\\u00c1CULOS NO SOLO\",\"COM COMANDOS DE VOO\",\"COM PARA-BRISAS / JANELA / PORTA\",\"COM TREM DE POUSO\",\"CORTE INVOLUNT\\u00c1RIO DO MOTOR\",\"EXCURS\\u00c3O DE PISTA\",\"FALHA DO MOTOR EM VOO\",\"FALHA ESTRUTURAL\",\"FALHA OU MAU FUNCIONAMENTO DE SISTEMA / COMPONENTE\",\"INDETERMINADO\",\"OPERA\\u00c7\\u00c3O A BAIXA ALTITUDE\",\"OUTROS\",\"PANE SECA\",\"PERDA DE CONTROLE EM VOO\",\"PERDA DE CONTROLE NO SOLO\",\"POUSO ANTES DA PISTA\",\"POUSO BRUSCO\",\"POUSO EM LOCAL N\\u00c3O PREVISTO\",\"POUSO LONGO\",\"POUSO SEM TREM\",\"REBOQUE DE PLANADOR\",\"CAUSADO POR FEN\\u00d4MENO METEOROL\\u00d3GICO EM VOO\",\"CAUSADO POR FEN\\u00d4MENO METEOROL\\u00d3GICO NO SOLO\",\"COLIS\\u00c3O COM AERONAVE NO SOLO\",\"COLIS\\u00c3O COM OBST\\u00c1CULO DURANTE A DECOLAGEM E POUSO\",\"COLIS\\u00c3O COM OBST\\u00c1CULOS NO SOLO\",\"COLIS\\u00c3O DE AERONAVES EM VOO\",\"COM TREM DE POUSO\",\"EXCURS\\u00c3O DE PISTA\",\"FALHA DO MOTOR EM VOO\",\"FALHA OU MAU FUNCIONAMENTO DE SISTEMA / COMPONENTE\",\"INCURS\\u00c3O EM PISTA\",\"INDETERMINADO\",\"OPERA\\u00c7\\u00c3O A BAIXA ALTITUDE\",\"OUTROS\",\"PANE SECA\",\"PERDA DE COMPONENTE EM VOO\",\"PERDA DE CONTROLE EM VOO\",\"PERDA DE CONTROLE NO SOLO\",\"POUSO BRUSCO\",\"POUSO LONGO\",\"POUSO SEM TREM\",\"VOO CONTROLADO CONTRA O TERRENO\",\"COLIS\\u00c3O COM OBST\\u00c1CULO DURANTE A DECOLAGEM E POUSO\",\"OPERA\\u00c7\\u00c3O A BAIXA ALTITUDE\",\"PERDA DE CONTROLE EM VOO\",\"PERDA DE CONTROLE NO SOLO\",\"POUSO BRUSCO\",\"TURBUL\\u00caNCIA\",\"CAUSADO POR FEN\\u00d4MENO METEOROL\\u00d3GICO EM VOO\",\"CAUSADO POR FEN\\u00d4MENO METEOROL\\u00d3GICO NO SOLO\",\"COLIS\\u00c3O COM AERONAVE NO SOLO\",\"COLIS\\u00c3O COM AVE\",\"COLIS\\u00c3O COM OBST\\u00c1CULO DURANTE A DECOLAGEM E POUSO\",\"COLIS\\u00c3O COM OBST\\u00c1CULOS NO SOLO\",\"COLIS\\u00c3O DE AERONAVES EM VOO\",\"COM COMANDOS DE VOO\",\"COM H\\u00c9LICE\",\"COM LAN\\u00c7AMENTO DE PESSOAS\",\"COM PESSOAL EM VOO\",\"COM ROTOR\",\"COM TREM DE POUSO\",\"COMBUST\\u00cdVEL\",\"CONTATO ANORMAL COM A PISTAA\",\"CORTANTE DE VENTO / TEMPESTADE\",\"CORTE INVOLUNT\\u00c1RIO DO MOTOR\",\"ESTOURO DE PNEU\",\"EXCURS\\u00c3O DE PISTA\",\"FALHA DO MOTOR EM VOO\",\"FALHA ESTRUTURAL\",\"FALHA OU MAU FUNCIONAMENTO DE SISTEMA / COMPONENTE\",\"FOGO EM VOO\",\"FORMA\\u00c7\\u00c3O DE GELO\",\"IMC N\\u00c3O INTENCIONAL\",\"INCURS\\u00c3O EM PISTA\",\"INDETERMINADO\",\"MANOBRA ABRUPTA\",\"OPERA\\u00c7\\u00c3O A BAIXA ALTITUDE\",\"OUTROS\",\"PANE SECA\",\"PERDA DE COMPONENTE EM VOO\",\"PERDA DE COMPONENTE NO SOLO\",\"PERDA DE CONDI\\u00c7\\u00d5ES DE SUSTENTA\\u00c7\\u00c3O EM ROTA\",\"PERDA DE CONTROLE EM VOO\",\"PERDA DE CONTROLE NO SOLO\",\"POUSO ANTES DA PISTA\",\"POUSO BRUSCO\",\"POUSO EM LOCAL N\\u00c3O PREVISTO\",\"POUSO LONGO\",\"POUSO SEM TREM\",\"REBOQUE DE PLANADOR\",\"SUPERAQUECIMENTO\",\"TR\\u00c1FEGO A\\u00c9REO\",\"TURBUL\\u00caNCIA\",\"VOO CONTROLADO CONTRA O TERRENO\",\"COLIS\\u00c3O COM OBST\\u00c1CULO DURANTE A DECOLAGEM E POUSO\",\"FALHA DO MOTOR EM VOO\",\"OPERA\\u00c7\\u00c3O A BAIXA ALTITUDE\",\"PERDA DE COMPONENTE EM VOO\",\"PERDA DE CONTROLE EM VOO\",\"PERDA DE CONTROLE NO SOLO\",\"POUSO EM LOCAL N\\u00c3O PREVISTO\",\"VOO CONTROLADO CONTRA O TERRENO\",\"\",\"\",\"\",\"\",\"\",\"\",\"\",\"\",\"\",\"\",\"\",\"\",\"\",\"\",\"\",\"\",\"\",\"\",\"\",\"\",\"\",\"\",\"\",\"\",\"\",\"\",\"\",\"\",\"\",\"\",\"\",\"\",\"\",\"\",\"\",\"\",\"\",\"\",\"\",\"\",\"\",\"\",\"\",\"\",\"\",\"\",\"\",\"\",\"\",\"\",\"\",\"\",\"\",\"\",\"\",\"\",\"\",\"\",\"\",\"\",\"\",\"\",\"\",\"\",\"\"],\"values\":[1,1,1,1,1,4,2,1,1,1,1,1,3,5,1,1,4,1,1,5,17,1,7,2,1,6,5,1,1,1,2,1,1,1,4,1,1,1,7,9,1,3,1,1,17,9,3,1,1,1,1,1,1,6,1,1,1,1,1,2,1,1,2,1,1,1,1,1,1,1,1,1,1,4,1,1,1,4,1,1,11,1,2,1,6,29,2,1,1,3,3,2,4,1,1,20,13,3,3,3,2,1,5,1,1,1,1,8,1,1,2,2,2,1,4,1,1,1,1,8,2,1,1,3,7,40,4,1,1,5,1,4,1,10,1,1,31,9,1,1,5,3,4,1,1,6,1,6,4,18,1,10,8,1,5,10,7,1,1,2,2,1,1,2,1,1,12,1,1,1,1,6,28,4,1,13,5,7,5,1,37,23,2,4,4,1,1,5,1,3,5,2,2,4,1,2,6,24,1,2,2,11,8,10,6,12,6,1,3,5,2,3,1,1,1,2,2,1,1,1,1,3,1,1,2,4,1,3,1,1,5,1,1,1,1,15,1,2,2,5,2,1,4,23,1,5,1,11,1,7,3,4,1,1,26,15,2,2,2,2,1,1,2,1,4,2,1,1,2,10,2,2,3,1,11,7,1,1,2,1,5,1,1,2,1,1,1,6,1,3,1,1,1,1,1,4,1,1,1,2,3,1,6,1,1,2,4,2,1,1,14,3,1,1,4,1,13,18,1,3,8,10,4,4,33,33,3,5,1,2,1,1,2,1,2,4,1,2,4,4,8,1,1,6,1,1,1,2,10,5,2,1,1,1,1,1,3,1,1,1,2,2,4,1,19,2,2,4,4,2,2,1,16,1,1,2,2,2,27,71,2,8,1,1,1,2,16,1,8,8,17,1,1,1,69,44,1,14,2,11,6,2,1,2,1,4,3,7,1,1,4,1,1,1,1,2,1,11,7,7,3,10,119,20,8,1,2,2,1,9,9,2,2,3,3,56,5,1,3,3,3,4,5,97,343,1,6,38,2,1,3,1,1,4,5,109,4,64,1,47,61,2,11,2,1,315,193,13,1,37,22,35,26,2,3,1,2,2,31],\"type\":\"treemap\"}],                        {\"template\":{\"data\":{\"bar\":[{\"error_x\":{\"color\":\"#2a3f5f\"},\"error_y\":{\"color\":\"#2a3f5f\"},\"marker\":{\"line\":{\"color\":\"#E5ECF6\",\"width\":0.5},\"pattern\":{\"fillmode\":\"overlay\",\"size\":10,\"solidity\":0.2}},\"type\":\"bar\"}],\"barpolar\":[{\"marker\":{\"line\":{\"color\":\"#E5ECF6\",\"width\":0.5},\"pattern\":{\"fillmode\":\"overlay\",\"size\":10,\"solidity\":0.2}},\"type\":\"barpolar\"}],\"carpet\":[{\"aaxis\":{\"endlinecolor\":\"#2a3f5f\",\"gridcolor\":\"white\",\"linecolor\":\"white\",\"minorgridcolor\":\"white\",\"startlinecolor\":\"#2a3f5f\"},\"baxis\":{\"endlinecolor\":\"#2a3f5f\",\"gridcolor\":\"white\",\"linecolor\":\"white\",\"minorgridcolor\":\"white\",\"startlinecolor\":\"#2a3f5f\"},\"type\":\"carpet\"}],\"choropleth\":[{\"colorbar\":{\"outlinewidth\":0,\"ticks\":\"\"},\"type\":\"choropleth\"}],\"contour\":[{\"colorbar\":{\"outlinewidth\":0,\"ticks\":\"\"},\"colorscale\":[[0.0,\"#0d0887\"],[0.1111111111111111,\"#46039f\"],[0.2222222222222222,\"#7201a8\"],[0.3333333333333333,\"#9c179e\"],[0.4444444444444444,\"#bd3786\"],[0.5555555555555556,\"#d8576b\"],[0.6666666666666666,\"#ed7953\"],[0.7777777777777778,\"#fb9f3a\"],[0.8888888888888888,\"#fdca26\"],[1.0,\"#f0f921\"]],\"type\":\"contour\"}],\"contourcarpet\":[{\"colorbar\":{\"outlinewidth\":0,\"ticks\":\"\"},\"type\":\"contourcarpet\"}],\"heatmap\":[{\"colorbar\":{\"outlinewidth\":0,\"ticks\":\"\"},\"colorscale\":[[0.0,\"#0d0887\"],[0.1111111111111111,\"#46039f\"],[0.2222222222222222,\"#7201a8\"],[0.3333333333333333,\"#9c179e\"],[0.4444444444444444,\"#bd3786\"],[0.5555555555555556,\"#d8576b\"],[0.6666666666666666,\"#ed7953\"],[0.7777777777777778,\"#fb9f3a\"],[0.8888888888888888,\"#fdca26\"],[1.0,\"#f0f921\"]],\"type\":\"heatmap\"}],\"heatmapgl\":[{\"colorbar\":{\"outlinewidth\":0,\"ticks\":\"\"},\"colorscale\":[[0.0,\"#0d0887\"],[0.1111111111111111,\"#46039f\"],[0.2222222222222222,\"#7201a8\"],[0.3333333333333333,\"#9c179e\"],[0.4444444444444444,\"#bd3786\"],[0.5555555555555556,\"#d8576b\"],[0.6666666666666666,\"#ed7953\"],[0.7777777777777778,\"#fb9f3a\"],[0.8888888888888888,\"#fdca26\"],[1.0,\"#f0f921\"]],\"type\":\"heatmapgl\"}],\"histogram\":[{\"marker\":{\"pattern\":{\"fillmode\":\"overlay\",\"size\":10,\"solidity\":0.2}},\"type\":\"histogram\"}],\"histogram2d\":[{\"colorbar\":{\"outlinewidth\":0,\"ticks\":\"\"},\"colorscale\":[[0.0,\"#0d0887\"],[0.1111111111111111,\"#46039f\"],[0.2222222222222222,\"#7201a8\"],[0.3333333333333333,\"#9c179e\"],[0.4444444444444444,\"#bd3786\"],[0.5555555555555556,\"#d8576b\"],[0.6666666666666666,\"#ed7953\"],[0.7777777777777778,\"#fb9f3a\"],[0.8888888888888888,\"#fdca26\"],[1.0,\"#f0f921\"]],\"type\":\"histogram2d\"}],\"histogram2dcontour\":[{\"colorbar\":{\"outlinewidth\":0,\"ticks\":\"\"},\"colorscale\":[[0.0,\"#0d0887\"],[0.1111111111111111,\"#46039f\"],[0.2222222222222222,\"#7201a8\"],[0.3333333333333333,\"#9c179e\"],[0.4444444444444444,\"#bd3786\"],[0.5555555555555556,\"#d8576b\"],[0.6666666666666666,\"#ed7953\"],[0.7777777777777778,\"#fb9f3a\"],[0.8888888888888888,\"#fdca26\"],[1.0,\"#f0f921\"]],\"type\":\"histogram2dcontour\"}],\"mesh3d\":[{\"colorbar\":{\"outlinewidth\":0,\"ticks\":\"\"},\"type\":\"mesh3d\"}],\"parcoords\":[{\"line\":{\"colorbar\":{\"outlinewidth\":0,\"ticks\":\"\"}},\"type\":\"parcoords\"}],\"pie\":[{\"automargin\":true,\"type\":\"pie\"}],\"scatter\":[{\"marker\":{\"colorbar\":{\"outlinewidth\":0,\"ticks\":\"\"}},\"type\":\"scatter\"}],\"scatter3d\":[{\"line\":{\"colorbar\":{\"outlinewidth\":0,\"ticks\":\"\"}},\"marker\":{\"colorbar\":{\"outlinewidth\":0,\"ticks\":\"\"}},\"type\":\"scatter3d\"}],\"scattercarpet\":[{\"marker\":{\"colorbar\":{\"outlinewidth\":0,\"ticks\":\"\"}},\"type\":\"scattercarpet\"}],\"scattergeo\":[{\"marker\":{\"colorbar\":{\"outlinewidth\":0,\"ticks\":\"\"}},\"type\":\"scattergeo\"}],\"scattergl\":[{\"marker\":{\"colorbar\":{\"outlinewidth\":0,\"ticks\":\"\"}},\"type\":\"scattergl\"}],\"scattermapbox\":[{\"marker\":{\"colorbar\":{\"outlinewidth\":0,\"ticks\":\"\"}},\"type\":\"scattermapbox\"}],\"scatterpolar\":[{\"marker\":{\"colorbar\":{\"outlinewidth\":0,\"ticks\":\"\"}},\"type\":\"scatterpolar\"}],\"scatterpolargl\":[{\"marker\":{\"colorbar\":{\"outlinewidth\":0,\"ticks\":\"\"}},\"type\":\"scatterpolargl\"}],\"scatterternary\":[{\"marker\":{\"colorbar\":{\"outlinewidth\":0,\"ticks\":\"\"}},\"type\":\"scatterternary\"}],\"surface\":[{\"colorbar\":{\"outlinewidth\":0,\"ticks\":\"\"},\"colorscale\":[[0.0,\"#0d0887\"],[0.1111111111111111,\"#46039f\"],[0.2222222222222222,\"#7201a8\"],[0.3333333333333333,\"#9c179e\"],[0.4444444444444444,\"#bd3786\"],[0.5555555555555556,\"#d8576b\"],[0.6666666666666666,\"#ed7953\"],[0.7777777777777778,\"#fb9f3a\"],[0.8888888888888888,\"#fdca26\"],[1.0,\"#f0f921\"]],\"type\":\"surface\"}],\"table\":[{\"cells\":{\"fill\":{\"color\":\"#EBF0F8\"},\"line\":{\"color\":\"white\"}},\"header\":{\"fill\":{\"color\":\"#C8D4E3\"},\"line\":{\"color\":\"white\"}},\"type\":\"table\"}]},\"layout\":{\"annotationdefaults\":{\"arrowcolor\":\"#2a3f5f\",\"arrowhead\":0,\"arrowwidth\":1},\"autotypenumbers\":\"strict\",\"coloraxis\":{\"colorbar\":{\"outlinewidth\":0,\"ticks\":\"\"}},\"colorscale\":{\"diverging\":[[0,\"#8e0152\"],[0.1,\"#c51b7d\"],[0.2,\"#de77ae\"],[0.3,\"#f1b6da\"],[0.4,\"#fde0ef\"],[0.5,\"#f7f7f7\"],[0.6,\"#e6f5d0\"],[0.7,\"#b8e186\"],[0.8,\"#7fbc41\"],[0.9,\"#4d9221\"],[1,\"#276419\"]],\"sequential\":[[0.0,\"#0d0887\"],[0.1111111111111111,\"#46039f\"],[0.2222222222222222,\"#7201a8\"],[0.3333333333333333,\"#9c179e\"],[0.4444444444444444,\"#bd3786\"],[0.5555555555555556,\"#d8576b\"],[0.6666666666666666,\"#ed7953\"],[0.7777777777777778,\"#fb9f3a\"],[0.8888888888888888,\"#fdca26\"],[1.0,\"#f0f921\"]],\"sequentialminus\":[[0.0,\"#0d0887\"],[0.1111111111111111,\"#46039f\"],[0.2222222222222222,\"#7201a8\"],[0.3333333333333333,\"#9c179e\"],[0.4444444444444444,\"#bd3786\"],[0.5555555555555556,\"#d8576b\"],[0.6666666666666666,\"#ed7953\"],[0.7777777777777778,\"#fb9f3a\"],[0.8888888888888888,\"#fdca26\"],[1.0,\"#f0f921\"]]},\"colorway\":[\"#636efa\",\"#EF553B\",\"#00cc96\",\"#ab63fa\",\"#FFA15A\",\"#19d3f3\",\"#FF6692\",\"#B6E880\",\"#FF97FF\",\"#FECB52\"],\"font\":{\"color\":\"#2a3f5f\"},\"geo\":{\"bgcolor\":\"white\",\"lakecolor\":\"white\",\"landcolor\":\"#E5ECF6\",\"showlakes\":true,\"showland\":true,\"subunitcolor\":\"white\"},\"hoverlabel\":{\"align\":\"left\"},\"hovermode\":\"closest\",\"mapbox\":{\"style\":\"light\"},\"paper_bgcolor\":\"white\",\"plot_bgcolor\":\"#E5ECF6\",\"polar\":{\"angularaxis\":{\"gridcolor\":\"white\",\"linecolor\":\"white\",\"ticks\":\"\"},\"bgcolor\":\"#E5ECF6\",\"radialaxis\":{\"gridcolor\":\"white\",\"linecolor\":\"white\",\"ticks\":\"\"}},\"scene\":{\"xaxis\":{\"backgroundcolor\":\"#E5ECF6\",\"gridcolor\":\"white\",\"gridwidth\":2,\"linecolor\":\"white\",\"showbackground\":true,\"ticks\":\"\",\"zerolinecolor\":\"white\"},\"yaxis\":{\"backgroundcolor\":\"#E5ECF6\",\"gridcolor\":\"white\",\"gridwidth\":2,\"linecolor\":\"white\",\"showbackground\":true,\"ticks\":\"\",\"zerolinecolor\":\"white\"},\"zaxis\":{\"backgroundcolor\":\"#E5ECF6\",\"gridcolor\":\"white\",\"gridwidth\":2,\"linecolor\":\"white\",\"showbackground\":true,\"ticks\":\"\",\"zerolinecolor\":\"white\"}},\"shapedefaults\":{\"line\":{\"color\":\"#2a3f5f\"}},\"ternary\":{\"aaxis\":{\"gridcolor\":\"white\",\"linecolor\":\"white\",\"ticks\":\"\"},\"baxis\":{\"gridcolor\":\"white\",\"linecolor\":\"white\",\"ticks\":\"\"},\"bgcolor\":\"#E5ECF6\",\"caxis\":{\"gridcolor\":\"white\",\"linecolor\":\"white\",\"ticks\":\"\"}},\"title\":{\"x\":0.05},\"xaxis\":{\"automargin\":true,\"gridcolor\":\"white\",\"linecolor\":\"white\",\"ticks\":\"\",\"title\":{\"standoff\":15},\"zerolinecolor\":\"white\",\"zerolinewidth\":2},\"yaxis\":{\"automargin\":true,\"gridcolor\":\"white\",\"linecolor\":\"white\",\"ticks\":\"\",\"title\":{\"standoff\":15},\"zerolinecolor\":\"white\",\"zerolinewidth\":2}}},\"legend\":{\"tracegroupgap\":0},\"margin\":{\"t\":60}},                        {\"responsive\": true}                    ).then(function(){\n",
              "                            \n",
              "var gd = document.getElementById('c112bbb0-b0a4-4b96-8ac8-0e461a28e3ad');\n",
              "var x = new MutationObserver(function (mutations, observer) {{\n",
              "        var display = window.getComputedStyle(gd).display;\n",
              "        if (!display || display === 'none') {{\n",
              "            console.log([gd, 'removed!']);\n",
              "            Plotly.purge(gd);\n",
              "            observer.disconnect();\n",
              "        }}\n",
              "}});\n",
              "\n",
              "// Listen for the removal of the full notebook cells\n",
              "var notebookContainer = gd.closest('#notebook-container');\n",
              "if (notebookContainer) {{\n",
              "    x.observe(notebookContainer, {childList: true});\n",
              "}}\n",
              "\n",
              "// Listen for the clearing of the current output cell\n",
              "var outputEl = gd.closest('.output');\n",
              "if (outputEl) {{\n",
              "    x.observe(outputEl, {childList: true});\n",
              "}}\n",
              "\n",
              "                        })                };                            </script>        </div>\n",
              "</body>\n",
              "</html>"
            ]
          },
          "metadata": {}
        }
      ],
      "source": [
        "#Ocorrência por cidade de São Paulo\n",
        "group_tipo = amostra_acidente_tipo.groupby(['ocorrencia_uf', 'ocorrencia_tipo']).count() \n",
        "group_tipo  = group_tipo .reset_index()\n",
        "fig = px.treemap(group_tipo,path=['ocorrencia_tipo','ocorrencia_uf'], values='codigo_ocorrencia')\n",
        "fig.show()"
      ]
    },
    {
      "cell_type": "markdown",
      "source": [
        "No treemap é possível observar o tipo de ocorrência por estado. As causas dos acidentes mais relatadas foram falha do motor em voo (SP e MG),perda de controle em voo (SP e MT ), perda de controle no solo (SP e MG). \n"
      ],
      "metadata": {
        "id": "fdNcjjSSalEt"
      }
    },
    {
      "cell_type": "markdown",
      "source": [
        "##6) Qual é o número de ocorrências de acidente por ano?\n"
      ],
      "metadata": {
        "id": "K7DQtB-RYY-M"
      }
    },
    {
      "cell_type": "code",
      "source": [
        "amostra_acidente['ocorrencia_dia'] = pd.to_datetime(amostra_acidente['ocorrencia_dia'],errors = 'coerce')\n",
        "amostra_acidente['ano'] = amostra_acidente['ocorrencia_dia'].dt.year"
      ],
      "metadata": {
        "id": "x5aKuaXb4Z4m"
      },
      "execution_count": null,
      "outputs": []
    },
    {
      "cell_type": "code",
      "source": [
        "amostra_acidente.count()"
      ],
      "metadata": {
        "colab": {
          "base_uri": "https://localhost:8080/"
        },
        "id": "ZfZfjwpy-Bzp",
        "outputId": "699eb0b2-02b3-49e7-e907-17794e7f6bdc"
      },
      "execution_count": null,
      "outputs": [
        {
          "output_type": "execute_result",
          "data": {
            "text/plain": [
              "codigo_ocorrencia                 1678\n",
              "codigo_ocorrencia1                1678\n",
              "codigo_ocorrencia2                1678\n",
              "codigo_ocorrencia3                1678\n",
              "codigo_ocorrencia4                1678\n",
              "ocorrencia_classificacao          1678\n",
              "ocorrencia_latitude               1676\n",
              "ocorrencia_longitude              1676\n",
              "ocorrencia_cidade                 1678\n",
              "ocorrencia_uf                     1678\n",
              "ocorrencia_pais                   1678\n",
              "ocorrencia_aerodromo              1678\n",
              "ocorrencia_dia                    1678\n",
              "ocorrencia_hora                   1678\n",
              "investigacao_aeronave_liberada    1592\n",
              "investigacao_status               1493\n",
              "divulgacao_relatorio_numero       1465\n",
              "divulgacao_relatorio_publicado    1678\n",
              "divulgacao_dia_publicacao         1035\n",
              "total_recomendacoes               1678\n",
              "total_aeronaves_envolvidas        1678\n",
              "ocorrencia_saida_pista            1678\n",
              "aeronave_nivel_dano               1678\n",
              "aeronave_tipo_veiculo             1678\n",
              "ano                               1678\n",
              "dtype: int64"
            ]
          },
          "metadata": {},
          "execution_count": 248
        }
      ]
    },
    {
      "cell_type": "code",
      "source": [
        "grupo_ano = amostra_acidente[['ano', 'total_aeronaves_envolvidas','codigo_ocorrencia']].groupby(['ano']).count()\n",
        "\n",
        "fig = px.bar(grupo_ano, x=grupo_ano.index, \n",
        "             y=grupo_ano.codigo_ocorrencia, \n",
        "             orientation='v', \n",
        "             text_auto = True,         \n",
        "             height=400,\n",
        "             title='Número de ocorrências por ano')\n",
        "\n",
        "fig.update_xaxes(title= 'Ano')\n",
        "fig.update_yaxes(title= 'Ocorrências')    \n",
        "    \n",
        "fig.update_layout(\n",
        "    height=400,\n",
        "    showlegend=True,    \n",
        "    width = 800,\n",
        "   \n",
        ")"
      ],
      "metadata": {
        "colab": {
          "base_uri": "https://localhost:8080/",
          "height": 417
        },
        "id": "aFM0xO8V4aDG",
        "outputId": "b028afe8-89e3-4939-9354-11514b9370b8"
      },
      "execution_count": null,
      "outputs": [
        {
          "output_type": "display_data",
          "data": {
            "text/html": [
              "<html>\n",
              "<head><meta charset=\"utf-8\" /></head>\n",
              "<body>\n",
              "    <div>            <script src=\"https://cdnjs.cloudflare.com/ajax/libs/mathjax/2.7.5/MathJax.js?config=TeX-AMS-MML_SVG\"></script><script type=\"text/javascript\">if (window.MathJax) {MathJax.Hub.Config({SVG: {font: \"STIX-Web\"}});}</script>                <script type=\"text/javascript\">window.PlotlyConfig = {MathJaxConfig: 'local'};</script>\n",
              "        <script src=\"https://cdn.plot.ly/plotly-2.8.3.min.js\"></script>                <div id=\"14ad63bf-d079-4696-a2ae-134b816b3aa1\" class=\"plotly-graph-div\" style=\"height:400px; width:800px;\"></div>            <script type=\"text/javascript\">                                    window.PLOTLYENV=window.PLOTLYENV || {};                                    if (document.getElementById(\"14ad63bf-d079-4696-a2ae-134b816b3aa1\")) {                    Plotly.newPlot(                        \"14ad63bf-d079-4696-a2ae-134b816b3aa1\",                        [{\"alignmentgroup\":\"True\",\"hovertemplate\":\"ano=%{x}<br>codigo_ocorrencia=%{y}<extra></extra>\",\"legendgroup\":\"\",\"marker\":{\"color\":\"#636efa\",\"pattern\":{\"shape\":\"\"}},\"name\":\"\",\"offsetgroup\":\"\",\"orientation\":\"v\",\"showlegend\":false,\"textposition\":\"auto\",\"texttemplate\":\"%{y}\",\"x\":[2012,2013,2014,2015,2016,2017,2018,2019,2020,2021],\"xaxis\":\"x\",\"y\":[206,199,180,172,167,146,166,150,150,142],\"yaxis\":\"y\",\"type\":\"bar\"}],                        {\"template\":{\"data\":{\"bar\":[{\"error_x\":{\"color\":\"#2a3f5f\"},\"error_y\":{\"color\":\"#2a3f5f\"},\"marker\":{\"line\":{\"color\":\"#E5ECF6\",\"width\":0.5},\"pattern\":{\"fillmode\":\"overlay\",\"size\":10,\"solidity\":0.2}},\"type\":\"bar\"}],\"barpolar\":[{\"marker\":{\"line\":{\"color\":\"#E5ECF6\",\"width\":0.5},\"pattern\":{\"fillmode\":\"overlay\",\"size\":10,\"solidity\":0.2}},\"type\":\"barpolar\"}],\"carpet\":[{\"aaxis\":{\"endlinecolor\":\"#2a3f5f\",\"gridcolor\":\"white\",\"linecolor\":\"white\",\"minorgridcolor\":\"white\",\"startlinecolor\":\"#2a3f5f\"},\"baxis\":{\"endlinecolor\":\"#2a3f5f\",\"gridcolor\":\"white\",\"linecolor\":\"white\",\"minorgridcolor\":\"white\",\"startlinecolor\":\"#2a3f5f\"},\"type\":\"carpet\"}],\"choropleth\":[{\"colorbar\":{\"outlinewidth\":0,\"ticks\":\"\"},\"type\":\"choropleth\"}],\"contour\":[{\"colorbar\":{\"outlinewidth\":0,\"ticks\":\"\"},\"colorscale\":[[0.0,\"#0d0887\"],[0.1111111111111111,\"#46039f\"],[0.2222222222222222,\"#7201a8\"],[0.3333333333333333,\"#9c179e\"],[0.4444444444444444,\"#bd3786\"],[0.5555555555555556,\"#d8576b\"],[0.6666666666666666,\"#ed7953\"],[0.7777777777777778,\"#fb9f3a\"],[0.8888888888888888,\"#fdca26\"],[1.0,\"#f0f921\"]],\"type\":\"contour\"}],\"contourcarpet\":[{\"colorbar\":{\"outlinewidth\":0,\"ticks\":\"\"},\"type\":\"contourcarpet\"}],\"heatmap\":[{\"colorbar\":{\"outlinewidth\":0,\"ticks\":\"\"},\"colorscale\":[[0.0,\"#0d0887\"],[0.1111111111111111,\"#46039f\"],[0.2222222222222222,\"#7201a8\"],[0.3333333333333333,\"#9c179e\"],[0.4444444444444444,\"#bd3786\"],[0.5555555555555556,\"#d8576b\"],[0.6666666666666666,\"#ed7953\"],[0.7777777777777778,\"#fb9f3a\"],[0.8888888888888888,\"#fdca26\"],[1.0,\"#f0f921\"]],\"type\":\"heatmap\"}],\"heatmapgl\":[{\"colorbar\":{\"outlinewidth\":0,\"ticks\":\"\"},\"colorscale\":[[0.0,\"#0d0887\"],[0.1111111111111111,\"#46039f\"],[0.2222222222222222,\"#7201a8\"],[0.3333333333333333,\"#9c179e\"],[0.4444444444444444,\"#bd3786\"],[0.5555555555555556,\"#d8576b\"],[0.6666666666666666,\"#ed7953\"],[0.7777777777777778,\"#fb9f3a\"],[0.8888888888888888,\"#fdca26\"],[1.0,\"#f0f921\"]],\"type\":\"heatmapgl\"}],\"histogram\":[{\"marker\":{\"pattern\":{\"fillmode\":\"overlay\",\"size\":10,\"solidity\":0.2}},\"type\":\"histogram\"}],\"histogram2d\":[{\"colorbar\":{\"outlinewidth\":0,\"ticks\":\"\"},\"colorscale\":[[0.0,\"#0d0887\"],[0.1111111111111111,\"#46039f\"],[0.2222222222222222,\"#7201a8\"],[0.3333333333333333,\"#9c179e\"],[0.4444444444444444,\"#bd3786\"],[0.5555555555555556,\"#d8576b\"],[0.6666666666666666,\"#ed7953\"],[0.7777777777777778,\"#fb9f3a\"],[0.8888888888888888,\"#fdca26\"],[1.0,\"#f0f921\"]],\"type\":\"histogram2d\"}],\"histogram2dcontour\":[{\"colorbar\":{\"outlinewidth\":0,\"ticks\":\"\"},\"colorscale\":[[0.0,\"#0d0887\"],[0.1111111111111111,\"#46039f\"],[0.2222222222222222,\"#7201a8\"],[0.3333333333333333,\"#9c179e\"],[0.4444444444444444,\"#bd3786\"],[0.5555555555555556,\"#d8576b\"],[0.6666666666666666,\"#ed7953\"],[0.7777777777777778,\"#fb9f3a\"],[0.8888888888888888,\"#fdca26\"],[1.0,\"#f0f921\"]],\"type\":\"histogram2dcontour\"}],\"mesh3d\":[{\"colorbar\":{\"outlinewidth\":0,\"ticks\":\"\"},\"type\":\"mesh3d\"}],\"parcoords\":[{\"line\":{\"colorbar\":{\"outlinewidth\":0,\"ticks\":\"\"}},\"type\":\"parcoords\"}],\"pie\":[{\"automargin\":true,\"type\":\"pie\"}],\"scatter\":[{\"marker\":{\"colorbar\":{\"outlinewidth\":0,\"ticks\":\"\"}},\"type\":\"scatter\"}],\"scatter3d\":[{\"line\":{\"colorbar\":{\"outlinewidth\":0,\"ticks\":\"\"}},\"marker\":{\"colorbar\":{\"outlinewidth\":0,\"ticks\":\"\"}},\"type\":\"scatter3d\"}],\"scattercarpet\":[{\"marker\":{\"colorbar\":{\"outlinewidth\":0,\"ticks\":\"\"}},\"type\":\"scattercarpet\"}],\"scattergeo\":[{\"marker\":{\"colorbar\":{\"outlinewidth\":0,\"ticks\":\"\"}},\"type\":\"scattergeo\"}],\"scattergl\":[{\"marker\":{\"colorbar\":{\"outlinewidth\":0,\"ticks\":\"\"}},\"type\":\"scattergl\"}],\"scattermapbox\":[{\"marker\":{\"colorbar\":{\"outlinewidth\":0,\"ticks\":\"\"}},\"type\":\"scattermapbox\"}],\"scatterpolar\":[{\"marker\":{\"colorbar\":{\"outlinewidth\":0,\"ticks\":\"\"}},\"type\":\"scatterpolar\"}],\"scatterpolargl\":[{\"marker\":{\"colorbar\":{\"outlinewidth\":0,\"ticks\":\"\"}},\"type\":\"scatterpolargl\"}],\"scatterternary\":[{\"marker\":{\"colorbar\":{\"outlinewidth\":0,\"ticks\":\"\"}},\"type\":\"scatterternary\"}],\"surface\":[{\"colorbar\":{\"outlinewidth\":0,\"ticks\":\"\"},\"colorscale\":[[0.0,\"#0d0887\"],[0.1111111111111111,\"#46039f\"],[0.2222222222222222,\"#7201a8\"],[0.3333333333333333,\"#9c179e\"],[0.4444444444444444,\"#bd3786\"],[0.5555555555555556,\"#d8576b\"],[0.6666666666666666,\"#ed7953\"],[0.7777777777777778,\"#fb9f3a\"],[0.8888888888888888,\"#fdca26\"],[1.0,\"#f0f921\"]],\"type\":\"surface\"}],\"table\":[{\"cells\":{\"fill\":{\"color\":\"#EBF0F8\"},\"line\":{\"color\":\"white\"}},\"header\":{\"fill\":{\"color\":\"#C8D4E3\"},\"line\":{\"color\":\"white\"}},\"type\":\"table\"}]},\"layout\":{\"annotationdefaults\":{\"arrowcolor\":\"#2a3f5f\",\"arrowhead\":0,\"arrowwidth\":1},\"autotypenumbers\":\"strict\",\"coloraxis\":{\"colorbar\":{\"outlinewidth\":0,\"ticks\":\"\"}},\"colorscale\":{\"diverging\":[[0,\"#8e0152\"],[0.1,\"#c51b7d\"],[0.2,\"#de77ae\"],[0.3,\"#f1b6da\"],[0.4,\"#fde0ef\"],[0.5,\"#f7f7f7\"],[0.6,\"#e6f5d0\"],[0.7,\"#b8e186\"],[0.8,\"#7fbc41\"],[0.9,\"#4d9221\"],[1,\"#276419\"]],\"sequential\":[[0.0,\"#0d0887\"],[0.1111111111111111,\"#46039f\"],[0.2222222222222222,\"#7201a8\"],[0.3333333333333333,\"#9c179e\"],[0.4444444444444444,\"#bd3786\"],[0.5555555555555556,\"#d8576b\"],[0.6666666666666666,\"#ed7953\"],[0.7777777777777778,\"#fb9f3a\"],[0.8888888888888888,\"#fdca26\"],[1.0,\"#f0f921\"]],\"sequentialminus\":[[0.0,\"#0d0887\"],[0.1111111111111111,\"#46039f\"],[0.2222222222222222,\"#7201a8\"],[0.3333333333333333,\"#9c179e\"],[0.4444444444444444,\"#bd3786\"],[0.5555555555555556,\"#d8576b\"],[0.6666666666666666,\"#ed7953\"],[0.7777777777777778,\"#fb9f3a\"],[0.8888888888888888,\"#fdca26\"],[1.0,\"#f0f921\"]]},\"colorway\":[\"#636efa\",\"#EF553B\",\"#00cc96\",\"#ab63fa\",\"#FFA15A\",\"#19d3f3\",\"#FF6692\",\"#B6E880\",\"#FF97FF\",\"#FECB52\"],\"font\":{\"color\":\"#2a3f5f\"},\"geo\":{\"bgcolor\":\"white\",\"lakecolor\":\"white\",\"landcolor\":\"#E5ECF6\",\"showlakes\":true,\"showland\":true,\"subunitcolor\":\"white\"},\"hoverlabel\":{\"align\":\"left\"},\"hovermode\":\"closest\",\"mapbox\":{\"style\":\"light\"},\"paper_bgcolor\":\"white\",\"plot_bgcolor\":\"#E5ECF6\",\"polar\":{\"angularaxis\":{\"gridcolor\":\"white\",\"linecolor\":\"white\",\"ticks\":\"\"},\"bgcolor\":\"#E5ECF6\",\"radialaxis\":{\"gridcolor\":\"white\",\"linecolor\":\"white\",\"ticks\":\"\"}},\"scene\":{\"xaxis\":{\"backgroundcolor\":\"#E5ECF6\",\"gridcolor\":\"white\",\"gridwidth\":2,\"linecolor\":\"white\",\"showbackground\":true,\"ticks\":\"\",\"zerolinecolor\":\"white\"},\"yaxis\":{\"backgroundcolor\":\"#E5ECF6\",\"gridcolor\":\"white\",\"gridwidth\":2,\"linecolor\":\"white\",\"showbackground\":true,\"ticks\":\"\",\"zerolinecolor\":\"white\"},\"zaxis\":{\"backgroundcolor\":\"#E5ECF6\",\"gridcolor\":\"white\",\"gridwidth\":2,\"linecolor\":\"white\",\"showbackground\":true,\"ticks\":\"\",\"zerolinecolor\":\"white\"}},\"shapedefaults\":{\"line\":{\"color\":\"#2a3f5f\"}},\"ternary\":{\"aaxis\":{\"gridcolor\":\"white\",\"linecolor\":\"white\",\"ticks\":\"\"},\"baxis\":{\"gridcolor\":\"white\",\"linecolor\":\"white\",\"ticks\":\"\"},\"bgcolor\":\"#E5ECF6\",\"caxis\":{\"gridcolor\":\"white\",\"linecolor\":\"white\",\"ticks\":\"\"}},\"title\":{\"x\":0.05},\"xaxis\":{\"automargin\":true,\"gridcolor\":\"white\",\"linecolor\":\"white\",\"ticks\":\"\",\"title\":{\"standoff\":15},\"zerolinecolor\":\"white\",\"zerolinewidth\":2},\"yaxis\":{\"automargin\":true,\"gridcolor\":\"white\",\"linecolor\":\"white\",\"ticks\":\"\",\"title\":{\"standoff\":15},\"zerolinecolor\":\"white\",\"zerolinewidth\":2}}},\"xaxis\":{\"anchor\":\"y\",\"domain\":[0.0,1.0],\"title\":{\"text\":\"Ano\"}},\"yaxis\":{\"anchor\":\"x\",\"domain\":[0.0,1.0],\"title\":{\"text\":\"Ocorr\\u00eancias\"}},\"legend\":{\"tracegroupgap\":0},\"title\":{\"text\":\"N\\u00famero de ocorr\\u00eancias por ano\"},\"barmode\":\"relative\",\"height\":400,\"showlegend\":true,\"width\":800},                        {\"responsive\": true}                    ).then(function(){\n",
              "                            \n",
              "var gd = document.getElementById('14ad63bf-d079-4696-a2ae-134b816b3aa1');\n",
              "var x = new MutationObserver(function (mutations, observer) {{\n",
              "        var display = window.getComputedStyle(gd).display;\n",
              "        if (!display || display === 'none') {{\n",
              "            console.log([gd, 'removed!']);\n",
              "            Plotly.purge(gd);\n",
              "            observer.disconnect();\n",
              "        }}\n",
              "}});\n",
              "\n",
              "// Listen for the removal of the full notebook cells\n",
              "var notebookContainer = gd.closest('#notebook-container');\n",
              "if (notebookContainer) {{\n",
              "    x.observe(notebookContainer, {childList: true});\n",
              "}}\n",
              "\n",
              "// Listen for the clearing of the current output cell\n",
              "var outputEl = gd.closest('.output');\n",
              "if (outputEl) {{\n",
              "    x.observe(outputEl, {childList: true});\n",
              "}}\n",
              "\n",
              "                        })                };                            </script>        </div>\n",
              "</body>\n",
              "</html>"
            ]
          },
          "metadata": {}
        }
      ]
    },
    {
      "cell_type": "markdown",
      "source": [
        "Em relação a  série temporal dos acidentes, ocorreu  redução dos casos registrados entre os anos de 2012 (206 acidentes) à 2021(142 acidentes). Em 2018 ocorreu um ligeiro aumento. \n"
      ],
      "metadata": {
        "id": "8L-2csH4Dznq"
      }
    }
  ],
  "metadata": {
    "accelerator": "GPU",
    "colab": {
      "name": "versão final.ipynb",
      "provenance": [],
      "collapsed_sections": []
    },
    "kernelspec": {
      "display_name": "Python 3",
      "name": "python3"
    },
    "language_info": {
      "name": "python"
    }
  },
  "nbformat": 4,
  "nbformat_minor": 0
}